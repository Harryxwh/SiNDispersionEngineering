{
 "cells": [
  {
   "cell_type": "code",
   "execution_count": 172,
   "metadata": {},
   "outputs": [],
   "source": [
    "import numpy as np\n",
    "import pandas as pd\n",
    "import matplotlib.pyplot as plt\n",
    "from Functions import *"
   ]
  },
  {
   "cell_type": "code",
   "execution_count": 173,
   "metadata": {},
   "outputs": [],
   "source": [
    "filename = \"./results/Scanning_L_lower_and_gapx_width_0_3_2_3_gapx_2_5_3_5.csv\""
   ]
  },
  {
   "cell_type": "code",
   "execution_count": 174,
   "metadata": {},
   "outputs": [],
   "source": [
    "Beta_Upper_ring = 5983.180936564255       # L_inner = 2.8um"
   ]
  },
  {
   "cell_type": "code",
   "execution_count": 175,
   "metadata": {},
   "outputs": [],
   "source": [
    "Y_data      = ()\n",
    "gap_arr     = []\n",
    "L_arr       = []\n",
    "data_arr    = []\n",
    "data_arr_zero_loc_list = []"
   ]
  },
  {
   "cell_type": "code",
   "execution_count": 176,
   "metadata": {},
   "outputs": [],
   "source": [
    "df              = pd.read_csv(filename)\n",
    "gap_arr         = df[\"gap/L_lower\"]\n",
    "num_of_gap_pts  = len(gap_arr)"
   ]
  },
  {
   "cell_type": "code",
   "execution_count": 177,
   "metadata": {},
   "outputs": [
    {
     "data": {
      "application/vnd.microsoft.datawrangler.viewer.v0+json": {
       "columns": [
        {
         "name": "index",
         "rawType": "int64",
         "type": "integer"
        },
        {
         "name": "gap/L_lower",
         "rawType": "float64",
         "type": "float"
        },
        {
         "name": "2.5",
         "rawType": "float64",
         "type": "float"
        },
        {
         "name": "2.6",
         "rawType": "float64",
         "type": "float"
        },
        {
         "name": "2.7",
         "rawType": "float64",
         "type": "float"
        },
        {
         "name": "2.8",
         "rawType": "float64",
         "type": "float"
        },
        {
         "name": "2.9",
         "rawType": "float64",
         "type": "float"
        },
        {
         "name": "3",
         "rawType": "float64",
         "type": "float"
        },
        {
         "name": "3.1",
         "rawType": "float64",
         "type": "float"
        },
        {
         "name": "3.2",
         "rawType": "float64",
         "type": "float"
        },
        {
         "name": "3.3",
         "rawType": "float64",
         "type": "float"
        },
        {
         "name": "3.4",
         "rawType": "float64",
         "type": "float"
        },
        {
         "name": "3.5",
         "rawType": "float64",
         "type": "float"
        }
       ],
       "conversionMethod": "pd.DataFrame",
       "ref": "f034680e-f035-4242-8635-ac45e18b5462",
       "rows": [
        [
         "0",
         "0.3",
         "5971.908102182415",
         "5975.307124108595",
         "5978.463852542951",
         "5981.39898731142",
         "5984.131444657619",
         "5986.678457018626",
         "5989.055691304728",
         "5991.27737401487",
         "5993.356416026296",
         "5995.304532798858",
         "5997.132357445537"
        ],
        [
         "1",
         "0.4",
         "5971.310759165792",
         "5974.709442410994",
         "5977.865856610289",
         "5980.800699520449",
         "5983.532885477942",
         "5986.079645211977",
         "5988.456644067185",
         "5990.678107112699",
         "5992.8556416026295",
         "5994.704868879548",
         "5996.532513944447"
        ],
        [
         "2",
         "0.5",
         "5970.71341614045",
         "5974.11176070787",
         "5977.267860674375",
         "5980.202411723036",
         "5982.934326297796",
         "5985.480833405845",
         "5987.857596827896",
         "5990.078840216604",
         "5992.157471886481",
         "5994.105204963339",
         "5995.932670447003"
        ],
        [
         "3",
         "0.6",
         "5970.116073129207",
         "5973.514079015918",
         "5976.669864747671",
         "5979.604123933565",
         "5982.33576712479",
         "5984.882021606321",
         "5987.258549594881",
         "5989.479573324577",
         "5991.557999823945",
         "5993.50554105328",
         "5995.332826955804"
        ],
        [
         "4",
         "0.7",
         "5969.518730120686",
         "5972.916397326805",
         "5976.071868823967",
         "5979.005836147267",
         "5981.737207955147",
         "5984.283209810355",
         "5986.659502365682",
         "5988.880306436612",
         "5990.958527765752",
         "5992.905877147838",
         "5994.732983469561"
        ],
        [
         "5",
         "0.8",
         "5968.921387114819",
         "5972.318715640487",
         "5975.473872903212",
         "5978.407548364109",
         "5981.13864878883",
         "5983.684398017938",
         "5986.060455140243",
         "5988.281039552673",
         "5990.359055711868",
         "5992.30621324702",
         "5994.133139988246"
        ],
        [
         "6",
         "0.9",
         "5968.324044111666",
         "5971.721033957009",
         "5974.875876985453",
         "5977.809260584109",
         "5980.540089625868",
         "5983.085586229084",
         "5985.461407918621",
         "5987.681772672788",
         "5989.75958366231",
         "5991.706549350832",
         "5993.533296511897"
        ],
        [
         "7",
         "1.0",
         "5967.726701111204",
         "5971.12335227637",
         "5974.27788107065",
         "5977.210972807245",
         "5979.941530466249",
         "5982.486774443781",
         "5984.862360700782",
         "5987.082505796964",
         "5989.160111617081",
         "5991.106885459274",
         "5992.933453040497"
        ],
        [
         "8",
         "1.1",
         "5967.129358113425",
         "5970.525670598518",
         "5973.679885158852",
         "5976.61268503354",
         "5979.342971309959",
         "5981.887962662044",
         "5984.26331348673",
         "5986.483238925188",
         "5988.560639576182",
         "5990.50722157235",
         "5992.333609574049"
        ],
        [
         "9",
         "1.2",
         "5966.532015118358",
         "5969.927988923517",
         "5973.081889250019",
         "5976.014397262996",
         "5978.744412157043",
         "5981.289150883887",
         "5983.66426627649",
         "5985.883972057457",
         "5987.961167539621",
         "5989.907557690052",
         "5991.733766112575"
        ],
        [
         "10",
         "1.3",
         "5965.934672125988",
         "5969.330307251358",
         "5972.483893344191",
         "5975.416109495598",
         "5978.145853007458",
         "5980.69033910925",
         "5983.06521907004",
         "5985.284705193782",
         "5987.361695507397",
         "5989.307893812399",
         "5991.133922656045"
        ],
        [
         "11",
         "1.4",
         "5965.337329136312",
         "5968.732625582006",
         "5971.885897441311",
         "5974.817821731363",
         "5977.547293861225",
         "5980.091527338219",
         "5982.466171867394",
         "5984.685438334174",
         "5986.762223479494",
         "5988.708229939387",
         "5990.534079204474"
        ],
        [
         "12",
         "1.5",
         "5964.739986149331",
         "5968.134943915488",
         "5971.287901541433",
         "5974.219533970263",
         "5976.948734718327",
         "5979.492715570721",
         "5981.867124668539",
         "5984.086171478604",
         "5986.16275145594",
         "5988.108566070977",
         "5989.934235757856"
        ],
        [
         "13",
         "1.6",
         "5964.142643165051",
         "5967.5372622518",
         "5970.689905644514",
         "5973.621246212336",
         "5976.350175578804",
         "5978.893903806812",
         "5981.268077473508",
         "5983.486904627116",
         "5985.563279436715",
         "5987.50890220725",
         "5989.334392316224"
        ],
        [
         "14",
         "1.7",
         "5963.545300183457",
         "5966.939580590962",
         "5970.091909750603",
         "5973.022958457574",
         "5975.751616442612",
         "5978.295092046462",
         "5980.66903028225",
         "5982.887637779666",
         "5984.963807421835",
         "5986.909238348128",
         "5988.734548879534"
        ],
        [
         "15",
         "1.8",
         "5962.947957204581",
         "5966.341898932932",
         "5969.493913859676",
         "5972.424670705961",
         "5975.153057309776",
         "5977.696280289674",
         "5980.069983094809",
         "5982.288370936288",
         "5984.36433541127",
         "5986.309574493658",
         "5988.134705447816"
        ],
        [
         "16",
         "1.9",
         "5962.350614228398",
         "5965.744217277728",
         "5968.895917971716",
         "5971.826382957493",
         "5974.554498180297",
         "5977.097468536449",
         "5979.470935911173",
         "5981.689104096968",
         "5983.764863405062",
         "5985.709910643823",
         "5987.534862021044"
        ],
        [
         "17",
         "2.0",
         "5961.753271254943",
         "5965.146535625388",
         "5968.297922086764",
         "5971.228095212219",
         "5973.955939054201",
         "5976.498656786805",
         "5978.871888731329",
         "5981.08983726172",
         "5983.165391403203",
         "5985.110246798649",
         "5986.935018599283"
        ],
        [
         "18",
         "2.1",
         "5961.155928284164",
         "5964.548853975877",
         "5967.699926204787",
         "5970.62980747007",
         "5973.357379931425",
         "5975.899845040733",
         "5978.272841555317",
         "5980.490570430519",
         "5982.565919405683",
         "5984.510582958118",
         "5986.33517518248"
        ],
        [
         "19",
         "2.2",
         "5960.558585316087",
         "5963.951172329182",
         "5967.10193032582",
         "5970.031519731101",
         "5972.758820812003",
         "5975.301033298219",
         "5977.673794383084",
         "5979.89130360341",
         "5981.966447412509",
         "5983.910919122219",
         "5985.73533177062"
        ],
        [
         "20",
         "2.3",
         "5959.961242350723",
         "5963.353490685329",
         "5966.503934449811",
         "5969.433231995289",
         "5972.160261695954",
         "5974.702221559285",
         "5977.074747214683",
         "5979.292036780334",
         "5981.366975423677",
         "5983.311255290977",
         "5985.135488363746"
        ]
       ],
       "shape": {
        "columns": 12,
        "rows": 21
       }
      },
      "text/html": [
       "<div>\n",
       "<style scoped>\n",
       "    .dataframe tbody tr th:only-of-type {\n",
       "        vertical-align: middle;\n",
       "    }\n",
       "\n",
       "    .dataframe tbody tr th {\n",
       "        vertical-align: top;\n",
       "    }\n",
       "\n",
       "    .dataframe thead th {\n",
       "        text-align: right;\n",
       "    }\n",
       "</style>\n",
       "<table border=\"1\" class=\"dataframe\">\n",
       "  <thead>\n",
       "    <tr style=\"text-align: right;\">\n",
       "      <th></th>\n",
       "      <th>gap/L_lower</th>\n",
       "      <th>2.5</th>\n",
       "      <th>2.6</th>\n",
       "      <th>2.7</th>\n",
       "      <th>2.8</th>\n",
       "      <th>2.9</th>\n",
       "      <th>3</th>\n",
       "      <th>3.1</th>\n",
       "      <th>3.2</th>\n",
       "      <th>3.3</th>\n",
       "      <th>3.4</th>\n",
       "      <th>3.5</th>\n",
       "    </tr>\n",
       "  </thead>\n",
       "  <tbody>\n",
       "    <tr>\n",
       "      <th>0</th>\n",
       "      <td>0.3</td>\n",
       "      <td>5971.908102</td>\n",
       "      <td>5975.307124</td>\n",
       "      <td>5978.463853</td>\n",
       "      <td>5981.398987</td>\n",
       "      <td>5984.131445</td>\n",
       "      <td>5986.678457</td>\n",
       "      <td>5989.055691</td>\n",
       "      <td>5991.277374</td>\n",
       "      <td>5993.356416</td>\n",
       "      <td>5995.304533</td>\n",
       "      <td>5997.132357</td>\n",
       "    </tr>\n",
       "    <tr>\n",
       "      <th>1</th>\n",
       "      <td>0.4</td>\n",
       "      <td>5971.310759</td>\n",
       "      <td>5974.709442</td>\n",
       "      <td>5977.865857</td>\n",
       "      <td>5980.800700</td>\n",
       "      <td>5983.532885</td>\n",
       "      <td>5986.079645</td>\n",
       "      <td>5988.456644</td>\n",
       "      <td>5990.678107</td>\n",
       "      <td>5992.855642</td>\n",
       "      <td>5994.704869</td>\n",
       "      <td>5996.532514</td>\n",
       "    </tr>\n",
       "    <tr>\n",
       "      <th>2</th>\n",
       "      <td>0.5</td>\n",
       "      <td>5970.713416</td>\n",
       "      <td>5974.111761</td>\n",
       "      <td>5977.267861</td>\n",
       "      <td>5980.202412</td>\n",
       "      <td>5982.934326</td>\n",
       "      <td>5985.480833</td>\n",
       "      <td>5987.857597</td>\n",
       "      <td>5990.078840</td>\n",
       "      <td>5992.157472</td>\n",
       "      <td>5994.105205</td>\n",
       "      <td>5995.932670</td>\n",
       "    </tr>\n",
       "    <tr>\n",
       "      <th>3</th>\n",
       "      <td>0.6</td>\n",
       "      <td>5970.116073</td>\n",
       "      <td>5973.514079</td>\n",
       "      <td>5976.669865</td>\n",
       "      <td>5979.604124</td>\n",
       "      <td>5982.335767</td>\n",
       "      <td>5984.882022</td>\n",
       "      <td>5987.258550</td>\n",
       "      <td>5989.479573</td>\n",
       "      <td>5991.558000</td>\n",
       "      <td>5993.505541</td>\n",
       "      <td>5995.332827</td>\n",
       "    </tr>\n",
       "    <tr>\n",
       "      <th>4</th>\n",
       "      <td>0.7</td>\n",
       "      <td>5969.518730</td>\n",
       "      <td>5972.916397</td>\n",
       "      <td>5976.071869</td>\n",
       "      <td>5979.005836</td>\n",
       "      <td>5981.737208</td>\n",
       "      <td>5984.283210</td>\n",
       "      <td>5986.659502</td>\n",
       "      <td>5988.880306</td>\n",
       "      <td>5990.958528</td>\n",
       "      <td>5992.905877</td>\n",
       "      <td>5994.732983</td>\n",
       "    </tr>\n",
       "    <tr>\n",
       "      <th>5</th>\n",
       "      <td>0.8</td>\n",
       "      <td>5968.921387</td>\n",
       "      <td>5972.318716</td>\n",
       "      <td>5975.473873</td>\n",
       "      <td>5978.407548</td>\n",
       "      <td>5981.138649</td>\n",
       "      <td>5983.684398</td>\n",
       "      <td>5986.060455</td>\n",
       "      <td>5988.281040</td>\n",
       "      <td>5990.359056</td>\n",
       "      <td>5992.306213</td>\n",
       "      <td>5994.133140</td>\n",
       "    </tr>\n",
       "    <tr>\n",
       "      <th>6</th>\n",
       "      <td>0.9</td>\n",
       "      <td>5968.324044</td>\n",
       "      <td>5971.721034</td>\n",
       "      <td>5974.875877</td>\n",
       "      <td>5977.809261</td>\n",
       "      <td>5980.540090</td>\n",
       "      <td>5983.085586</td>\n",
       "      <td>5985.461408</td>\n",
       "      <td>5987.681773</td>\n",
       "      <td>5989.759584</td>\n",
       "      <td>5991.706549</td>\n",
       "      <td>5993.533297</td>\n",
       "    </tr>\n",
       "    <tr>\n",
       "      <th>7</th>\n",
       "      <td>1.0</td>\n",
       "      <td>5967.726701</td>\n",
       "      <td>5971.123352</td>\n",
       "      <td>5974.277881</td>\n",
       "      <td>5977.210973</td>\n",
       "      <td>5979.941530</td>\n",
       "      <td>5982.486774</td>\n",
       "      <td>5984.862361</td>\n",
       "      <td>5987.082506</td>\n",
       "      <td>5989.160112</td>\n",
       "      <td>5991.106885</td>\n",
       "      <td>5992.933453</td>\n",
       "    </tr>\n",
       "    <tr>\n",
       "      <th>8</th>\n",
       "      <td>1.1</td>\n",
       "      <td>5967.129358</td>\n",
       "      <td>5970.525671</td>\n",
       "      <td>5973.679885</td>\n",
       "      <td>5976.612685</td>\n",
       "      <td>5979.342971</td>\n",
       "      <td>5981.887963</td>\n",
       "      <td>5984.263313</td>\n",
       "      <td>5986.483239</td>\n",
       "      <td>5988.560640</td>\n",
       "      <td>5990.507222</td>\n",
       "      <td>5992.333610</td>\n",
       "    </tr>\n",
       "    <tr>\n",
       "      <th>9</th>\n",
       "      <td>1.2</td>\n",
       "      <td>5966.532015</td>\n",
       "      <td>5969.927989</td>\n",
       "      <td>5973.081889</td>\n",
       "      <td>5976.014397</td>\n",
       "      <td>5978.744412</td>\n",
       "      <td>5981.289151</td>\n",
       "      <td>5983.664266</td>\n",
       "      <td>5985.883972</td>\n",
       "      <td>5987.961168</td>\n",
       "      <td>5989.907558</td>\n",
       "      <td>5991.733766</td>\n",
       "    </tr>\n",
       "    <tr>\n",
       "      <th>10</th>\n",
       "      <td>1.3</td>\n",
       "      <td>5965.934672</td>\n",
       "      <td>5969.330307</td>\n",
       "      <td>5972.483893</td>\n",
       "      <td>5975.416109</td>\n",
       "      <td>5978.145853</td>\n",
       "      <td>5980.690339</td>\n",
       "      <td>5983.065219</td>\n",
       "      <td>5985.284705</td>\n",
       "      <td>5987.361696</td>\n",
       "      <td>5989.307894</td>\n",
       "      <td>5991.133923</td>\n",
       "    </tr>\n",
       "    <tr>\n",
       "      <th>11</th>\n",
       "      <td>1.4</td>\n",
       "      <td>5965.337329</td>\n",
       "      <td>5968.732626</td>\n",
       "      <td>5971.885897</td>\n",
       "      <td>5974.817822</td>\n",
       "      <td>5977.547294</td>\n",
       "      <td>5980.091527</td>\n",
       "      <td>5982.466172</td>\n",
       "      <td>5984.685438</td>\n",
       "      <td>5986.762223</td>\n",
       "      <td>5988.708230</td>\n",
       "      <td>5990.534079</td>\n",
       "    </tr>\n",
       "    <tr>\n",
       "      <th>12</th>\n",
       "      <td>1.5</td>\n",
       "      <td>5964.739986</td>\n",
       "      <td>5968.134944</td>\n",
       "      <td>5971.287902</td>\n",
       "      <td>5974.219534</td>\n",
       "      <td>5976.948735</td>\n",
       "      <td>5979.492716</td>\n",
       "      <td>5981.867125</td>\n",
       "      <td>5984.086171</td>\n",
       "      <td>5986.162751</td>\n",
       "      <td>5988.108566</td>\n",
       "      <td>5989.934236</td>\n",
       "    </tr>\n",
       "    <tr>\n",
       "      <th>13</th>\n",
       "      <td>1.6</td>\n",
       "      <td>5964.142643</td>\n",
       "      <td>5967.537262</td>\n",
       "      <td>5970.689906</td>\n",
       "      <td>5973.621246</td>\n",
       "      <td>5976.350176</td>\n",
       "      <td>5978.893904</td>\n",
       "      <td>5981.268077</td>\n",
       "      <td>5983.486905</td>\n",
       "      <td>5985.563279</td>\n",
       "      <td>5987.508902</td>\n",
       "      <td>5989.334392</td>\n",
       "    </tr>\n",
       "    <tr>\n",
       "      <th>14</th>\n",
       "      <td>1.7</td>\n",
       "      <td>5963.545300</td>\n",
       "      <td>5966.939581</td>\n",
       "      <td>5970.091910</td>\n",
       "      <td>5973.022958</td>\n",
       "      <td>5975.751616</td>\n",
       "      <td>5978.295092</td>\n",
       "      <td>5980.669030</td>\n",
       "      <td>5982.887638</td>\n",
       "      <td>5984.963807</td>\n",
       "      <td>5986.909238</td>\n",
       "      <td>5988.734549</td>\n",
       "    </tr>\n",
       "    <tr>\n",
       "      <th>15</th>\n",
       "      <td>1.8</td>\n",
       "      <td>5962.947957</td>\n",
       "      <td>5966.341899</td>\n",
       "      <td>5969.493914</td>\n",
       "      <td>5972.424671</td>\n",
       "      <td>5975.153057</td>\n",
       "      <td>5977.696280</td>\n",
       "      <td>5980.069983</td>\n",
       "      <td>5982.288371</td>\n",
       "      <td>5984.364335</td>\n",
       "      <td>5986.309574</td>\n",
       "      <td>5988.134705</td>\n",
       "    </tr>\n",
       "    <tr>\n",
       "      <th>16</th>\n",
       "      <td>1.9</td>\n",
       "      <td>5962.350614</td>\n",
       "      <td>5965.744217</td>\n",
       "      <td>5968.895918</td>\n",
       "      <td>5971.826383</td>\n",
       "      <td>5974.554498</td>\n",
       "      <td>5977.097469</td>\n",
       "      <td>5979.470936</td>\n",
       "      <td>5981.689104</td>\n",
       "      <td>5983.764863</td>\n",
       "      <td>5985.709911</td>\n",
       "      <td>5987.534862</td>\n",
       "    </tr>\n",
       "    <tr>\n",
       "      <th>17</th>\n",
       "      <td>2.0</td>\n",
       "      <td>5961.753271</td>\n",
       "      <td>5965.146536</td>\n",
       "      <td>5968.297922</td>\n",
       "      <td>5971.228095</td>\n",
       "      <td>5973.955939</td>\n",
       "      <td>5976.498657</td>\n",
       "      <td>5978.871889</td>\n",
       "      <td>5981.089837</td>\n",
       "      <td>5983.165391</td>\n",
       "      <td>5985.110247</td>\n",
       "      <td>5986.935019</td>\n",
       "    </tr>\n",
       "    <tr>\n",
       "      <th>18</th>\n",
       "      <td>2.1</td>\n",
       "      <td>5961.155928</td>\n",
       "      <td>5964.548854</td>\n",
       "      <td>5967.699926</td>\n",
       "      <td>5970.629807</td>\n",
       "      <td>5973.357380</td>\n",
       "      <td>5975.899845</td>\n",
       "      <td>5978.272842</td>\n",
       "      <td>5980.490570</td>\n",
       "      <td>5982.565919</td>\n",
       "      <td>5984.510583</td>\n",
       "      <td>5986.335175</td>\n",
       "    </tr>\n",
       "    <tr>\n",
       "      <th>19</th>\n",
       "      <td>2.2</td>\n",
       "      <td>5960.558585</td>\n",
       "      <td>5963.951172</td>\n",
       "      <td>5967.101930</td>\n",
       "      <td>5970.031520</td>\n",
       "      <td>5972.758821</td>\n",
       "      <td>5975.301033</td>\n",
       "      <td>5977.673794</td>\n",
       "      <td>5979.891304</td>\n",
       "      <td>5981.966447</td>\n",
       "      <td>5983.910919</td>\n",
       "      <td>5985.735332</td>\n",
       "    </tr>\n",
       "    <tr>\n",
       "      <th>20</th>\n",
       "      <td>2.3</td>\n",
       "      <td>5959.961242</td>\n",
       "      <td>5963.353491</td>\n",
       "      <td>5966.503934</td>\n",
       "      <td>5969.433232</td>\n",
       "      <td>5972.160262</td>\n",
       "      <td>5974.702222</td>\n",
       "      <td>5977.074747</td>\n",
       "      <td>5979.292037</td>\n",
       "      <td>5981.366975</td>\n",
       "      <td>5983.311255</td>\n",
       "      <td>5985.135488</td>\n",
       "    </tr>\n",
       "  </tbody>\n",
       "</table>\n",
       "</div>"
      ],
      "text/plain": [
       "    gap/L_lower          2.5          2.6          2.7          2.8  \\\n",
       "0           0.3  5971.908102  5975.307124  5978.463853  5981.398987   \n",
       "1           0.4  5971.310759  5974.709442  5977.865857  5980.800700   \n",
       "2           0.5  5970.713416  5974.111761  5977.267861  5980.202412   \n",
       "3           0.6  5970.116073  5973.514079  5976.669865  5979.604124   \n",
       "4           0.7  5969.518730  5972.916397  5976.071869  5979.005836   \n",
       "5           0.8  5968.921387  5972.318716  5975.473873  5978.407548   \n",
       "6           0.9  5968.324044  5971.721034  5974.875877  5977.809261   \n",
       "7           1.0  5967.726701  5971.123352  5974.277881  5977.210973   \n",
       "8           1.1  5967.129358  5970.525671  5973.679885  5976.612685   \n",
       "9           1.2  5966.532015  5969.927989  5973.081889  5976.014397   \n",
       "10          1.3  5965.934672  5969.330307  5972.483893  5975.416109   \n",
       "11          1.4  5965.337329  5968.732626  5971.885897  5974.817822   \n",
       "12          1.5  5964.739986  5968.134944  5971.287902  5974.219534   \n",
       "13          1.6  5964.142643  5967.537262  5970.689906  5973.621246   \n",
       "14          1.7  5963.545300  5966.939581  5970.091910  5973.022958   \n",
       "15          1.8  5962.947957  5966.341899  5969.493914  5972.424671   \n",
       "16          1.9  5962.350614  5965.744217  5968.895918  5971.826383   \n",
       "17          2.0  5961.753271  5965.146536  5968.297922  5971.228095   \n",
       "18          2.1  5961.155928  5964.548854  5967.699926  5970.629807   \n",
       "19          2.2  5960.558585  5963.951172  5967.101930  5970.031520   \n",
       "20          2.3  5959.961242  5963.353491  5966.503934  5969.433232   \n",
       "\n",
       "            2.9            3          3.1          3.2          3.3  \\\n",
       "0   5984.131445  5986.678457  5989.055691  5991.277374  5993.356416   \n",
       "1   5983.532885  5986.079645  5988.456644  5990.678107  5992.855642   \n",
       "2   5982.934326  5985.480833  5987.857597  5990.078840  5992.157472   \n",
       "3   5982.335767  5984.882022  5987.258550  5989.479573  5991.558000   \n",
       "4   5981.737208  5984.283210  5986.659502  5988.880306  5990.958528   \n",
       "5   5981.138649  5983.684398  5986.060455  5988.281040  5990.359056   \n",
       "6   5980.540090  5983.085586  5985.461408  5987.681773  5989.759584   \n",
       "7   5979.941530  5982.486774  5984.862361  5987.082506  5989.160112   \n",
       "8   5979.342971  5981.887963  5984.263313  5986.483239  5988.560640   \n",
       "9   5978.744412  5981.289151  5983.664266  5985.883972  5987.961168   \n",
       "10  5978.145853  5980.690339  5983.065219  5985.284705  5987.361696   \n",
       "11  5977.547294  5980.091527  5982.466172  5984.685438  5986.762223   \n",
       "12  5976.948735  5979.492716  5981.867125  5984.086171  5986.162751   \n",
       "13  5976.350176  5978.893904  5981.268077  5983.486905  5985.563279   \n",
       "14  5975.751616  5978.295092  5980.669030  5982.887638  5984.963807   \n",
       "15  5975.153057  5977.696280  5980.069983  5982.288371  5984.364335   \n",
       "16  5974.554498  5977.097469  5979.470936  5981.689104  5983.764863   \n",
       "17  5973.955939  5976.498657  5978.871889  5981.089837  5983.165391   \n",
       "18  5973.357380  5975.899845  5978.272842  5980.490570  5982.565919   \n",
       "19  5972.758821  5975.301033  5977.673794  5979.891304  5981.966447   \n",
       "20  5972.160262  5974.702222  5977.074747  5979.292037  5981.366975   \n",
       "\n",
       "            3.4          3.5  \n",
       "0   5995.304533  5997.132357  \n",
       "1   5994.704869  5996.532514  \n",
       "2   5994.105205  5995.932670  \n",
       "3   5993.505541  5995.332827  \n",
       "4   5992.905877  5994.732983  \n",
       "5   5992.306213  5994.133140  \n",
       "6   5991.706549  5993.533297  \n",
       "7   5991.106885  5992.933453  \n",
       "8   5990.507222  5992.333610  \n",
       "9   5989.907558  5991.733766  \n",
       "10  5989.307894  5991.133923  \n",
       "11  5988.708230  5990.534079  \n",
       "12  5988.108566  5989.934236  \n",
       "13  5987.508902  5989.334392  \n",
       "14  5986.909238  5988.734549  \n",
       "15  5986.309574  5988.134705  \n",
       "16  5985.709911  5987.534862  \n",
       "17  5985.110247  5986.935019  \n",
       "18  5984.510583  5986.335175  \n",
       "19  5983.910919  5985.735332  \n",
       "20  5983.311255  5985.135488  "
      ]
     },
     "execution_count": 177,
     "metadata": {},
     "output_type": "execute_result"
    }
   ],
   "source": [
    "df"
   ]
  },
  {
   "cell_type": "code",
   "execution_count": 178,
   "metadata": {},
   "outputs": [],
   "source": [
    "# wavl_arr_ori    = wavl_arr[xticks_ori]\n",
    "# wavl_arr_ticks  = [\"{:.3f}\".format(wavl) for wavl in wavl_arr_ori]\n",
    "for column in df.columns[1:]:\n",
    "    L       = float(column)\n",
    "    L_arr.append(L)\n",
    "    data_arr.append(df[column]-Beta_Upper_ring)\n",
    "\n",
    "data_arr = np.array(data_arr)"
   ]
  },
  {
   "cell_type": "code",
   "execution_count": 179,
   "metadata": {},
   "outputs": [
    {
     "data": {
      "text/plain": [
       "array([[ 4.        ,  2.9       ,  1.58799351],\n",
       "       [ 5.        ,  3.        ,  5.84076744],\n",
       "       [ 6.        ,  3.1       ,  9.80683076],\n",
       "       [ 7.        ,  3.2       , 13.51057065],\n",
       "       [ 8.        ,  3.3       , 16.97406858]])"
      ]
     },
     "execution_count": 179,
     "metadata": {},
     "output_type": "execute_result"
    }
   ],
   "source": [
    "for i in range(np.shape(data_arr)[0]):\n",
    "    line = data_arr[i,:]\n",
    "\n",
    "    for j in range(len(line)-1):\n",
    "        if line[j] * line[j+1] < 0:\n",
    "            shift = np.abs(line[j])/(np.abs(line[j])+np.abs(line[j+1]))\n",
    "            data_arr_zero_loc_list.append([i,L_arr[i],j+shift])\n",
    "\n",
    "# data_arr_neg_mask = np.where(data_arr<0)\n",
    "# data_arr[data_arr_neg_mask] = -np.log10(-data_arr[data_arr_neg_mask])\n",
    "# data_arr_neg_mask = np.where(data_arr>0)\n",
    "# data_arr[data_arr_neg_mask] = np.log10(data_arr[data_arr_neg_mask])\n",
    "\n",
    "num_of_L_pts    = len(L_arr)\n",
    "xticks_ori      = np.arange(0,num_of_L_pts,1)\n",
    "\n",
    "data_arr_zero_loc_list = np.array(data_arr_zero_loc_list)\n",
    "data_arr_zero_loc_list"
   ]
  },
  {
   "cell_type": "code",
   "execution_count": 180,
   "metadata": {},
   "outputs": [],
   "source": [
    "width_arr_intp  = np.linspace(3.6,9,20)\n",
    "phase_matched_gap_intp = Interpol(data_arr_zero_loc_list[:,0],\n",
    "                                  data_arr_zero_loc_list[:,2],\n",
    "                                  width_arr_intp)"
   ]
  },
  {
   "cell_type": "code",
   "execution_count": 181,
   "metadata": {},
   "outputs": [
    {
     "data": {
      "text/plain": [
       "<matplotlib.colors.TwoSlopeNorm at 0x1688273f0>"
      ]
     },
     "execution_count": 181,
     "metadata": {},
     "output_type": "execute_result"
    }
   ],
   "source": [
    "from matplotlib.colors import TwoSlopeNorm\n",
    "fonttype        = \"Helvetica\"\n",
    "fontsize        = 5\n",
    "colormap        = \"bwr\"\n",
    "# colormap      = \"berlin\"\n",
    "figsize         = (10,8)\n",
    "cbar_num_of_pts = 6\n",
    "norm            = TwoSlopeNorm(vmin=np.min(data_arr), vcenter=0, vmax=np.max(data_arr))\n",
    "norm"
   ]
  },
  {
   "cell_type": "code",
   "execution_count": 182,
   "metadata": {},
   "outputs": [
    {
     "data": {
      "image/png": "[encoded data removed]",
      "text/plain": [
       "<Figure size 3000x2400 with 2 Axes>"
      ]
     },
     "metadata": {},
     "output_type": "display_data"
    }
   ],
   "source": [
    "\n",
    "fig, ax = plt.subplots(figsize=figsize,dpi=300)\n",
    "im      = ax.imshow(data_arr, cmap = colormap, norm = norm, aspect=1)\n",
    "ax.scatter(data_arr_zero_loc_list[:,2],data_arr_zero_loc_list[:,0], s=10, c='b', marker='^',)\n",
    "plt.plot(phase_matched_gap_intp,width_arr_intp, linewidth=0.5, linestyle = \"--\")\n",
    "\n",
    "cbar = fig.colorbar(im, ax=ax, orientation='horizontal',\n",
    "                    shrink=0.9, pad=0.1)  # shrink: 缩放比例，pad: 间距\n",
    "cbar.set_ticks(ticks_arr(data_arr))\n",
    "cbar.ax.tick_params(labelsize=fontsize*0.8)\n",
    "# cbar.set_label(r\"sgn(D) $\\log_{10}$($|D|$)\")\n",
    "cbar.set_label(r\"Propgation constant mismatch (rad/rad)\")\n",
    "\n",
    "plt.xticks(np.arange(0,num_of_gap_pts,1),gap_arr,fontproperties = fonttype, size = fontsize)\n",
    "plt.yticks(np.arange(0,num_of_L_pts,1),L_arr,fontproperties = fonttype, size = fontsize)\n",
    "plt.xlabel(r\"gap in x direction ($\\mu m$)\")\n",
    "plt.ylabel(r\"width ($\\mu m$)\")\n",
    "title = \"Phase-matching conditions of 3D concentric rings\"\n",
    "plt.title(title)\n",
    "plt.savefig(\"./results/\"+title+\".jpg\")\n",
    "plt.show()"
   ]
  },
  {
   "cell_type": "markdown",
   "metadata": {},
   "source": [
    "WG width: 2.9 um\n",
    "\n",
    "gapx: 1.58799351 um"
   ]
  },
  {
   "cell_type": "code",
   "execution_count": 183,
   "metadata": {},
   "outputs": [
    {
     "data": {
      "text/plain": [
       "array([0.85857864, 1.        , 1.14142136])"
      ]
     },
     "execution_count": 183,
     "metadata": {},
     "output_type": "execute_result"
    }
   ],
   "source": [
    "N = 3\n",
    "k = 0.1\n",
    "d = 1\n",
    "A = np.diag(np.ones(N-1)*k,1) + np.diag(np.ones(N-1)*k,-1) + np.diag(np.ones(N)*d,0)\n",
    "eigenvalues, eigenvectors = np.linalg.eig(A)\n",
    "eigenvalues"
   ]
  },
  {
   "cell_type": "code",
   "execution_count": 184,
   "metadata": {},
   "outputs": [
    {
     "data": {
      "text/plain": [
       "array([0.8381966, 0.9381966, 1.1618034, 1.0618034])"
      ]
     },
     "execution_count": 184,
     "metadata": {},
     "output_type": "execute_result"
    }
   ],
   "source": [
    "N = 4\n",
    "k = 0.1\n",
    "d = 1\n",
    "A = np.diag(np.ones(N-1)*k,1) + np.diag(np.ones(N-1)*k,-1) + np.diag(np.ones(N)*d,0)\n",
    "eigenvalues, eigenvectors = np.linalg.eig(A)\n",
    "eigenvalues"
   ]
  },
  {
   "cell_type": "markdown",
   "metadata": {},
   "source": []
  },
  {
   "cell_type": "code",
   "execution_count": 185,
   "metadata": {},
   "outputs": [
    {
     "data": {
      "application/vnd.microsoft.datawrangler.viewer.v0+json": {
       "columns": [
        {
         "name": "index",
         "rawType": "int64",
         "type": "integer"
        },
        {
         "name": "wavl",
         "rawType": "float64",
         "type": "float"
        },
        {
         "name": "AS(5.00,0.00)",
         "rawType": "float64",
         "type": "float"
        },
        {
         "name": "S(5.00,0.00)",
         "rawType": "float64",
         "type": "float"
        },
        {
         "name": "AS Double (5.00,0.00)",
         "rawType": "float64",
         "type": "float"
        },
        {
         "name": "S Double (5.00,0.00)",
         "rawType": "float64",
         "type": "float"
        }
       ],
       "conversionMethod": "pd.DataFrame",
       "ref": "4567b7c3-f016-44d5-8c47-67c30eea4512",
       "rows": [
        [
         "0",
         "1.502020202020202",
         "-609.8380830433907",
         "-609.8380830433907",
         "-609.8380830433907",
         "-609.8380830433907"
        ],
        [
         "1",
         "1.503030303030303",
         "-609.0869899058343",
         "-609.0869899058343",
         "-609.0869899058343",
         "-609.0869899058343"
        ],
        [
         "2",
         "1.504040404040404",
         "-608.3378582550886",
         "-608.3378582550886",
         "-608.3378582550886",
         "-608.3378582550886"
        ],
        [
         "3",
         "1.505050505050505",
         "-607.5906688864252",
         "-607.5906688864252",
         "-607.5906688864252",
         "-607.5906688864252"
        ],
        [
         "4",
         "1.506060606060606",
         "-606.8454025951232",
         "-606.8454025951232",
         "-606.8454025951232",
         "-606.8454025951232"
        ],
        [
         "5",
         "1.507070707070707",
         "-606.1020401764436",
         "-606.1020401764436",
         "-606.1020401764436",
         "-606.1020401764436"
        ],
        [
         "6",
         "1.508080808080808",
         "-605.3605624256488",
         "-605.3605624256488",
         "-605.3605624256488",
         "-605.3605624256488"
        ],
        [
         "7",
         "1.509090909090909",
         "-604.6209501380145",
         "-604.6209501380145",
         "-604.6209501380145",
         "-604.6209501380145"
        ],
        [
         "8",
         "1.5101010101010102",
         "-603.8831841088067",
         "-603.8831841088067",
         "-603.8831841088067",
         "-603.8831841088067"
        ],
        [
         "9",
         "1.511111111111111",
         "-603.147245133292",
         "-603.147245133292",
         "-603.147245133292",
         "-603.147245133292"
        ],
        [
         "10",
         "1.5121212121212122",
         "-602.4131140067366",
         "-602.4131140067366",
         "-602.4131140067366",
         "-602.4131140067366"
        ],
        [
         "11",
         "1.513131313131313",
         "-601.680771524414",
         "-601.680771524414",
         "-601.680771524414",
         "-601.680771524414"
        ],
        [
         "12",
         "1.5141414141414142",
         "-600.9501984815925",
         "-600.9501984815925",
         "-600.9501984815925",
         "-600.9501984815925"
        ],
        [
         "13",
         "1.5151515151515151",
         "-600.2213756735346",
         "-600.2213756735346",
         "-600.2213756735346",
         "-600.2213756735346"
        ],
        [
         "14",
         "1.5161616161616165",
         "-599.494283895514",
         "-599.494283895514",
         "-599.494283895514",
         "-599.494283895514"
        ],
        [
         "15",
         "1.5171717171717172",
         "-598.7689039427951",
         "-598.7689039427951",
         "-598.7689039427951",
         "-598.7689039427951"
        ],
        [
         "16",
         "1.5181818181818183",
         "-598.0452166106425",
         "-598.0452166106425",
         "-598.0452166106425",
         "-598.0452166106425"
        ],
        [
         "17",
         "1.5191919191919192",
         "-597.3232026943333",
         "-597.3232026943333",
         "-597.3232026943333",
         "-597.3232026943333"
        ],
        [
         "18",
         "1.5202020202020203",
         "-596.6028429891267",
         "-596.6028429891267",
         "-596.6028429891267",
         "-596.6028429891267"
        ],
        [
         "19",
         "1.5212121212121212",
         "-595.8841182903016",
         "-595.8841182903016",
         "-595.8841182903016",
         "-595.8841182903016"
        ],
        [
         "20",
         "1.522222222222222",
         "-595.1670093931152",
         "-595.1670093931152",
         "-595.1670093931152",
         "-595.1670093931152"
        ],
        [
         "21",
         "1.5232323232323233",
         "-594.4514970928394",
         "-594.4514970928394",
         "-594.4514970928394",
         "-594.4514970928394"
        ],
        [
         "22",
         "1.5242424242424242",
         "-593.7375621847459",
         "-593.7375621847459",
         "-593.7375621847459",
         "-593.7375621847459"
        ],
        [
         "23",
         "1.5252525252525253",
         "-593.0251854640937",
         "-593.0251854640937",
         "-593.0251854640937",
         "-593.0251854640937"
        ],
        [
         "24",
         "1.5262626262626262",
         "-592.3143477261638",
         "-592.3143477261638",
         "-592.3143477261638",
         "-592.3143477261638"
        ],
        [
         "25",
         "1.5272727272727271",
         "-591.605029766215",
         "-591.605029766215",
         "-591.605029766215",
         "-591.605029766215"
        ],
        [
         "26",
         "1.5282828282828282",
         "-590.8972123795156",
         "-590.8972123795156",
         "-590.8972123795156",
         "-590.8972123795156"
        ],
        [
         "27",
         "1.5292929292929294",
         "-590.1908763613337",
         "-590.1908763613337",
         "-590.1908763613337",
         "-590.1908763613337"
        ],
        [
         "28",
         "1.5303030303030305",
         "-589.4860025069484",
         "-589.4860025069484",
         "-589.4860025069484",
         "-589.4860025069484"
        ],
        [
         "29",
         "1.5313131313131314",
         "-588.7825716116113",
         "-588.7825716116113",
         "-588.7825716116113",
         "-588.7825716116113"
        ],
        [
         "30",
         "1.5323232323232323",
         "-588.0805644705979",
         "-588.0805644705979",
         "-588.0805644705979",
         "-588.0805644705979"
        ],
        [
         "31",
         "1.5333333333333334",
         "-587.3799618791818",
         "-587.3799618791818",
         "-587.3799618791818",
         "-587.3799618791818"
        ],
        [
         "32",
         "1.5343434343434343",
         "-586.6807446326238",
         "-586.6807446326238",
         "-586.6807446326238",
         "-586.6807446326238"
        ],
        [
         "33",
         "1.5353535353535357",
         "-585.9828935261903",
         "-585.9828935261903",
         "-585.9828935261903",
         "-585.9828935261903"
        ],
        [
         "34",
         "1.5363636363636364",
         "-585.2863893551548",
         "-585.2863893551548",
         "-585.2863893551548",
         "-585.2863893551548"
        ],
        [
         "35",
         "1.5373737373737375",
         "-584.5912129147891",
         "-584.5912129147891",
         "-584.5912129147891",
         "-584.5912129147891"
        ],
        [
         "36",
         "1.5383838383838384",
         "-583.897345000345",
         "-583.897345000345",
         "-583.897345000345",
         "-583.897345000345"
        ],
        [
         "37",
         "1.5393939393939395",
         "-583.2047664071051",
         "-583.2047664071051",
         "-583.2047664071051",
         "-583.2047664071051"
        ],
        [
         "38",
         "1.5404040404040404",
         "-582.5134579303412",
         "-582.5134579303412",
         "-582.5134579303412",
         "-582.5134579303412"
        ],
        [
         "39",
         "1.5414141414141411",
         "-581.8234003653051",
         "-581.8234003653051",
         "-581.8234003653051",
         "-581.8234003653051"
        ],
        [
         "40",
         "1.5424242424242425",
         "-581.1345745072722",
         "-581.1345745072722",
         "-581.1345745072722",
         "-581.1345745072722"
        ],
        [
         "41",
         "1.5434343434343434",
         "-580.4469611515233",
         "-580.4469611515233",
         "-580.4469611515233",
         "-580.4469611515233"
        ],
        [
         "42",
         "1.5444444444444445",
         "-579.7605410933065",
         "-579.7605410933065",
         "-579.7605410933065",
         "-579.7605410933065"
        ],
        [
         "43",
         "1.5454545454545454",
         "-579.0752951278973",
         "-579.0752951278973",
         "-579.0752951278973",
         "-579.0752951278973"
        ],
        [
         "44",
         "1.5464646464646463",
         "-578.3912040505693",
         "-578.3912040505693",
         "-578.3912040505693",
         "-578.3912040505693"
        ],
        [
         "45",
         "1.5474747474747474",
         "-577.708248656585",
         "-577.708248656585",
         "-577.708248656585",
         "-577.708248656585"
        ],
        [
         "46",
         "1.5484848484848486",
         "-577.026409741211",
         "-577.026409741211",
         "-577.026409741211",
         "-577.026409741211"
        ],
        [
         "47",
         "1.5494949494949497",
         "-576.3456680997224",
         "-576.3456680997224",
         "-576.3456680997224",
         "-576.3456680997224"
        ],
        [
         "48",
         "1.5505050505050506",
         "-575.6660045273838",
         "-575.6660045273838",
         "-575.6660045273838",
         "-575.6660045273838"
        ],
        [
         "49",
         "1.5515151515151515",
         "-574.9873998194544",
         "-574.9873998194544",
         "-574.9873998194544",
         "-574.9873998194544"
        ]
       ],
       "shape": {
        "columns": 5,
        "rows": 96
       }
      },
      "text/html": [
       "<div>\n",
       "<style scoped>\n",
       "    .dataframe tbody tr th:only-of-type {\n",
       "        vertical-align: middle;\n",
       "    }\n",
       "\n",
       "    .dataframe tbody tr th {\n",
       "        vertical-align: top;\n",
       "    }\n",
       "\n",
       "    .dataframe thead th {\n",
       "        text-align: right;\n",
       "    }\n",
       "</style>\n",
       "<table border=\"1\" class=\"dataframe\">\n",
       "  <thead>\n",
       "    <tr style=\"text-align: right;\">\n",
       "      <th></th>\n",
       "      <th>wavl</th>\n",
       "      <th>AS(5.00,0.00)</th>\n",
       "      <th>S(5.00,0.00)</th>\n",
       "      <th>AS Double (5.00,0.00)</th>\n",
       "      <th>S Double (5.00,0.00)</th>\n",
       "    </tr>\n",
       "  </thead>\n",
       "  <tbody>\n",
       "    <tr>\n",
       "      <th>0</th>\n",
       "      <td>1.502020</td>\n",
       "      <td>-609.838083</td>\n",
       "      <td>-609.838083</td>\n",
       "      <td>-609.838083</td>\n",
       "      <td>-609.838083</td>\n",
       "    </tr>\n",
       "    <tr>\n",
       "      <th>1</th>\n",
       "      <td>1.503030</td>\n",
       "      <td>-609.086990</td>\n",
       "      <td>-609.086990</td>\n",
       "      <td>-609.086990</td>\n",
       "      <td>-609.086990</td>\n",
       "    </tr>\n",
       "    <tr>\n",
       "      <th>2</th>\n",
       "      <td>1.504040</td>\n",
       "      <td>-608.337858</td>\n",
       "      <td>-608.337858</td>\n",
       "      <td>-608.337858</td>\n",
       "      <td>-608.337858</td>\n",
       "    </tr>\n",
       "    <tr>\n",
       "      <th>3</th>\n",
       "      <td>1.505051</td>\n",
       "      <td>-607.590669</td>\n",
       "      <td>-607.590669</td>\n",
       "      <td>-607.590669</td>\n",
       "      <td>-607.590669</td>\n",
       "    </tr>\n",
       "    <tr>\n",
       "      <th>4</th>\n",
       "      <td>1.506061</td>\n",
       "      <td>-606.845403</td>\n",
       "      <td>-606.845403</td>\n",
       "      <td>-606.845403</td>\n",
       "      <td>-606.845403</td>\n",
       "    </tr>\n",
       "    <tr>\n",
       "      <th>...</th>\n",
       "      <td>...</td>\n",
       "      <td>...</td>\n",
       "      <td>...</td>\n",
       "      <td>...</td>\n",
       "      <td>...</td>\n",
       "    </tr>\n",
       "    <tr>\n",
       "      <th>91</th>\n",
       "      <td>1.593939</td>\n",
       "      <td>-547.187809</td>\n",
       "      <td>-547.187809</td>\n",
       "      <td>-547.187809</td>\n",
       "      <td>-547.187809</td>\n",
       "    </tr>\n",
       "    <tr>\n",
       "      <th>92</th>\n",
       "      <td>1.594949</td>\n",
       "      <td>-546.536568</td>\n",
       "      <td>-546.536568</td>\n",
       "      <td>-546.536568</td>\n",
       "      <td>-546.536568</td>\n",
       "    </tr>\n",
       "    <tr>\n",
       "      <th>93</th>\n",
       "      <td>1.595960</td>\n",
       "      <td>-545.885541</td>\n",
       "      <td>-545.885541</td>\n",
       "      <td>-545.885541</td>\n",
       "      <td>-545.885541</td>\n",
       "    </tr>\n",
       "    <tr>\n",
       "      <th>94</th>\n",
       "      <td>1.596970</td>\n",
       "      <td>-545.234708</td>\n",
       "      <td>-545.234708</td>\n",
       "      <td>-545.234708</td>\n",
       "      <td>-545.234708</td>\n",
       "    </tr>\n",
       "    <tr>\n",
       "      <th>95</th>\n",
       "      <td>1.597980</td>\n",
       "      <td>-544.584051</td>\n",
       "      <td>-544.584051</td>\n",
       "      <td>-544.584051</td>\n",
       "      <td>-544.584051</td>\n",
       "    </tr>\n",
       "  </tbody>\n",
       "</table>\n",
       "<p>96 rows × 5 columns</p>\n",
       "</div>"
      ],
      "text/plain": [
       "        wavl  AS(5.00,0.00)  S(5.00,0.00)  AS Double (5.00,0.00)  \\\n",
       "0   1.502020    -609.838083   -609.838083            -609.838083   \n",
       "1   1.503030    -609.086990   -609.086990            -609.086990   \n",
       "2   1.504040    -608.337858   -608.337858            -608.337858   \n",
       "3   1.505051    -607.590669   -607.590669            -607.590669   \n",
       "4   1.506061    -606.845403   -606.845403            -606.845403   \n",
       "..       ...            ...           ...                    ...   \n",
       "91  1.593939    -547.187809   -547.187809            -547.187809   \n",
       "92  1.594949    -546.536568   -546.536568            -546.536568   \n",
       "93  1.595960    -545.885541   -545.885541            -545.885541   \n",
       "94  1.596970    -545.234708   -545.234708            -545.234708   \n",
       "95  1.597980    -544.584051   -544.584051            -544.584051   \n",
       "\n",
       "    S Double (5.00,0.00)  \n",
       "0            -609.838083  \n",
       "1            -609.086990  \n",
       "2            -608.337858  \n",
       "3            -607.590669  \n",
       "4            -606.845403  \n",
       "..                   ...  \n",
       "91           -547.187809  \n",
       "92           -546.536568  \n",
       "93           -545.885541  \n",
       "94           -545.234708  \n",
       "95           -544.584051  \n",
       "\n",
       "[96 rows x 5 columns]"
      ]
     },
     "execution_count": 185,
     "metadata": {},
     "output_type": "execute_result"
    }
   ],
   "source": [
    "filename_D_iso      = \"./results/Dispersion_isolated_WG.csv\"\n",
    "filename_D_coupled  = \"./results/Dispersion_coupled_WG.csv\"\n",
    "df_iso              = pd.read_csv(filename_D_iso)\n",
    "df_iso"
   ]
  },
  {
   "cell_type": "code",
   "execution_count": 186,
   "metadata": {},
   "outputs": [
    {
     "data": {
      "application/vnd.microsoft.datawrangler.viewer.v0+json": {
       "columns": [
        {
         "name": "index",
         "rawType": "int64",
         "type": "integer"
        },
        {
         "name": "wavl",
         "rawType": "float64",
         "type": "float"
        },
        {
         "name": "AS(5.00,0.00)",
         "rawType": "float64",
         "type": "float"
        },
        {
         "name": "S(5.00,0.00)",
         "rawType": "float64",
         "type": "float"
        },
        {
         "name": "AS Double (5.00,0.00)",
         "rawType": "float64",
         "type": "float"
        },
        {
         "name": "S Double (5.00,0.00)",
         "rawType": "float64",
         "type": "float"
        }
       ],
       "conversionMethod": "pd.DataFrame",
       "ref": "1692c19e-5ab2-4293-afee-c05685dda02a",
       "rows": [
        [
         "0",
         "1.502020202020202",
         "-562.2730567081884",
         "-657.4031093796555",
         "-514.7080303729862",
         "-704.9681357159203"
        ],
        [
         "1",
         "1.503030303030303",
         "-566.8474086203394",
         "-651.3265711923918",
         "-524.6078273348443",
         "-693.5661524789493"
        ],
        [
         "2",
         "1.504040404040404",
         "-571.4452667641201",
         "-645.230449745524",
         "-534.5526752731516",
         "-682.1230412359594"
        ],
        [
         "3",
         "1.505050505050505",
         "-576.0666408455384",
         "-639.1146969262352",
         "-544.5426128046515",
         "-670.6387249660452"
        ],
        [
         "4",
         "1.506060606060606",
         "-580.7115405587857",
         "-632.9792646319902",
         "-554.5776785224481",
         "-659.1131266688573"
        ],
        [
         "5",
         "1.507070707070707",
         "-585.3799755796225",
         "-626.8241047764844",
         "-564.6579109828014",
         "-647.5461693765253"
        ],
        [
         "6",
         "1.508080808080808",
         "-590.0717302980881",
         "-620.6493945537497",
         "-574.7828981705276",
         "-635.9382266818506"
        ],
        [
         "7",
         "1.509090909090909",
         "-594.4871787747862",
         "-614.7547214985523",
         "-584.3534074115579",
         "-624.8884928590902"
        ],
        [
         "8",
         "1.5101010101010102",
         "-597.4346984007864",
         "-610.3316698168271",
         "-590.986212692766",
         "-616.7801555248475"
        ],
        [
         "9",
         "1.511111111111111",
         "-598.1509931580666",
         "-608.1434971106747",
         "-593.1547411828412",
         "-613.1397490880576"
        ],
        [
         "10",
         "1.5121212121212122",
         "-597.6525581906989",
         "-607.1736698243986",
         "-592.892002374661",
         "-611.9342256420607"
        ],
        [
         "11",
         "1.513131313131313",
         "-596.9914410925007",
         "-606.3701019552504",
         "-592.3021106605875",
         "-611.0594323860869"
        ],
        [
         "12",
         "1.5141414141414142",
         "-596.332105730224",
         "-605.5682912329645",
         "-591.7140129788555",
         "-610.1863839843365"
        ],
        [
         "13",
         "1.5151515151515151",
         "-595.6745327011278",
         "-604.7682186481131",
         "-591.127689728721",
         "-609.3150616226917"
        ],
        [
         "14",
         "1.5161616161616165",
         "-595.0187026141481",
         "-603.9698651752518",
         "-590.5431213327823",
         "-608.4454464549898"
        ],
        [
         "15",
         "1.5171717171717172",
         "-594.3645961162034",
         "-603.1732117683063",
         "-589.9602882896116",
         "-607.5775195938176"
        ],
        [
         "16",
         "1.5181818181818183",
         "-593.7130360271647",
         "-602.3773971952115",
         "-589.3808554436868",
         "-606.7095777797807"
        ],
        [
         "17",
         "1.5191919191919192",
         "-593.2436322580714",
         "-601.4027731295039",
         "-589.1640618218096",
         "-605.4823435646745"
        ],
        [
         "18",
         "1.5202020202020203",
         "-593.5346811657639",
         "-599.671004812493",
         "-590.4665193424012",
         "-602.7391666358594"
        ],
        [
         "19",
         "1.5212121212121212",
         "-594.8636242460045",
         "-596.9046123345986",
         "-593.8431302017075",
         "-597.9251063788956"
        ],
        [
         "20",
         "1.522222222222222",
         "-596.7103101074022",
         "-593.6237086777334",
         "-598.2536108216891",
         "-592.0804079623516"
        ],
        [
         "21",
         "1.5232323232323233",
         "-598.622689686057",
         "-590.2803045007203",
         "-602.7938822792746",
         "-586.1091119086012"
        ],
        [
         "22",
         "1.5242424242424242",
         "-600.5467848996827",
         "-586.9283394698091",
         "-607.3560076146194",
         "-580.1191167548724"
        ],
        [
         "23",
         "1.5252525252525253",
         "-602.4825897813249",
         "-583.5677811457641",
         "-611.9399940985561",
         "-574.1103768274345"
        ],
        [
         "24",
         "1.5262626262626262",
         "-604.4300983328188",
         "-580.1985971206144",
         "-616.5458489394739",
         "-568.082846515065"
        ],
        [
         "25",
         "1.5272727272727271",
         "-606.3893045953924",
         "-576.8207549370376",
         "-621.1735794245699",
         "-562.0364801078601"
        ],
        [
         "26",
         "1.5282828282828282",
         "-608.3554652971131",
         "-573.4389594597068",
         "-625.8137182147105",
         "-555.9807065398979"
        ],
        [
         "27",
         "1.5292929292929294",
         "-609.9568011681483",
         "-570.4249515545191",
         "-629.7227259749628",
         "-550.6590267477046"
        ],
        [
         "28",
         "1.5303030303030305",
         "-610.2061257801473",
         "-568.7658792348551",
         "-630.9262490533463",
         "-548.0457559627617"
        ],
        [
         "29",
         "1.5313131313131314",
         "-608.785619072191",
         "-568.7795241510315",
         "-628.7886665327708",
         "-548.7764766904518"
        ],
        [
         "30",
         "1.5323232323232323",
         "-606.6185643661713",
         "-569.5425645750245",
         "-625.1565642617447",
         "-551.004564679451"
        ],
        [
         "31",
         "1.5333333333333334",
         "-604.3861643403806",
         "-570.373759417983",
         "-621.3923668015792",
         "-553.3675569567844"
        ],
        [
         "32",
         "1.5343434343434343",
         "-602.1486517507701",
         "-571.2128375144775",
         "-617.6165588689164",
         "-555.7449303963313"
        ],
        [
         "33",
         "1.5353535353535357",
         "-599.9059985683525",
         "-572.0597884840281",
         "-613.8291036105147",
         "-558.1366834418659"
        ],
        [
         "34",
         "1.5363636363636364",
         "-597.6581767724447",
         "-572.914601937865",
         "-610.0299641897345",
         "-560.5428145205751"
        ],
        [
         "35",
         "1.5373737373737375",
         "-595.405158355185",
         "-573.7772674732732",
         "-606.2191037955807",
         "-562.9633220317573"
        ],
        [
         "36",
         "1.5383838383838384",
         "-593.1531215022362",
         "-574.64156849733",
         "-602.4088980041275",
         "-565.3857919943151"
        ],
        [
         "37",
         "1.5393939393939395",
         "-591.1498601126744",
         "-575.259672702656",
         "-599.0949538182437",
         "-567.3145789982068"
        ],
        [
         "38",
         "1.5404040404040404",
         "-589.9462765082425",
         "-575.0806393535638",
         "-597.3790950861436",
         "-567.6478207767863"
        ],
        [
         "39",
         "1.5414141414141411",
         "-589.6333863707856",
         "-574.0134143598247",
         "-597.443372376266",
         "-566.2034283543443"
        ],
        [
         "40",
         "1.5424242424242425",
         "-589.6795931758916",
         "-572.5895558386528",
         "-598.224611844511",
         "-564.0445371700334"
        ],
        [
         "41",
         "1.5434343434343434",
         "-589.750603875445",
         "-571.1433184264779",
         "-599.0542465993667",
         "-561.8396757014324"
        ],
        [
         "42",
         "1.5444444444444445",
         "-589.8254289995057",
         "-569.6956531859801",
         "-599.8903169057048",
         "-559.6307652786537"
        ],
        [
         "43",
         "1.5454545454545454",
         "-589.9040525580634",
         "-568.2465376988549",
         "-600.7328099882296",
         "-557.4177802698125"
        ],
        [
         "44",
         "1.5464646464646463",
         "-589.9864585716422",
         "-566.7959495306236",
         "-601.5817130927152",
         "-555.200695010678"
        ],
        [
         "45",
         "1.5474747474747474",
         "-590.0726310339694",
         "-565.3438662792007",
         "-602.4370134113536",
         "-552.9794839018165"
        ],
        [
         "46",
         "1.5484848484848486",
         "-590.1527037423948",
         "-563.9001157400271",
         "-603.2789977435787",
         "-550.7738217388433"
        ],
        [
         "47",
         "1.5494949494949497",
         "-589.9899091840664",
         "-562.7014270153784",
         "-603.6341502684103",
         "-549.0571859310345"
        ],
        [
         "48",
         "1.5505050505050506",
         "-589.1388261825238",
         "-562.1931828722439",
         "-602.6116478376637",
         "-548.720361217104"
        ],
        [
         "49",
         "1.5515151515151515",
         "-587.5961194535605",
         "-562.3786801853482",
         "-600.2048390876666",
         "-549.7699605512421"
        ]
       ],
       "shape": {
        "columns": 5,
        "rows": 96
       }
      },
      "text/html": [
       "<div>\n",
       "<style scoped>\n",
       "    .dataframe tbody tr th:only-of-type {\n",
       "        vertical-align: middle;\n",
       "    }\n",
       "\n",
       "    .dataframe tbody tr th {\n",
       "        vertical-align: top;\n",
       "    }\n",
       "\n",
       "    .dataframe thead th {\n",
       "        text-align: right;\n",
       "    }\n",
       "</style>\n",
       "<table border=\"1\" class=\"dataframe\">\n",
       "  <thead>\n",
       "    <tr style=\"text-align: right;\">\n",
       "      <th></th>\n",
       "      <th>wavl</th>\n",
       "      <th>AS(5.00,0.00)</th>\n",
       "      <th>S(5.00,0.00)</th>\n",
       "      <th>AS Double (5.00,0.00)</th>\n",
       "      <th>S Double (5.00,0.00)</th>\n",
       "    </tr>\n",
       "  </thead>\n",
       "  <tbody>\n",
       "    <tr>\n",
       "      <th>0</th>\n",
       "      <td>1.502020</td>\n",
       "      <td>-562.273057</td>\n",
       "      <td>-657.403109</td>\n",
       "      <td>-514.708030</td>\n",
       "      <td>-704.968136</td>\n",
       "    </tr>\n",
       "    <tr>\n",
       "      <th>1</th>\n",
       "      <td>1.503030</td>\n",
       "      <td>-566.847409</td>\n",
       "      <td>-651.326571</td>\n",
       "      <td>-524.607827</td>\n",
       "      <td>-693.566152</td>\n",
       "    </tr>\n",
       "    <tr>\n",
       "      <th>2</th>\n",
       "      <td>1.504040</td>\n",
       "      <td>-571.445267</td>\n",
       "      <td>-645.230450</td>\n",
       "      <td>-534.552675</td>\n",
       "      <td>-682.123041</td>\n",
       "    </tr>\n",
       "    <tr>\n",
       "      <th>3</th>\n",
       "      <td>1.505051</td>\n",
       "      <td>-576.066641</td>\n",
       "      <td>-639.114697</td>\n",
       "      <td>-544.542613</td>\n",
       "      <td>-670.638725</td>\n",
       "    </tr>\n",
       "    <tr>\n",
       "      <th>4</th>\n",
       "      <td>1.506061</td>\n",
       "      <td>-580.711541</td>\n",
       "      <td>-632.979265</td>\n",
       "      <td>-554.577679</td>\n",
       "      <td>-659.113127</td>\n",
       "    </tr>\n",
       "    <tr>\n",
       "      <th>...</th>\n",
       "      <td>...</td>\n",
       "      <td>...</td>\n",
       "      <td>...</td>\n",
       "      <td>...</td>\n",
       "      <td>...</td>\n",
       "    </tr>\n",
       "    <tr>\n",
       "      <th>91</th>\n",
       "      <td>1.593939</td>\n",
       "      <td>-566.479819</td>\n",
       "      <td>-527.895799</td>\n",
       "      <td>-585.771829</td>\n",
       "      <td>-508.603789</td>\n",
       "    </tr>\n",
       "    <tr>\n",
       "      <th>92</th>\n",
       "      <td>1.594949</td>\n",
       "      <td>-553.861662</td>\n",
       "      <td>-539.211474</td>\n",
       "      <td>-561.186755</td>\n",
       "      <td>-531.886381</td>\n",
       "    </tr>\n",
       "    <tr>\n",
       "      <th>93</th>\n",
       "      <td>1.595960</td>\n",
       "      <td>-541.197849</td>\n",
       "      <td>-550.573232</td>\n",
       "      <td>-536.510158</td>\n",
       "      <td>-555.260924</td>\n",
       "    </tr>\n",
       "    <tr>\n",
       "      <th>94</th>\n",
       "      <td>1.596970</td>\n",
       "      <td>-528.488304</td>\n",
       "      <td>-561.981112</td>\n",
       "      <td>-511.741900</td>\n",
       "      <td>-578.727516</td>\n",
       "    </tr>\n",
       "    <tr>\n",
       "      <th>95</th>\n",
       "      <td>1.597980</td>\n",
       "      <td>-515.732949</td>\n",
       "      <td>-573.435153</td>\n",
       "      <td>-486.881847</td>\n",
       "      <td>-602.286254</td>\n",
       "    </tr>\n",
       "  </tbody>\n",
       "</table>\n",
       "<p>96 rows × 5 columns</p>\n",
       "</div>"
      ],
      "text/plain": [
       "        wavl  AS(5.00,0.00)  S(5.00,0.00)  AS Double (5.00,0.00)  \\\n",
       "0   1.502020    -562.273057   -657.403109            -514.708030   \n",
       "1   1.503030    -566.847409   -651.326571            -524.607827   \n",
       "2   1.504040    -571.445267   -645.230450            -534.552675   \n",
       "3   1.505051    -576.066641   -639.114697            -544.542613   \n",
       "4   1.506061    -580.711541   -632.979265            -554.577679   \n",
       "..       ...            ...           ...                    ...   \n",
       "91  1.593939    -566.479819   -527.895799            -585.771829   \n",
       "92  1.594949    -553.861662   -539.211474            -561.186755   \n",
       "93  1.595960    -541.197849   -550.573232            -536.510158   \n",
       "94  1.596970    -528.488304   -561.981112            -511.741900   \n",
       "95  1.597980    -515.732949   -573.435153            -486.881847   \n",
       "\n",
       "    S Double (5.00,0.00)  \n",
       "0            -704.968136  \n",
       "1            -693.566152  \n",
       "2            -682.123041  \n",
       "3            -670.638725  \n",
       "4            -659.113127  \n",
       "..                   ...  \n",
       "91           -508.603789  \n",
       "92           -531.886381  \n",
       "93           -555.260924  \n",
       "94           -578.727516  \n",
       "95           -602.286254  \n",
       "\n",
       "[96 rows x 5 columns]"
      ]
     },
     "execution_count": 186,
     "metadata": {},
     "output_type": "execute_result"
    }
   ],
   "source": [
    "fold_num    = 10\n",
    "Y_data      = ()\n",
    "gap_arr     = []\n",
    "data_arr    = []\n",
    "\n",
    "df_coupled = pd.read_csv(filename_D_coupled)\n",
    "df_coupled"
   ]
  },
  {
   "cell_type": "code",
   "execution_count": 187,
   "metadata": {},
   "outputs": [
    {
     "data": {
      "image/png": "[encoded data removed]",
      "text/plain": [
       "<Figure size 800x600 with 1 Axes>"
      ]
     },
     "metadata": {},
     "output_type": "display_data"
    }
   ],
   "source": [
    "data_arr = (np.c_[df_iso.to_numpy()[:,:2],df_coupled.to_numpy()[:,1:]],)\n",
    "# xticks_ori      = np.arange(0,num_of_wavl_pts,int(num_of_wavl_pts/fold_num))\n",
    "# wavl_arr_ori    = wavl_arr[xticks_ori]\n",
    "# wavl_arr        = df_coupled[\"wavl\"]\n",
    "# wavl_arr_ticks  = [\"{:.3f}\".format(wavl) for wavl in wavl_arr_ori]\n",
    "\n",
    "# data_arr = np.array(data_arr)\n",
    "# data_arr = (np.c_[wavl_arr, data_arr],)\n",
    "\n",
    "data_label_arr  = [\"N = 1\",\"\",\"N = 2\",\"\",r\"N$\\to \\infty$\"]*3\n",
    "color_list      = ['indianred']+['Orange']*2+['tab:blue']*2+['tab:green']*2+['black']*10\n",
    "linestyle_list  = [\"--\"]+[\"-\",\"-\"]*10\n",
    "\n",
    "# xticks       = np.arange(-Max_M_idx,Max_M_idx+1)\n",
    "# xtickslabels = [(\"$M_0$+\" if xtick>0 else \"$M_0$\") + str(xtick) + \"M\"\n",
    "#                 for xtick in xticks]\n",
    "# xtickslabels[int(len(xtickslabels)/2)] = \"$M_0$\"\n",
    "# xticks       = np.arange(-Max_M_idx,Max_M_idx+1)*M\n",
    "# yticks       = ticks_arr(data_arr)\n",
    "param_dict   = {\"Y_legends\"     : data_label_arr,\n",
    "                \"X_label\"       : r'wavelength($\\mu m$)',\n",
    "                \"Y_label\"       : \"D (pm/km/nm)\",\n",
    "                \"title\"         : \"Dispersion of 3D stacked rings\",\n",
    "                \"figsize\"       : (8,6),\n",
    "                \"marker_list\"   : [\"\"]*15,\n",
    "                \"linestyle_list\": linestyle_list,\n",
    "                \"colors_list\"   : color_list,\n",
    "                \"xlim\"          : (1.52,1.58),\n",
    "                # \"ylim\"          : (-10000,9000),\n",
    "                \"AD_region_color\"    : True,\n",
    "                \"bbox_legend\"   :(0.4,0.2)}\n",
    "\n",
    "Plot_curve(data_arr, **param_dict)"
   ]
  },
  {
   "cell_type": "code",
   "execution_count": null,
   "metadata": {},
   "outputs": [],
   "source": []
  }
 ],
 "metadata": {
  "kernelspec": {
   "display_name": "Standard",
   "language": "python",
   "name": "python3"
  },
  "language_info": {
   "codemirror_mode": {
    "name": "ipython",
    "version": 3
   },
   "file_extension": ".py",
   "mimetype": "text/x-python",
   "name": "python",
   "nbconvert_exporter": "python",
   "pygments_lexer": "ipython3",
   "version": "3.13.2"
  }
 },
 "nbformat": 4,
 "nbformat_minor": 2
}
