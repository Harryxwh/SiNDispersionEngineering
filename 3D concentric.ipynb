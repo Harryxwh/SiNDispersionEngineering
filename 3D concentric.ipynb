{
 "cells": [
  {
   "cell_type": "code",
   "execution_count": 17,
   "metadata": {},
   "outputs": [],
   "source": [
    "import numpy as np\n",
    "import pandas as pd\n",
    "import matplotlib.pyplot as plt\n",
    "from Functions import *"
   ]
  },
  {
   "cell_type": "code",
   "execution_count": 18,
   "metadata": {},
   "outputs": [],
   "source": [
    "filename = \"./results/Scanning_L_lower_and_gapx_width_0_3_2_3_gapx_2_5_3_5.csv\""
   ]
  },
  {
   "cell_type": "code",
   "execution_count": 19,
   "metadata": {},
   "outputs": [],
   "source": [
    "Beta_Upper_ring = 5983.180936564255       # L_inner = 2.8um"
   ]
  },
  {
   "cell_type": "code",
   "execution_count": 20,
   "metadata": {},
   "outputs": [],
   "source": [
    "Y_data      = ()\n",
    "gap_arr     = []\n",
    "L_arr       = []\n",
    "data_arr    = []\n",
    "data_arr_zero_loc_list = []"
   ]
  },
  {
   "cell_type": "code",
   "execution_count": 21,
   "metadata": {},
   "outputs": [],
   "source": [
    "df              = pd.read_csv(filename)\n",
    "gap_arr         = df[\"gap/L_lower\"]\n",
    "num_of_gap_pts  = len(gap_arr)"
   ]
  },
  {
   "cell_type": "code",
   "execution_count": 22,
   "metadata": {},
   "outputs": [
    {
     "data": {
      "application/vnd.microsoft.datawrangler.viewer.v0+json": {
       "columns": [
        {
         "name": "index",
         "rawType": "int64",
         "type": "integer"
        },
        {
         "name": "gap/L_lower",
         "rawType": "float64",
         "type": "float"
        },
        {
         "name": "2.5",
         "rawType": "float64",
         "type": "float"
        },
        {
         "name": "2.6",
         "rawType": "float64",
         "type": "float"
        },
        {
         "name": "2.7",
         "rawType": "float64",
         "type": "float"
        },
        {
         "name": "2.8",
         "rawType": "float64",
         "type": "float"
        },
        {
         "name": "2.9",
         "rawType": "float64",
         "type": "float"
        },
        {
         "name": "3",
         "rawType": "float64",
         "type": "float"
        },
        {
         "name": "3.1",
         "rawType": "float64",
         "type": "float"
        },
        {
         "name": "3.2",
         "rawType": "float64",
         "type": "float"
        },
        {
         "name": "3.3",
         "rawType": "float64",
         "type": "float"
        },
        {
         "name": "3.4",
         "rawType": "float64",
         "type": "float"
        },
        {
         "name": "3.5",
         "rawType": "float64",
         "type": "float"
        }
       ],
       "conversionMethod": "pd.DataFrame",
       "ref": "e1faf601-849d-4090-8b1c-12083475cfad",
       "rows": [
        [
         "0",
         "0.3",
         "5971.908102182415",
         "5975.307124108595",
         "5978.463852542951",
         "5981.39898731142",
         "5984.131444657619",
         "5986.678457018626",
         "5989.055691304728",
         "5991.27737401487",
         "5993.356416026296",
         "5995.304532798858",
         "5997.132357445537"
        ],
        [
         "1",
         "0.4",
         "5971.310759165792",
         "5974.709442410994",
         "5977.865856610289",
         "5980.800699520449",
         "5983.532885477942",
         "5986.079645211977",
         "5988.456644067185",
         "5990.678107112699",
         "5992.8556416026295",
         "5994.704868879548",
         "5996.532513944447"
        ],
        [
         "2",
         "0.5",
         "5970.71341614045",
         "5974.11176070787",
         "5977.267860674375",
         "5980.202411723036",
         "5982.934326297796",
         "5985.480833405845",
         "5987.857596827896",
         "5990.078840216604",
         "5992.157471886481",
         "5994.105204963339",
         "5995.932670447003"
        ],
        [
         "3",
         "0.6",
         "5970.116073129207",
         "5973.514079015918",
         "5976.669864747671",
         "5979.604123933565",
         "5982.33576712479",
         "5984.882021606321",
         "5987.258549594881",
         "5989.479573324577",
         "5991.557999823945",
         "5993.50554105328",
         "5995.332826955804"
        ],
        [
         "4",
         "0.7",
         "5969.518730120686",
         "5972.916397326805",
         "5976.071868823967",
         "5979.005836147267",
         "5981.737207955147",
         "5984.283209810355",
         "5986.659502365682",
         "5988.880306436612",
         "5990.958527765752",
         "5992.905877147838",
         "5994.732983469561"
        ],
        [
         "5",
         "0.8",
         "5968.921387114819",
         "5972.318715640487",
         "5975.473872903212",
         "5978.407548364109",
         "5981.13864878883",
         "5983.684398017938",
         "5986.060455140243",
         "5988.281039552673",
         "5990.359055711868",
         "5992.30621324702",
         "5994.133139988246"
        ],
        [
         "6",
         "0.9",
         "5968.324044111666",
         "5971.721033957009",
         "5974.875876985453",
         "5977.809260584109",
         "5980.540089625868",
         "5983.085586229084",
         "5985.461407918621",
         "5987.681772672788",
         "5989.75958366231",
         "5991.706549350832",
         "5993.533296511897"
        ],
        [
         "7",
         "1.0",
         "5967.726701111204",
         "5971.12335227637",
         "5974.27788107065",
         "5977.210972807245",
         "5979.941530466249",
         "5982.486774443781",
         "5984.862360700782",
         "5987.082505796964",
         "5989.160111617081",
         "5991.106885459274",
         "5992.933453040497"
        ],
        [
         "8",
         "1.1",
         "5967.129358113425",
         "5970.525670598518",
         "5973.679885158852",
         "5976.61268503354",
         "5979.342971309959",
         "5981.887962662044",
         "5984.26331348673",
         "5986.483238925188",
         "5988.560639576182",
         "5990.50722157235",
         "5992.333609574049"
        ],
        [
         "9",
         "1.2",
         "5966.532015118358",
         "5969.927988923517",
         "5973.081889250019",
         "5976.014397262996",
         "5978.744412157043",
         "5981.289150883887",
         "5983.66426627649",
         "5985.883972057457",
         "5987.961167539621",
         "5989.907557690052",
         "5991.733766112575"
        ],
        [
         "10",
         "1.3",
         "5965.934672125988",
         "5969.330307251358",
         "5972.483893344191",
         "5975.416109495598",
         "5978.145853007458",
         "5980.69033910925",
         "5983.06521907004",
         "5985.284705193782",
         "5987.361695507397",
         "5989.307893812399",
         "5991.133922656045"
        ],
        [
         "11",
         "1.4",
         "5965.337329136312",
         "5968.732625582006",
         "5971.885897441311",
         "5974.817821731363",
         "5977.547293861225",
         "5980.091527338219",
         "5982.466171867394",
         "5984.685438334174",
         "5986.762223479494",
         "5988.708229939387",
         "5990.534079204474"
        ],
        [
         "12",
         "1.5",
         "5964.739986149331",
         "5968.134943915488",
         "5971.287901541433",
         "5974.219533970263",
         "5976.948734718327",
         "5979.492715570721",
         "5981.867124668539",
         "5984.086171478604",
         "5986.16275145594",
         "5988.108566070977",
         "5989.934235757856"
        ],
        [
         "13",
         "1.6",
         "5964.142643165051",
         "5967.5372622518",
         "5970.689905644514",
         "5973.621246212336",
         "5976.350175578804",
         "5978.893903806812",
         "5981.268077473508",
         "5983.486904627116",
         "5985.563279436715",
         "5987.50890220725",
         "5989.334392316224"
        ],
        [
         "14",
         "1.7",
         "5963.545300183457",
         "5966.939580590962",
         "5970.091909750603",
         "5973.022958457574",
         "5975.751616442612",
         "5978.295092046462",
         "5980.66903028225",
         "5982.887637779666",
         "5984.963807421835",
         "5986.909238348128",
         "5988.734548879534"
        ],
        [
         "15",
         "1.8",
         "5962.947957204581",
         "5966.341898932932",
         "5969.493913859676",
         "5972.424670705961",
         "5975.153057309776",
         "5977.696280289674",
         "5980.069983094809",
         "5982.288370936288",
         "5984.36433541127",
         "5986.309574493658",
         "5988.134705447816"
        ],
        [
         "16",
         "1.9",
         "5962.350614228398",
         "5965.744217277728",
         "5968.895917971716",
         "5971.826382957493",
         "5974.554498180297",
         "5977.097468536449",
         "5979.470935911173",
         "5981.689104096968",
         "5983.764863405062",
         "5985.709910643823",
         "5987.534862021044"
        ],
        [
         "17",
         "2.0",
         "5961.753271254943",
         "5965.146535625388",
         "5968.297922086764",
         "5971.228095212219",
         "5973.955939054201",
         "5976.498656786805",
         "5978.871888731329",
         "5981.08983726172",
         "5983.165391403203",
         "5985.110246798649",
         "5986.935018599283"
        ],
        [
         "18",
         "2.1",
         "5961.155928284164",
         "5964.548853975877",
         "5967.699926204787",
         "5970.62980747007",
         "5973.357379931425",
         "5975.899845040733",
         "5978.272841555317",
         "5980.490570430519",
         "5982.565919405683",
         "5984.510582958118",
         "5986.33517518248"
        ],
        [
         "19",
         "2.2",
         "5960.558585316087",
         "5963.951172329182",
         "5967.10193032582",
         "5970.031519731101",
         "5972.758820812003",
         "5975.301033298219",
         "5977.673794383084",
         "5979.89130360341",
         "5981.966447412509",
         "5983.910919122219",
         "5985.73533177062"
        ],
        [
         "20",
         "2.3",
         "5959.961242350723",
         "5963.353490685329",
         "5966.503934449811",
         "5969.433231995289",
         "5972.160261695954",
         "5974.702221559285",
         "5977.074747214683",
         "5979.292036780334",
         "5981.366975423677",
         "5983.311255290977",
         "5985.135488363746"
        ]
       ],
       "shape": {
        "columns": 12,
        "rows": 21
       }
      },
      "text/html": [
       "<div>\n",
       "<style scoped>\n",
       "    .dataframe tbody tr th:only-of-type {\n",
       "        vertical-align: middle;\n",
       "    }\n",
       "\n",
       "    .dataframe tbody tr th {\n",
       "        vertical-align: top;\n",
       "    }\n",
       "\n",
       "    .dataframe thead th {\n",
       "        text-align: right;\n",
       "    }\n",
       "</style>\n",
       "<table border=\"1\" class=\"dataframe\">\n",
       "  <thead>\n",
       "    <tr style=\"text-align: right;\">\n",
       "      <th></th>\n",
       "      <th>gap/L_lower</th>\n",
       "      <th>2.5</th>\n",
       "      <th>2.6</th>\n",
       "      <th>2.7</th>\n",
       "      <th>2.8</th>\n",
       "      <th>2.9</th>\n",
       "      <th>3</th>\n",
       "      <th>3.1</th>\n",
       "      <th>3.2</th>\n",
       "      <th>3.3</th>\n",
       "      <th>3.4</th>\n",
       "      <th>3.5</th>\n",
       "    </tr>\n",
       "  </thead>\n",
       "  <tbody>\n",
       "    <tr>\n",
       "      <th>0</th>\n",
       "      <td>0.3</td>\n",
       "      <td>5971.908102</td>\n",
       "      <td>5975.307124</td>\n",
       "      <td>5978.463853</td>\n",
       "      <td>5981.398987</td>\n",
       "      <td>5984.131445</td>\n",
       "      <td>5986.678457</td>\n",
       "      <td>5989.055691</td>\n",
       "      <td>5991.277374</td>\n",
       "      <td>5993.356416</td>\n",
       "      <td>5995.304533</td>\n",
       "      <td>5997.132357</td>\n",
       "    </tr>\n",
       "    <tr>\n",
       "      <th>1</th>\n",
       "      <td>0.4</td>\n",
       "      <td>5971.310759</td>\n",
       "      <td>5974.709442</td>\n",
       "      <td>5977.865857</td>\n",
       "      <td>5980.800700</td>\n",
       "      <td>5983.532885</td>\n",
       "      <td>5986.079645</td>\n",
       "      <td>5988.456644</td>\n",
       "      <td>5990.678107</td>\n",
       "      <td>5992.855642</td>\n",
       "      <td>5994.704869</td>\n",
       "      <td>5996.532514</td>\n",
       "    </tr>\n",
       "    <tr>\n",
       "      <th>2</th>\n",
       "      <td>0.5</td>\n",
       "      <td>5970.713416</td>\n",
       "      <td>5974.111761</td>\n",
       "      <td>5977.267861</td>\n",
       "      <td>5980.202412</td>\n",
       "      <td>5982.934326</td>\n",
       "      <td>5985.480833</td>\n",
       "      <td>5987.857597</td>\n",
       "      <td>5990.078840</td>\n",
       "      <td>5992.157472</td>\n",
       "      <td>5994.105205</td>\n",
       "      <td>5995.932670</td>\n",
       "    </tr>\n",
       "    <tr>\n",
       "      <th>3</th>\n",
       "      <td>0.6</td>\n",
       "      <td>5970.116073</td>\n",
       "      <td>5973.514079</td>\n",
       "      <td>5976.669865</td>\n",
       "      <td>5979.604124</td>\n",
       "      <td>5982.335767</td>\n",
       "      <td>5984.882022</td>\n",
       "      <td>5987.258550</td>\n",
       "      <td>5989.479573</td>\n",
       "      <td>5991.558000</td>\n",
       "      <td>5993.505541</td>\n",
       "      <td>5995.332827</td>\n",
       "    </tr>\n",
       "    <tr>\n",
       "      <th>4</th>\n",
       "      <td>0.7</td>\n",
       "      <td>5969.518730</td>\n",
       "      <td>5972.916397</td>\n",
       "      <td>5976.071869</td>\n",
       "      <td>5979.005836</td>\n",
       "      <td>5981.737208</td>\n",
       "      <td>5984.283210</td>\n",
       "      <td>5986.659502</td>\n",
       "      <td>5988.880306</td>\n",
       "      <td>5990.958528</td>\n",
       "      <td>5992.905877</td>\n",
       "      <td>5994.732983</td>\n",
       "    </tr>\n",
       "    <tr>\n",
       "      <th>5</th>\n",
       "      <td>0.8</td>\n",
       "      <td>5968.921387</td>\n",
       "      <td>5972.318716</td>\n",
       "      <td>5975.473873</td>\n",
       "      <td>5978.407548</td>\n",
       "      <td>5981.138649</td>\n",
       "      <td>5983.684398</td>\n",
       "      <td>5986.060455</td>\n",
       "      <td>5988.281040</td>\n",
       "      <td>5990.359056</td>\n",
       "      <td>5992.306213</td>\n",
       "      <td>5994.133140</td>\n",
       "    </tr>\n",
       "    <tr>\n",
       "      <th>6</th>\n",
       "      <td>0.9</td>\n",
       "      <td>5968.324044</td>\n",
       "      <td>5971.721034</td>\n",
       "      <td>5974.875877</td>\n",
       "      <td>5977.809261</td>\n",
       "      <td>5980.540090</td>\n",
       "      <td>5983.085586</td>\n",
       "      <td>5985.461408</td>\n",
       "      <td>5987.681773</td>\n",
       "      <td>5989.759584</td>\n",
       "      <td>5991.706549</td>\n",
       "      <td>5993.533297</td>\n",
       "    </tr>\n",
       "    <tr>\n",
       "      <th>7</th>\n",
       "      <td>1.0</td>\n",
       "      <td>5967.726701</td>\n",
       "      <td>5971.123352</td>\n",
       "      <td>5974.277881</td>\n",
       "      <td>5977.210973</td>\n",
       "      <td>5979.941530</td>\n",
       "      <td>5982.486774</td>\n",
       "      <td>5984.862361</td>\n",
       "      <td>5987.082506</td>\n",
       "      <td>5989.160112</td>\n",
       "      <td>5991.106885</td>\n",
       "      <td>5992.933453</td>\n",
       "    </tr>\n",
       "    <tr>\n",
       "      <th>8</th>\n",
       "      <td>1.1</td>\n",
       "      <td>5967.129358</td>\n",
       "      <td>5970.525671</td>\n",
       "      <td>5973.679885</td>\n",
       "      <td>5976.612685</td>\n",
       "      <td>5979.342971</td>\n",
       "      <td>5981.887963</td>\n",
       "      <td>5984.263313</td>\n",
       "      <td>5986.483239</td>\n",
       "      <td>5988.560640</td>\n",
       "      <td>5990.507222</td>\n",
       "      <td>5992.333610</td>\n",
       "    </tr>\n",
       "    <tr>\n",
       "      <th>9</th>\n",
       "      <td>1.2</td>\n",
       "      <td>5966.532015</td>\n",
       "      <td>5969.927989</td>\n",
       "      <td>5973.081889</td>\n",
       "      <td>5976.014397</td>\n",
       "      <td>5978.744412</td>\n",
       "      <td>5981.289151</td>\n",
       "      <td>5983.664266</td>\n",
       "      <td>5985.883972</td>\n",
       "      <td>5987.961168</td>\n",
       "      <td>5989.907558</td>\n",
       "      <td>5991.733766</td>\n",
       "    </tr>\n",
       "    <tr>\n",
       "      <th>10</th>\n",
       "      <td>1.3</td>\n",
       "      <td>5965.934672</td>\n",
       "      <td>5969.330307</td>\n",
       "      <td>5972.483893</td>\n",
       "      <td>5975.416109</td>\n",
       "      <td>5978.145853</td>\n",
       "      <td>5980.690339</td>\n",
       "      <td>5983.065219</td>\n",
       "      <td>5985.284705</td>\n",
       "      <td>5987.361696</td>\n",
       "      <td>5989.307894</td>\n",
       "      <td>5991.133923</td>\n",
       "    </tr>\n",
       "    <tr>\n",
       "      <th>11</th>\n",
       "      <td>1.4</td>\n",
       "      <td>5965.337329</td>\n",
       "      <td>5968.732626</td>\n",
       "      <td>5971.885897</td>\n",
       "      <td>5974.817822</td>\n",
       "      <td>5977.547294</td>\n",
       "      <td>5980.091527</td>\n",
       "      <td>5982.466172</td>\n",
       "      <td>5984.685438</td>\n",
       "      <td>5986.762223</td>\n",
       "      <td>5988.708230</td>\n",
       "      <td>5990.534079</td>\n",
       "    </tr>\n",
       "    <tr>\n",
       "      <th>12</th>\n",
       "      <td>1.5</td>\n",
       "      <td>5964.739986</td>\n",
       "      <td>5968.134944</td>\n",
       "      <td>5971.287902</td>\n",
       "      <td>5974.219534</td>\n",
       "      <td>5976.948735</td>\n",
       "      <td>5979.492716</td>\n",
       "      <td>5981.867125</td>\n",
       "      <td>5984.086171</td>\n",
       "      <td>5986.162751</td>\n",
       "      <td>5988.108566</td>\n",
       "      <td>5989.934236</td>\n",
       "    </tr>\n",
       "    <tr>\n",
       "      <th>13</th>\n",
       "      <td>1.6</td>\n",
       "      <td>5964.142643</td>\n",
       "      <td>5967.537262</td>\n",
       "      <td>5970.689906</td>\n",
       "      <td>5973.621246</td>\n",
       "      <td>5976.350176</td>\n",
       "      <td>5978.893904</td>\n",
       "      <td>5981.268077</td>\n",
       "      <td>5983.486905</td>\n",
       "      <td>5985.563279</td>\n",
       "      <td>5987.508902</td>\n",
       "      <td>5989.334392</td>\n",
       "    </tr>\n",
       "    <tr>\n",
       "      <th>14</th>\n",
       "      <td>1.7</td>\n",
       "      <td>5963.545300</td>\n",
       "      <td>5966.939581</td>\n",
       "      <td>5970.091910</td>\n",
       "      <td>5973.022958</td>\n",
       "      <td>5975.751616</td>\n",
       "      <td>5978.295092</td>\n",
       "      <td>5980.669030</td>\n",
       "      <td>5982.887638</td>\n",
       "      <td>5984.963807</td>\n",
       "      <td>5986.909238</td>\n",
       "      <td>5988.734549</td>\n",
       "    </tr>\n",
       "    <tr>\n",
       "      <th>15</th>\n",
       "      <td>1.8</td>\n",
       "      <td>5962.947957</td>\n",
       "      <td>5966.341899</td>\n",
       "      <td>5969.493914</td>\n",
       "      <td>5972.424671</td>\n",
       "      <td>5975.153057</td>\n",
       "      <td>5977.696280</td>\n",
       "      <td>5980.069983</td>\n",
       "      <td>5982.288371</td>\n",
       "      <td>5984.364335</td>\n",
       "      <td>5986.309574</td>\n",
       "      <td>5988.134705</td>\n",
       "    </tr>\n",
       "    <tr>\n",
       "      <th>16</th>\n",
       "      <td>1.9</td>\n",
       "      <td>5962.350614</td>\n",
       "      <td>5965.744217</td>\n",
       "      <td>5968.895918</td>\n",
       "      <td>5971.826383</td>\n",
       "      <td>5974.554498</td>\n",
       "      <td>5977.097469</td>\n",
       "      <td>5979.470936</td>\n",
       "      <td>5981.689104</td>\n",
       "      <td>5983.764863</td>\n",
       "      <td>5985.709911</td>\n",
       "      <td>5987.534862</td>\n",
       "    </tr>\n",
       "    <tr>\n",
       "      <th>17</th>\n",
       "      <td>2.0</td>\n",
       "      <td>5961.753271</td>\n",
       "      <td>5965.146536</td>\n",
       "      <td>5968.297922</td>\n",
       "      <td>5971.228095</td>\n",
       "      <td>5973.955939</td>\n",
       "      <td>5976.498657</td>\n",
       "      <td>5978.871889</td>\n",
       "      <td>5981.089837</td>\n",
       "      <td>5983.165391</td>\n",
       "      <td>5985.110247</td>\n",
       "      <td>5986.935019</td>\n",
       "    </tr>\n",
       "    <tr>\n",
       "      <th>18</th>\n",
       "      <td>2.1</td>\n",
       "      <td>5961.155928</td>\n",
       "      <td>5964.548854</td>\n",
       "      <td>5967.699926</td>\n",
       "      <td>5970.629807</td>\n",
       "      <td>5973.357380</td>\n",
       "      <td>5975.899845</td>\n",
       "      <td>5978.272842</td>\n",
       "      <td>5980.490570</td>\n",
       "      <td>5982.565919</td>\n",
       "      <td>5984.510583</td>\n",
       "      <td>5986.335175</td>\n",
       "    </tr>\n",
       "    <tr>\n",
       "      <th>19</th>\n",
       "      <td>2.2</td>\n",
       "      <td>5960.558585</td>\n",
       "      <td>5963.951172</td>\n",
       "      <td>5967.101930</td>\n",
       "      <td>5970.031520</td>\n",
       "      <td>5972.758821</td>\n",
       "      <td>5975.301033</td>\n",
       "      <td>5977.673794</td>\n",
       "      <td>5979.891304</td>\n",
       "      <td>5981.966447</td>\n",
       "      <td>5983.910919</td>\n",
       "      <td>5985.735332</td>\n",
       "    </tr>\n",
       "    <tr>\n",
       "      <th>20</th>\n",
       "      <td>2.3</td>\n",
       "      <td>5959.961242</td>\n",
       "      <td>5963.353491</td>\n",
       "      <td>5966.503934</td>\n",
       "      <td>5969.433232</td>\n",
       "      <td>5972.160262</td>\n",
       "      <td>5974.702222</td>\n",
       "      <td>5977.074747</td>\n",
       "      <td>5979.292037</td>\n",
       "      <td>5981.366975</td>\n",
       "      <td>5983.311255</td>\n",
       "      <td>5985.135488</td>\n",
       "    </tr>\n",
       "  </tbody>\n",
       "</table>\n",
       "</div>"
      ],
      "text/plain": [
       "    gap/L_lower          2.5          2.6          2.7          2.8  \\\n",
       "0           0.3  5971.908102  5975.307124  5978.463853  5981.398987   \n",
       "1           0.4  5971.310759  5974.709442  5977.865857  5980.800700   \n",
       "2           0.5  5970.713416  5974.111761  5977.267861  5980.202412   \n",
       "3           0.6  5970.116073  5973.514079  5976.669865  5979.604124   \n",
       "4           0.7  5969.518730  5972.916397  5976.071869  5979.005836   \n",
       "5           0.8  5968.921387  5972.318716  5975.473873  5978.407548   \n",
       "6           0.9  5968.324044  5971.721034  5974.875877  5977.809261   \n",
       "7           1.0  5967.726701  5971.123352  5974.277881  5977.210973   \n",
       "8           1.1  5967.129358  5970.525671  5973.679885  5976.612685   \n",
       "9           1.2  5966.532015  5969.927989  5973.081889  5976.014397   \n",
       "10          1.3  5965.934672  5969.330307  5972.483893  5975.416109   \n",
       "11          1.4  5965.337329  5968.732626  5971.885897  5974.817822   \n",
       "12          1.5  5964.739986  5968.134944  5971.287902  5974.219534   \n",
       "13          1.6  5964.142643  5967.537262  5970.689906  5973.621246   \n",
       "14          1.7  5963.545300  5966.939581  5970.091910  5973.022958   \n",
       "15          1.8  5962.947957  5966.341899  5969.493914  5972.424671   \n",
       "16          1.9  5962.350614  5965.744217  5968.895918  5971.826383   \n",
       "17          2.0  5961.753271  5965.146536  5968.297922  5971.228095   \n",
       "18          2.1  5961.155928  5964.548854  5967.699926  5970.629807   \n",
       "19          2.2  5960.558585  5963.951172  5967.101930  5970.031520   \n",
       "20          2.3  5959.961242  5963.353491  5966.503934  5969.433232   \n",
       "\n",
       "            2.9            3          3.1          3.2          3.3  \\\n",
       "0   5984.131445  5986.678457  5989.055691  5991.277374  5993.356416   \n",
       "1   5983.532885  5986.079645  5988.456644  5990.678107  5992.855642   \n",
       "2   5982.934326  5985.480833  5987.857597  5990.078840  5992.157472   \n",
       "3   5982.335767  5984.882022  5987.258550  5989.479573  5991.558000   \n",
       "4   5981.737208  5984.283210  5986.659502  5988.880306  5990.958528   \n",
       "5   5981.138649  5983.684398  5986.060455  5988.281040  5990.359056   \n",
       "6   5980.540090  5983.085586  5985.461408  5987.681773  5989.759584   \n",
       "7   5979.941530  5982.486774  5984.862361  5987.082506  5989.160112   \n",
       "8   5979.342971  5981.887963  5984.263313  5986.483239  5988.560640   \n",
       "9   5978.744412  5981.289151  5983.664266  5985.883972  5987.961168   \n",
       "10  5978.145853  5980.690339  5983.065219  5985.284705  5987.361696   \n",
       "11  5977.547294  5980.091527  5982.466172  5984.685438  5986.762223   \n",
       "12  5976.948735  5979.492716  5981.867125  5984.086171  5986.162751   \n",
       "13  5976.350176  5978.893904  5981.268077  5983.486905  5985.563279   \n",
       "14  5975.751616  5978.295092  5980.669030  5982.887638  5984.963807   \n",
       "15  5975.153057  5977.696280  5980.069983  5982.288371  5984.364335   \n",
       "16  5974.554498  5977.097469  5979.470936  5981.689104  5983.764863   \n",
       "17  5973.955939  5976.498657  5978.871889  5981.089837  5983.165391   \n",
       "18  5973.357380  5975.899845  5978.272842  5980.490570  5982.565919   \n",
       "19  5972.758821  5975.301033  5977.673794  5979.891304  5981.966447   \n",
       "20  5972.160262  5974.702222  5977.074747  5979.292037  5981.366975   \n",
       "\n",
       "            3.4          3.5  \n",
       "0   5995.304533  5997.132357  \n",
       "1   5994.704869  5996.532514  \n",
       "2   5994.105205  5995.932670  \n",
       "3   5993.505541  5995.332827  \n",
       "4   5992.905877  5994.732983  \n",
       "5   5992.306213  5994.133140  \n",
       "6   5991.706549  5993.533297  \n",
       "7   5991.106885  5992.933453  \n",
       "8   5990.507222  5992.333610  \n",
       "9   5989.907558  5991.733766  \n",
       "10  5989.307894  5991.133923  \n",
       "11  5988.708230  5990.534079  \n",
       "12  5988.108566  5989.934236  \n",
       "13  5987.508902  5989.334392  \n",
       "14  5986.909238  5988.734549  \n",
       "15  5986.309574  5988.134705  \n",
       "16  5985.709911  5987.534862  \n",
       "17  5985.110247  5986.935019  \n",
       "18  5984.510583  5986.335175  \n",
       "19  5983.910919  5985.735332  \n",
       "20  5983.311255  5985.135488  "
      ]
     },
     "execution_count": 22,
     "metadata": {},
     "output_type": "execute_result"
    }
   ],
   "source": [
    "df"
   ]
  },
  {
   "cell_type": "code",
   "execution_count": 23,
   "metadata": {},
   "outputs": [],
   "source": [
    "# wavl_arr_ori    = wavl_arr[xticks_ori]\n",
    "# wavl_arr_ticks  = [\"{:.3f}\".format(wavl) for wavl in wavl_arr_ori]\n",
    "for column in df.columns[1:]:\n",
    "    L       = float(column)\n",
    "    L_arr.append(L)\n",
    "    data_arr.append(df[column]-Beta_Upper_ring)\n",
    "\n",
    "data_arr = np.array(data_arr)"
   ]
  },
  {
   "cell_type": "code",
   "execution_count": 24,
   "metadata": {},
   "outputs": [
    {
     "data": {
      "text/plain": [
       "array([[ 4.        ,  2.9       ,  1.58799351],\n",
       "       [ 5.        ,  3.        ,  5.84076744],\n",
       "       [ 6.        ,  3.1       ,  9.80683076],\n",
       "       [ 7.        ,  3.2       , 13.51057065],\n",
       "       [ 8.        ,  3.3       , 16.97406858]])"
      ]
     },
     "execution_count": 24,
     "metadata": {},
     "output_type": "execute_result"
    }
   ],
   "source": [
    "for i in range(np.shape(data_arr)[0]):\n",
    "    line = data_arr[i,:]\n",
    "\n",
    "    for j in range(len(line)-1):\n",
    "        if line[j] * line[j+1] < 0:\n",
    "            shift = np.abs(line[j])/(np.abs(line[j])+np.abs(line[j+1]))\n",
    "            data_arr_zero_loc_list.append([i,L_arr[i],j+shift])\n",
    "\n",
    "# data_arr_neg_mask = np.where(data_arr<0)\n",
    "# data_arr[data_arr_neg_mask] = -np.log10(-data_arr[data_arr_neg_mask])\n",
    "# data_arr_neg_mask = np.where(data_arr>0)\n",
    "# data_arr[data_arr_neg_mask] = np.log10(data_arr[data_arr_neg_mask])\n",
    "\n",
    "num_of_L_pts    = len(L_arr)\n",
    "xticks_ori      = np.arange(0,num_of_L_pts,1)\n",
    "\n",
    "data_arr_zero_loc_list = np.array(data_arr_zero_loc_list)\n",
    "data_arr_zero_loc_list"
   ]
  },
  {
   "cell_type": "code",
   "execution_count": 25,
   "metadata": {},
   "outputs": [],
   "source": [
    "width_arr_intp  = np.linspace(3.6,9,20)\n",
    "phase_matched_gap_intp = Interpol(data_arr_zero_loc_list[:,0],\n",
    "                                  data_arr_zero_loc_list[:,2],\n",
    "                                  width_arr_intp)"
   ]
  },
  {
   "cell_type": "code",
   "execution_count": 26,
   "metadata": {},
   "outputs": [
    {
     "data": {
      "text/plain": [
       "<matplotlib.colors.TwoSlopeNorm at 0x169157d90>"
      ]
     },
     "execution_count": 26,
     "metadata": {},
     "output_type": "execute_result"
    }
   ],
   "source": [
    "from matplotlib.colors import TwoSlopeNorm\n",
    "fonttype        = \"Helvetica\"\n",
    "fontsize        = 5\n",
    "colormap        = \"bwr\"\n",
    "# colormap      = \"berlin\"\n",
    "figsize         = (10,8)\n",
    "cbar_num_of_pts = 6\n",
    "norm            = TwoSlopeNorm(vmin=np.min(data_arr), vcenter=0, vmax=np.max(data_arr))\n",
    "norm"
   ]
  },
  {
   "cell_type": "code",
   "execution_count": 27,
   "metadata": {},
   "outputs": [
    {
     "data": {
      "image/png": "[encoded data removed]",
      "text/plain": [
       "<Figure size 3000x2400 with 2 Axes>"
      ]
     },
     "metadata": {},
     "output_type": "display_data"
    }
   ],
   "source": [
    "\n",
    "fig, ax = plt.subplots(figsize=figsize,dpi=300)\n",
    "im      = ax.imshow(data_arr, cmap = colormap, norm = norm, aspect=1)\n",
    "ax.scatter(data_arr_zero_loc_list[:,2],data_arr_zero_loc_list[:,0], s=10, c='b', marker='^',)\n",
    "plt.plot(phase_matched_gap_intp,width_arr_intp, linewidth=0.5, linestyle = \"--\")\n",
    "\n",
    "cbar = fig.colorbar(im, ax=ax, orientation='horizontal',\n",
    "                    shrink=0.9, pad=0.1)  # shrink: 缩放比例，pad: 间距\n",
    "cbar.set_ticks(ticks_arr(data_arr))\n",
    "cbar.ax.tick_params(labelsize=fontsize*0.8)\n",
    "# cbar.set_label(r\"sgn(D) $\\log_{10}$($|D|$)\")\n",
    "cbar.set_label(r\"Propgation constant mismatch (rad/rad)\")\n",
    "\n",
    "plt.xticks(np.arange(0,num_of_gap_pts,1),gap_arr,fontproperties = fonttype, size = fontsize)\n",
    "plt.yticks(np.arange(0,num_of_L_pts,1),L_arr,fontproperties = fonttype, size = fontsize)\n",
    "plt.xlabel(r\"gap in x direction ($\\mu m$)\")\n",
    "plt.ylabel(r\"width ($\\mu m$)\")\n",
    "title = \"Phase-matching conditions of 3D concentric rings\"\n",
    "plt.title(title)\n",
    "plt.savefig(\"./results/\"+title+\".jpg\")\n",
    "plt.show()"
   ]
  },
  {
   "cell_type": "markdown",
   "metadata": {},
   "source": [
    "WG width: 2.9 um\n",
    "\n",
    "gapx: 1.58799351 um"
   ]
  },
  {
   "cell_type": "code",
   "execution_count": 28,
   "metadata": {},
   "outputs": [
    {
     "data": {
      "text/plain": [
       "array([0.85857864, 1.        , 1.14142136])"
      ]
     },
     "execution_count": 28,
     "metadata": {},
     "output_type": "execute_result"
    }
   ],
   "source": [
    "N = 3\n",
    "k = 0.1\n",
    "d = 1\n",
    "A = np.diag(np.ones(N-1)*k,1) + np.diag(np.ones(N-1)*k,-1) + np.diag(np.ones(N)*d,0)\n",
    "eigenvalues, eigenvectors = np.linalg.eig(A)\n",
    "eigenvalues"
   ]
  },
  {
   "cell_type": "code",
   "execution_count": 29,
   "metadata": {},
   "outputs": [
    {
     "data": {
      "text/plain": [
       "array([0.8381966, 0.9381966, 1.1618034, 1.0618034])"
      ]
     },
     "execution_count": 29,
     "metadata": {},
     "output_type": "execute_result"
    }
   ],
   "source": [
    "N = 4\n",
    "k = 0.1\n",
    "d = 1\n",
    "A = np.diag(np.ones(N-1)*k,1) + np.diag(np.ones(N-1)*k,-1) + np.diag(np.ones(N)*d,0)\n",
    "eigenvalues, eigenvectors = np.linalg.eig(A)\n",
    "eigenvalues"
   ]
  },
  {
   "cell_type": "markdown",
   "metadata": {},
   "source": []
  },
  {
   "cell_type": "code",
   "execution_count": 30,
   "metadata": {},
   "outputs": [
    {
     "data": {
      "application/vnd.microsoft.datawrangler.viewer.v0+json": {
       "columns": [
        {
         "name": "index",
         "rawType": "int64",
         "type": "integer"
        },
        {
         "name": "wavl",
         "rawType": "float64",
         "type": "float"
        },
        {
         "name": "AS(5.00,0.00)",
         "rawType": "float64",
         "type": "float"
        },
        {
         "name": "S(5.00,0.00)",
         "rawType": "float64",
         "type": "float"
        },
        {
         "name": "AS( double 5.00,0.00)",
         "rawType": "float64",
         "type": "float"
        },
        {
         "name": "S( double 5.00,0.00)",
         "rawType": "float64",
         "type": "float"
        }
       ],
       "conversionMethod": "pd.DataFrame",
       "ref": "6be6981c-7d67-406c-b989-a52a29b03a7a",
       "rows": [
        [
         "0",
         "1.406060606060606",
         "-692.9678566745079",
         "-692.9678566745079",
         "-692.9678566745079",
         "-692.9678566745079"
        ],
        [
         "1",
         "1.409090909090909",
         "-689.9041713904408",
         "-689.9041713904408",
         "-689.9041713904408",
         "-689.9041713904408"
        ],
        [
         "2",
         "1.412121212121212",
         "-686.8742138483485",
         "-686.8742138483485",
         "-686.8742138483485",
         "-686.8742138483485"
        ],
        [
         "3",
         "1.415151515151515",
         "-683.8774655204725",
         "-683.8774655204725",
         "-683.8774655204725",
         "-683.8774655204725"
        ],
        [
         "4",
         "1.418181818181818",
         "-680.9134078790485",
         "-680.9134078790485",
         "-680.9134078790485",
         "-680.9134078790485"
        ],
        [
         "5",
         "1.4212121212121211",
         "-677.9815223963142",
         "-677.9815223963142",
         "-677.9815223963142",
         "-677.9815223963142"
        ],
        [
         "6",
         "1.424242424242424",
         "-675.0812905445109",
         "-675.0812905445109",
         "-675.0812905445109",
         "-675.0812905445109"
        ],
        [
         "7",
         "1.4272727272727272",
         "-672.2121937958746",
         "-672.2121937958746",
         "-672.2121937958746",
         "-672.2121937958746"
        ],
        [
         "8",
         "1.4303030303030302",
         "-669.3737136226446",
         "-669.3737136226446",
         "-669.3737136226446",
         "-669.3737136226446"
        ],
        [
         "9",
         "1.4333333333333331",
         "-666.5653314970568",
         "-666.5653314970568",
         "-666.5653314970568",
         "-666.5653314970568"
        ],
        [
         "10",
         "1.4363636363636365",
         "-663.7865288913545",
         "-663.7865288913545",
         "-663.7865288913545",
         "-663.7865288913545"
        ],
        [
         "11",
         "1.4393939393939392",
         "-661.0367872777679",
         "-661.0367872777679",
         "-661.0367872777679",
         "-661.0367872777679"
        ],
        [
         "12",
         "1.4424242424242424",
         "-658.3155881285365",
         "-658.3155881285365",
         "-658.3155881285365",
         "-658.3155881285365"
        ],
        [
         "13",
         "1.445454545454545",
         "-655.6224129159054",
         "-655.6224129159054",
         "-655.6224129159054",
         "-655.6224129159054"
        ],
        [
         "14",
         "1.4484848484848485",
         "-652.9567431121031",
         "-652.9567431121031",
         "-652.9567431121031",
         "-652.9567431121031"
        ],
        [
         "15",
         "1.4515151515151514",
         "-650.3180601893782",
         "-650.3180601893782",
         "-650.3180601893782",
         "-650.3180601893782"
        ],
        [
         "16",
         "1.4545454545454544",
         "-647.7058456199647",
         "-647.7058456199647",
         "-647.7058456199647",
         "-647.7058456199647"
        ],
        [
         "17",
         "1.4575757575757575",
         "-645.1195808760967",
         "-645.1195808760967",
         "-645.1195808760967",
         "-645.1195808760967"
        ],
        [
         "18",
         "1.4606060606060605",
         "-642.5587474300173",
         "-642.5587474300173",
         "-642.5587474300173",
         "-642.5587474300173"
        ],
        [
         "19",
         "1.4636363636363636",
         "-640.0228267539624",
         "-640.0228267539624",
         "-640.0228267539624",
         "-640.0228267539624"
        ],
        [
         "20",
         "1.4666666666666666",
         "-637.5113003201714",
         "-637.5113003201714",
         "-637.5113003201714",
         "-637.5113003201714"
        ],
        [
         "21",
         "1.4696969696969695",
         "-635.0236496008802",
         "-635.0236496008802",
         "-635.0236496008802",
         "-635.0236496008802"
        ],
        [
         "22",
         "1.4727272727272729",
         "-632.5593560683246",
         "-632.5593560683246",
         "-632.5593560683246",
         "-632.5593560683246"
        ],
        [
         "23",
         "1.4757575757575756",
         "-630.1179011947479",
         "-630.1179011947479",
         "-630.1179011947479",
         "-630.1179011947479"
        ],
        [
         "24",
         "1.4787878787878788",
         "-627.6987664523895",
         "-627.6987664523895",
         "-627.6987664523895",
         "-627.6987664523895"
        ],
        [
         "25",
         "1.4818181818181817",
         "-625.3014333134779",
         "-625.3014333134779",
         "-625.3014333134779",
         "-625.3014333134779"
        ],
        [
         "26",
         "1.4848484848484849",
         "-622.9253832502636",
         "-622.9253832502636",
         "-622.9253832502636",
         "-622.9253832502636"
        ],
        [
         "27",
         "1.4878787878787878",
         "-620.5700977349807",
         "-620.5700977349807",
         "-620.5700977349807",
         "-620.5700977349807"
        ],
        [
         "28",
         "1.4909090909090907",
         "-618.2350582398612",
         "-618.2350582398612",
         "-618.2350582398612",
         "-618.2350582398612"
        ],
        [
         "29",
         "1.493939393939394",
         "-615.9197462371503",
         "-615.9197462371503",
         "-615.9197462371503",
         "-615.9197462371503"
        ],
        [
         "30",
         "1.4969696969696968",
         "-613.6236431990837",
         "-613.6236431990837",
         "-613.6236431990837",
         "-613.6236431990837"
        ],
        [
         "31",
         "1.5",
         "-611.3462305978992",
         "-611.3462305978992",
         "-611.3462305978992",
         "-611.3462305978992"
        ],
        [
         "32",
         "1.503030303030303",
         "-609.0869899058343",
         "-609.0869899058343",
         "-609.0869899058343",
         "-609.0869899058343"
        ],
        [
         "33",
         "1.506060606060606",
         "-606.8454025951287",
         "-606.8454025951287",
         "-606.8454025951287",
         "-606.8454025951287"
        ],
        [
         "34",
         "1.509090909090909",
         "-604.6209501380145",
         "-604.6209501380145",
         "-604.6209501380145",
         "-604.6209501380145"
        ],
        [
         "35",
         "1.512121212121212",
         "-602.4131140067384",
         "-602.4131140067384",
         "-602.4131140067384",
         "-602.4131140067384"
        ],
        [
         "36",
         "1.5151515151515151",
         "-600.2213756735346",
         "-600.2213756735346",
         "-600.2213756735346",
         "-600.2213756735346"
        ],
        [
         "37",
         "1.518181818181818",
         "-598.0452166106425",
         "-598.0452166106425",
         "-598.0452166106425",
         "-598.0452166106425"
        ],
        [
         "38",
         "1.5212121212121212",
         "-595.8841182903016",
         "-595.8841182903016",
         "-595.8841182903016",
         "-595.8841182903016"
        ],
        [
         "39",
         "1.5242424242424242",
         "-593.7375621847459",
         "-593.7375621847459",
         "-593.7375621847459",
         "-593.7375621847459"
        ],
        [
         "40",
         "1.5272727272727271",
         "-591.605029766215",
         "-591.605029766215",
         "-591.605029766215",
         "-591.605029766215"
        ],
        [
         "41",
         "1.5303030303030305",
         "-589.4860025069484",
         "-589.4860025069484",
         "-589.4860025069484",
         "-589.4860025069484"
        ],
        [
         "42",
         "1.5333333333333332",
         "-587.3799618791836",
         "-587.3799618791836",
         "-587.3799618791836",
         "-587.3799618791836"
        ],
        [
         "43",
         "1.5363636363636364",
         "-585.2863893551548",
         "-585.2863893551548",
         "-585.2863893551548",
         "-585.2863893551548"
        ],
        [
         "44",
         "1.539393939393939",
         "-583.204766407107",
         "-583.204766407107",
         "-583.204766407107",
         "-583.204766407107"
        ],
        [
         "45",
         "1.5424242424242425",
         "-581.1345745072722",
         "-581.1345745072722",
         "-581.1345745072722",
         "-581.1345745072722"
        ],
        [
         "46",
         "1.5454545454545454",
         "-579.0752951278973",
         "-579.0752951278973",
         "-579.0752951278973",
         "-579.0752951278973"
        ],
        [
         "47",
         "1.5484848484848484",
         "-577.026409741211",
         "-577.026409741211",
         "-577.026409741211",
         "-577.026409741211"
        ],
        [
         "48",
         "1.5515151515151515",
         "-574.9873998194544",
         "-574.9873998194544",
         "-574.9873998194544",
         "-574.9873998194544"
        ],
        [
         "49",
         "1.5545454545454545",
         "-572.9577468348689",
         "-572.9577468348689",
         "-572.9577468348689",
         "-572.9577468348689"
        ]
       ],
       "shape": {
        "columns": 5,
        "rows": 96
       }
      },
      "text/html": [
       "<div>\n",
       "<style scoped>\n",
       "    .dataframe tbody tr th:only-of-type {\n",
       "        vertical-align: middle;\n",
       "    }\n",
       "\n",
       "    .dataframe tbody tr th {\n",
       "        vertical-align: top;\n",
       "    }\n",
       "\n",
       "    .dataframe thead th {\n",
       "        text-align: right;\n",
       "    }\n",
       "</style>\n",
       "<table border=\"1\" class=\"dataframe\">\n",
       "  <thead>\n",
       "    <tr style=\"text-align: right;\">\n",
       "      <th></th>\n",
       "      <th>wavl</th>\n",
       "      <th>AS(5.00,0.00)</th>\n",
       "      <th>S(5.00,0.00)</th>\n",
       "      <th>AS( double 5.00,0.00)</th>\n",
       "      <th>S( double 5.00,0.00)</th>\n",
       "    </tr>\n",
       "  </thead>\n",
       "  <tbody>\n",
       "    <tr>\n",
       "      <th>0</th>\n",
       "      <td>1.406061</td>\n",
       "      <td>-692.967857</td>\n",
       "      <td>-692.967857</td>\n",
       "      <td>-692.967857</td>\n",
       "      <td>-692.967857</td>\n",
       "    </tr>\n",
       "    <tr>\n",
       "      <th>1</th>\n",
       "      <td>1.409091</td>\n",
       "      <td>-689.904171</td>\n",
       "      <td>-689.904171</td>\n",
       "      <td>-689.904171</td>\n",
       "      <td>-689.904171</td>\n",
       "    </tr>\n",
       "    <tr>\n",
       "      <th>2</th>\n",
       "      <td>1.412121</td>\n",
       "      <td>-686.874214</td>\n",
       "      <td>-686.874214</td>\n",
       "      <td>-686.874214</td>\n",
       "      <td>-686.874214</td>\n",
       "    </tr>\n",
       "    <tr>\n",
       "      <th>3</th>\n",
       "      <td>1.415152</td>\n",
       "      <td>-683.877466</td>\n",
       "      <td>-683.877466</td>\n",
       "      <td>-683.877466</td>\n",
       "      <td>-683.877466</td>\n",
       "    </tr>\n",
       "    <tr>\n",
       "      <th>4</th>\n",
       "      <td>1.418182</td>\n",
       "      <td>-680.913408</td>\n",
       "      <td>-680.913408</td>\n",
       "      <td>-680.913408</td>\n",
       "      <td>-680.913408</td>\n",
       "    </tr>\n",
       "    <tr>\n",
       "      <th>...</th>\n",
       "      <td>...</td>\n",
       "      <td>...</td>\n",
       "      <td>...</td>\n",
       "      <td>...</td>\n",
       "      <td>...</td>\n",
       "    </tr>\n",
       "    <tr>\n",
       "      <th>91</th>\n",
       "      <td>1.681818</td>\n",
       "      <td>-489.294254</td>\n",
       "      <td>-489.294254</td>\n",
       "      <td>-489.294254</td>\n",
       "      <td>-489.294254</td>\n",
       "    </tr>\n",
       "    <tr>\n",
       "      <th>92</th>\n",
       "      <td>1.684848</td>\n",
       "      <td>-487.176422</td>\n",
       "      <td>-487.176422</td>\n",
       "      <td>-487.176422</td>\n",
       "      <td>-487.176422</td>\n",
       "    </tr>\n",
       "    <tr>\n",
       "      <th>93</th>\n",
       "      <td>1.687879</td>\n",
       "      <td>-485.045132</td>\n",
       "      <td>-485.045132</td>\n",
       "      <td>-485.045132</td>\n",
       "      <td>-485.045132</td>\n",
       "    </tr>\n",
       "    <tr>\n",
       "      <th>94</th>\n",
       "      <td>1.690909</td>\n",
       "      <td>-482.899865</td>\n",
       "      <td>-482.899865</td>\n",
       "      <td>-482.899865</td>\n",
       "      <td>-482.899865</td>\n",
       "    </tr>\n",
       "    <tr>\n",
       "      <th>95</th>\n",
       "      <td>1.693939</td>\n",
       "      <td>-480.740102</td>\n",
       "      <td>-480.740102</td>\n",
       "      <td>-480.740102</td>\n",
       "      <td>-480.740102</td>\n",
       "    </tr>\n",
       "  </tbody>\n",
       "</table>\n",
       "<p>96 rows × 5 columns</p>\n",
       "</div>"
      ],
      "text/plain": [
       "        wavl  AS(5.00,0.00)  S(5.00,0.00)  AS( double 5.00,0.00)  \\\n",
       "0   1.406061    -692.967857   -692.967857            -692.967857   \n",
       "1   1.409091    -689.904171   -689.904171            -689.904171   \n",
       "2   1.412121    -686.874214   -686.874214            -686.874214   \n",
       "3   1.415152    -683.877466   -683.877466            -683.877466   \n",
       "4   1.418182    -680.913408   -680.913408            -680.913408   \n",
       "..       ...            ...           ...                    ...   \n",
       "91  1.681818    -489.294254   -489.294254            -489.294254   \n",
       "92  1.684848    -487.176422   -487.176422            -487.176422   \n",
       "93  1.687879    -485.045132   -485.045132            -485.045132   \n",
       "94  1.690909    -482.899865   -482.899865            -482.899865   \n",
       "95  1.693939    -480.740102   -480.740102            -480.740102   \n",
       "\n",
       "    S( double 5.00,0.00)  \n",
       "0            -692.967857  \n",
       "1            -689.904171  \n",
       "2            -686.874214  \n",
       "3            -683.877466  \n",
       "4            -680.913408  \n",
       "..                   ...  \n",
       "91           -489.294254  \n",
       "92           -487.176422  \n",
       "93           -485.045132  \n",
       "94           -482.899865  \n",
       "95           -480.740102  \n",
       "\n",
       "[96 rows x 5 columns]"
      ]
     },
     "execution_count": 30,
     "metadata": {},
     "output_type": "execute_result"
    }
   ],
   "source": [
    "filename_D_iso      = \"./results/Dispersion_isolated_WG_3D_concentric.csv\"\n",
    "filename_D_coupled  = \"./results/Dispersion_coupled_WG_3D_concentric.csv\"\n",
    "df_iso              = pd.read_csv(filename_D_iso)\n",
    "df_iso"
   ]
  },
  {
   "cell_type": "code",
   "execution_count": 31,
   "metadata": {},
   "outputs": [
    {
     "data": {
      "application/vnd.microsoft.datawrangler.viewer.v0+json": {
       "columns": [
        {
         "name": "index",
         "rawType": "int64",
         "type": "integer"
        },
        {
         "name": "wavl",
         "rawType": "float64",
         "type": "float"
        },
        {
         "name": "AS(5.00,0.00)",
         "rawType": "float64",
         "type": "float"
        },
        {
         "name": "S(5.00,0.00)",
         "rawType": "float64",
         "type": "float"
        },
        {
         "name": "AS( double 5.00,0.00)",
         "rawType": "float64",
         "type": "float"
        },
        {
         "name": "S( double 5.00,0.00)",
         "rawType": "float64",
         "type": "float"
        }
       ],
       "conversionMethod": "pd.DataFrame",
       "ref": "3f262441-48ba-4bc4-ab41-3955308f92e0",
       "rows": [
        [
         "0",
         "1.406060606060606",
         "-635.0392778562008",
         "-750.8964354928149",
         "-577.1106990378938",
         "-808.8250143111219"
        ],
        [
         "1",
         "1.409090909090909",
         "-632.0306575878418",
         "-747.7776851930397",
         "-574.157143785243",
         "-805.6511989956385"
        ],
        [
         "2",
         "1.412121212121212",
         "-630.239748923784",
         "-743.5086787730199",
         "-573.6052839992193",
         "-800.1431436976914"
        ],
        [
         "3",
         "1.415151515151515",
         "-629.4595669228336",
         "-738.2953641180598",
         "-575.0416683251947",
         "-792.7132627156469"
        ],
        [
         "4",
         "1.418181818181818",
         "-628.8080784496909",
         "-733.0187373082991",
         "-576.7027490203334",
         "-785.1240667375498"
        ],
        [
         "5",
         "1.4212121212121211",
         "-627.5831603006415",
         "-728.3798844919856",
         "-577.1847982049687",
         "-778.7782465876571"
        ],
        [
         "6",
         "1.424242424242424",
         "-625.701597894401",
         "-724.4609831946738",
         "-576.321905244291",
         "-773.8406758448366"
        ],
        [
         "7",
         "1.4272727272727272",
         "-623.6984893719388",
         "-720.7258982200792",
         "-575.184784948003",
         "-769.239602644284"
        ],
        [
         "8",
         "1.4303030303030302",
         "-622.3111281901173",
         "-716.436299055442",
         "-575.24854275759",
         "-763.4988844882394"
        ],
        [
         "9",
         "1.4333333333333331",
         "-621.8648030837096",
         "-711.2658599104066",
         "-577.1642746703623",
         "-755.9663883237562"
        ],
        [
         "10",
         "1.4363636363636365",
         "-621.8174200468522",
         "-705.7556377356406",
         "-579.84831120235",
         "-747.7247465799268"
        ],
        [
         "11",
         "1.4393939393939392",
         "-620.5139005503875",
         "-701.5596740048193",
         "-579.991013823007",
         "-742.0825607318708"
        ],
        [
         "12",
         "1.4424242424242424",
         "-616.4313119328417",
         "-700.1998643240681",
         "-574.547035737147",
         "-742.0841405195996"
        ],
        [
         "13",
         "1.445454545454545",
         "-610.3204246493483",
         "-700.9244011824637",
         "-565.0184363827913",
         "-746.226389449022"
        ],
        [
         "14",
         "1.4484848484848485",
         "-604.7859943428211",
         "-701.1274918814379",
         "-556.6152455735393",
         "-749.2982406507726"
        ],
        [
         "15",
         "1.4515151515151514",
         "-602.3005319249254",
         "-698.3355884539403",
         "-554.2830036604726",
         "-746.3531167185024"
        ],
        [
         "16",
         "1.4545454545454544",
         "-602.9131026662052",
         "-692.4985885737807",
         "-558.1203597124457",
         "-737.2913315275966"
        ],
        [
         "17",
         "1.4575757575757575",
         "-604.7682754404085",
         "-685.4708863117286",
         "-564.4169700047202",
         "-725.8221917473604"
        ],
        [
         "18",
         "1.4606060606060605",
         "-607.0710832968243",
         "-678.0464115631539",
         "-571.5834191636313",
         "-713.5340756962904"
        ],
        [
         "19",
         "1.4636363636363636",
         "-609.8991426769657",
         "-670.1465108309578",
         "-579.775458599969",
         "-700.2701949079533"
        ],
        [
         "20",
         "1.4666666666666666",
         "-612.7961364469946",
         "-662.2264641932904",
         "-588.080972573818",
         "-686.9416280664094"
        ],
        [
         "21",
         "1.4696969696969695",
         "-614.0320544900176",
         "-656.0152447116851",
         "-593.0404593791551",
         "-677.00683982249"
        ],
        [
         "22",
         "1.4727272727272729",
         "-612.0609380925406",
         "-653.0577740441087",
         "-591.5625201167566",
         "-673.5561920198927"
        ],
        [
         "23",
         "1.4757575757575756",
         "-607.9884444582497",
         "-652.2473579313614",
         "-585.8589877217513",
         "-674.3768146679749"
        ],
        [
         "24",
         "1.4787878787878788",
         "-604.3405729705814",
         "-651.0569599343115",
         "-580.9823794887734",
         "-674.4151534162337"
        ],
        [
         "25",
         "1.4818181818181817",
         "-602.8664371812691",
         "-647.7364294456867",
         "-580.4314410490603",
         "-670.1714255778955"
        ],
        [
         "26",
         "1.4848484848484849",
         "-603.3791426338041",
         "-642.4716238667808",
         "-583.8329020173445",
         "-662.017864483298"
        ],
        [
         "27",
         "1.4878787878787878",
         "-604.0299544538967",
         "-637.1102410162387",
         "-587.4898111728128",
         "-653.6503842974968"
        ],
        [
         "28",
         "1.4909090909090907",
         "-602.7970061172863",
         "-633.6731103625539",
         "-587.3589539947112",
         "-649.1111624852466"
        ],
        [
         "29",
         "1.493939393939394",
         "-599.1882226636296",
         "-632.6512698105557",
         "-582.4566990901089",
         "-649.3827933839611"
        ],
        [
         "30",
         "1.4969696969696968",
         "-594.6978153131005",
         "-632.5494710848317",
         "-575.7719874271173",
         "-651.4752989705796"
        ],
        [
         "31",
         "1.5",
         "-591.2490481200879",
         "-631.443413075354",
         "-571.1518656422766",
         "-651.5405955528087"
        ],
        [
         "32",
         "1.503030303030303",
         "-589.7055368713696",
         "-628.4684429400602",
         "-570.3240838369048",
         "-647.849895974286"
        ],
        [
         "33",
         "1.506060606060606",
         "-589.3581655148874",
         "-624.3326396755476",
         "-571.8709284346463",
         "-641.8198767559664"
        ],
        [
         "34",
         "1.509090909090909",
         "-589.5684652663705",
         "-619.6734350101974",
         "-574.5159803947266",
         "-634.7259198823804"
        ],
        [
         "35",
         "1.512121212121212",
         "-590.5626492704603",
         "-614.2635787436193",
         "-578.712184534182",
         "-626.1140434805001"
        ],
        [
         "36",
         "1.5151515151515151",
         "-592.2205114956291",
         "-608.2222398515624",
         "-584.2196473177237",
         "-616.2231040295903"
        ],
        [
         "37",
         "1.518181818181818",
         "-594.3967329625995",
         "-601.693700258324",
         "-590.7482493145566",
         "-605.3421839060056"
        ],
        [
         "38",
         "1.5212121212121212",
         "-597.5628767859954",
         "-594.2053597943664",
         "-599.2416352816894",
         "-592.5266012984312"
        ],
        [
         "39",
         "1.5242424242424242",
         "-601.8298282286534",
         "-585.6452961407173",
         "-609.9220942725608",
         "-577.5530300966885"
        ],
        [
         "40",
         "1.5272727272727271",
         "-605.9705468003305",
         "-577.2395127318547",
         "-620.3360638344459",
         "-562.8739956974944"
        ],
        [
         "41",
         "1.5303030303030305",
         "-607.1083890371378",
         "-571.8636159765115",
         "-624.7307755673274",
         "-554.2412294460746"
        ],
        [
         "42",
         "1.5333333333333332",
         "-603.5924086351893",
         "-571.167515123178",
         "-619.8048553911949",
         "-554.9550683671723"
        ],
        [
         "43",
         "1.5363636363636364",
         "-597.647001773755",
         "-572.9257769369268",
         "-610.0076141923553",
         "-560.5651645186987"
        ],
        [
         "44",
         "1.539393939393939",
         "-592.6338462007756",
         "-573.7756866134371",
         "-602.0629259944443",
         "-564.3466068197672"
        ],
        [
         "45",
         "1.5424242424242425",
         "-590.2778874195955",
         "-571.991261594698",
         "-599.4212003319186",
         "-562.847948682124"
        ],
        [
         "46",
         "1.5454545454545454",
         "-589.8759922294761",
         "-568.2745980264434",
         "-600.6766893310548",
         "-557.4739009249896"
        ],
        [
         "47",
         "1.5484848484848484",
         "-589.2778228451452",
         "-564.7749966374026",
         "-601.5292359490796",
         "-552.5235835335944"
        ],
        [
         "48",
         "1.5515151515151515",
         "-586.7524793397115",
         "-563.2223202991972",
         "-598.5175588599686",
         "-551.4572407789401"
        ],
        [
         "49",
         "1.5545454545454545",
         "-582.2731527009013",
         "-563.6423409688365",
         "-591.5885585669336",
         "-554.3269351028042"
        ]
       ],
       "shape": {
        "columns": 5,
        "rows": 96
       }
      },
      "text/html": [
       "<div>\n",
       "<style scoped>\n",
       "    .dataframe tbody tr th:only-of-type {\n",
       "        vertical-align: middle;\n",
       "    }\n",
       "\n",
       "    .dataframe tbody tr th {\n",
       "        vertical-align: top;\n",
       "    }\n",
       "\n",
       "    .dataframe thead th {\n",
       "        text-align: right;\n",
       "    }\n",
       "</style>\n",
       "<table border=\"1\" class=\"dataframe\">\n",
       "  <thead>\n",
       "    <tr style=\"text-align: right;\">\n",
       "      <th></th>\n",
       "      <th>wavl</th>\n",
       "      <th>AS(5.00,0.00)</th>\n",
       "      <th>S(5.00,0.00)</th>\n",
       "      <th>AS( double 5.00,0.00)</th>\n",
       "      <th>S( double 5.00,0.00)</th>\n",
       "    </tr>\n",
       "  </thead>\n",
       "  <tbody>\n",
       "    <tr>\n",
       "      <th>0</th>\n",
       "      <td>1.406061</td>\n",
       "      <td>-635.039278</td>\n",
       "      <td>-750.896435</td>\n",
       "      <td>-577.110699</td>\n",
       "      <td>-808.825014</td>\n",
       "    </tr>\n",
       "    <tr>\n",
       "      <th>1</th>\n",
       "      <td>1.409091</td>\n",
       "      <td>-632.030658</td>\n",
       "      <td>-747.777685</td>\n",
       "      <td>-574.157144</td>\n",
       "      <td>-805.651199</td>\n",
       "    </tr>\n",
       "    <tr>\n",
       "      <th>2</th>\n",
       "      <td>1.412121</td>\n",
       "      <td>-630.239749</td>\n",
       "      <td>-743.508679</td>\n",
       "      <td>-573.605284</td>\n",
       "      <td>-800.143144</td>\n",
       "    </tr>\n",
       "    <tr>\n",
       "      <th>3</th>\n",
       "      <td>1.415152</td>\n",
       "      <td>-629.459567</td>\n",
       "      <td>-738.295364</td>\n",
       "      <td>-575.041668</td>\n",
       "      <td>-792.713263</td>\n",
       "    </tr>\n",
       "    <tr>\n",
       "      <th>4</th>\n",
       "      <td>1.418182</td>\n",
       "      <td>-628.808078</td>\n",
       "      <td>-733.018737</td>\n",
       "      <td>-576.702749</td>\n",
       "      <td>-785.124067</td>\n",
       "    </tr>\n",
       "    <tr>\n",
       "      <th>...</th>\n",
       "      <td>...</td>\n",
       "      <td>...</td>\n",
       "      <td>...</td>\n",
       "      <td>...</td>\n",
       "      <td>...</td>\n",
       "    </tr>\n",
       "    <tr>\n",
       "      <th>91</th>\n",
       "      <td>1.681818</td>\n",
       "      <td>-579.852627</td>\n",
       "      <td>-398.735881</td>\n",
       "      <td>-670.411000</td>\n",
       "      <td>-308.177508</td>\n",
       "    </tr>\n",
       "    <tr>\n",
       "      <th>92</th>\n",
       "      <td>1.684848</td>\n",
       "      <td>-594.335250</td>\n",
       "      <td>-380.017594</td>\n",
       "      <td>-701.494079</td>\n",
       "      <td>-272.858766</td>\n",
       "    </tr>\n",
       "    <tr>\n",
       "      <th>93</th>\n",
       "      <td>1.687879</td>\n",
       "      <td>-605.079860</td>\n",
       "      <td>-365.010404</td>\n",
       "      <td>-725.114588</td>\n",
       "      <td>-244.975676</td>\n",
       "    </tr>\n",
       "    <tr>\n",
       "      <th>94</th>\n",
       "      <td>1.690909</td>\n",
       "      <td>-591.970923</td>\n",
       "      <td>-373.828807</td>\n",
       "      <td>-701.041981</td>\n",
       "      <td>-264.757749</td>\n",
       "    </tr>\n",
       "    <tr>\n",
       "      <th>95</th>\n",
       "      <td>1.693939</td>\n",
       "      <td>-549.125006</td>\n",
       "      <td>-412.355199</td>\n",
       "      <td>-617.509909</td>\n",
       "      <td>-343.970296</td>\n",
       "    </tr>\n",
       "  </tbody>\n",
       "</table>\n",
       "<p>96 rows × 5 columns</p>\n",
       "</div>"
      ],
      "text/plain": [
       "        wavl  AS(5.00,0.00)  S(5.00,0.00)  AS( double 5.00,0.00)  \\\n",
       "0   1.406061    -635.039278   -750.896435            -577.110699   \n",
       "1   1.409091    -632.030658   -747.777685            -574.157144   \n",
       "2   1.412121    -630.239749   -743.508679            -573.605284   \n",
       "3   1.415152    -629.459567   -738.295364            -575.041668   \n",
       "4   1.418182    -628.808078   -733.018737            -576.702749   \n",
       "..       ...            ...           ...                    ...   \n",
       "91  1.681818    -579.852627   -398.735881            -670.411000   \n",
       "92  1.684848    -594.335250   -380.017594            -701.494079   \n",
       "93  1.687879    -605.079860   -365.010404            -725.114588   \n",
       "94  1.690909    -591.970923   -373.828807            -701.041981   \n",
       "95  1.693939    -549.125006   -412.355199            -617.509909   \n",
       "\n",
       "    S( double 5.00,0.00)  \n",
       "0            -808.825014  \n",
       "1            -805.651199  \n",
       "2            -800.143144  \n",
       "3            -792.713263  \n",
       "4            -785.124067  \n",
       "..                   ...  \n",
       "91           -308.177508  \n",
       "92           -272.858766  \n",
       "93           -244.975676  \n",
       "94           -264.757749  \n",
       "95           -343.970296  \n",
       "\n",
       "[96 rows x 5 columns]"
      ]
     },
     "execution_count": 31,
     "metadata": {},
     "output_type": "execute_result"
    }
   ],
   "source": [
    "fold_num    = 10\n",
    "Y_data      = ()\n",
    "gap_arr     = []\n",
    "data_arr    = []\n",
    "\n",
    "df_coupled = pd.read_csv(filename_D_coupled)\n",
    "df_coupled"
   ]
  },
  {
   "cell_type": "code",
   "execution_count": 35,
   "metadata": {},
   "outputs": [
    {
     "data": {
      "image/png": "[encoded data removed]",
      "text/plain": [
       "<Figure size 800x600 with 1 Axes>"
      ]
     },
     "metadata": {},
     "output_type": "display_data"
    }
   ],
   "source": [
    "data_arr = (np.c_[df_iso.to_numpy()[:,:2],df_coupled.to_numpy()[:,1:]],)\n",
    "# xticks_ori      = np.arange(0,num_of_wavl_pts,int(num_of_wavl_pts/fold_num))\n",
    "# wavl_arr_ori    = wavl_arr[xticks_ori]\n",
    "# wavl_arr        = df_coupled[\"wavl\"]\n",
    "# wavl_arr_ticks  = [\"{:.3f}\".format(wavl) for wavl in wavl_arr_ori]\n",
    "\n",
    "# data_arr = np.array(data_arr)\n",
    "# data_arr = (np.c_[wavl_arr, data_arr],)\n",
    "\n",
    "data_label_arr  = [\"N = 1\",\"\",\"N = 2\",\"\",r\"N$\\to \\infty$\"]*3\n",
    "color_list      = ['indianred']+['Orange']*2+['tab:blue']*2+['tab:green']*2+['black']*10\n",
    "linestyle_list  = [\"--\"]+[\"-\",\"-\"]*10\n",
    "\n",
    "# xticks       = np.arange(-Max_M_idx,Max_M_idx+1)\n",
    "# xtickslabels = [(\"$M_0$+\" if xtick>0 else \"$M_0$\") + str(xtick) + \"M\"\n",
    "#                 for xtick in xticks]\n",
    "# xtickslabels[int(len(xtickslabels)/2)] = \"$M_0$\"\n",
    "# xticks       = np.arange(-Max_M_idx,Max_M_idx+1)*M\n",
    "# yticks       = ticks_arr(data_arr)\n",
    "param_dict   = {\"Y_legends\"     : data_label_arr,\n",
    "                \"X_label\"       : r'wavelength($\\mu m$)',\n",
    "                \"Y_label\"       : \"D (pm/km/nm)\",\n",
    "                \"title\"         : \"Dispersion of 3D stacked rings\",\n",
    "                \"figsize\"       : (8,6),\n",
    "                \"marker_list\"   : [\"\"]*15,\n",
    "                \"linestyle_list\": linestyle_list,\n",
    "                \"colors_list\"   : color_list,\n",
    "                \"xlim\"          : (1.52,1.58),\n",
    "                \"ylim\"          : (-800,-400),\n",
    "                \"AD_region_color\"    : True,\n",
    "                \"bbox_legend\"   :(0.4,0.8)}\n",
    "\n",
    "Plot_curve(data_arr, **param_dict)"
   ]
  },
  {
   "cell_type": "code",
   "execution_count": null,
   "metadata": {},
   "outputs": [],
   "source": []
  }
 ],
 "metadata": {
  "kernelspec": {
   "display_name": "Standard",
   "language": "python",
   "name": "python3"
  },
  "language_info": {
   "codemirror_mode": {
    "name": "ipython",
    "version": 3
   },
   "file_extension": ".py",
   "mimetype": "text/x-python",
   "name": "python",
   "nbconvert_exporter": "python",
   "pygments_lexer": "ipython3",
   "version": "3.13.2"
  }
 },
 "nbformat": 4,
 "nbformat_minor": 2
}
