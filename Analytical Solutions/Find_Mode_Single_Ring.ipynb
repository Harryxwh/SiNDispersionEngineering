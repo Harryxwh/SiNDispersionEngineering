{
 "cells": [
  {
   "cell_type": "code",
   "execution_count": 1,
   "metadata": {},
   "outputs": [],
   "source": [
    "import matplotlib.pyplot as plt\n",
    "import numpy as np"
   ]
  },
  {
   "cell_type": "code",
   "execution_count": 2,
   "metadata": {},
   "outputs": [],
   "source": [
    "def str2complex(s):\n",
    "    str = s.replace(\" \",\"\").replace(\"i\",\"j\")\n",
    "    return complex(str)"
   ]
  },
  {
   "cell_type": "code",
   "execution_count": 3,
   "metadata": {},
   "outputs": [],
   "source": [
    "def PlotFunction(X,Y):\n",
    "    plt.plot(X,Y)\n",
    "    plt.ylim((-100, 100))\n",
    "    plt.show()"
   ]
  },
  {
   "cell_type": "code",
   "execution_count": 4,
   "metadata": {},
   "outputs": [
    {
     "name": "stdout",
     "output_type": "stream",
     "text": [
      "# of lines: 123\n",
      "# of columns: 123\n",
      "shape of Field matrix: (123, 123)\n"
     ]
    }
   ],
   "source": [
    "filename = './Mode Profile/Mode1_Ey.txt'\n",
    "Field = np.array([[]])\n",
    "with open(filename) as f:\n",
    "    lines = f.readlines()\n",
    "    Field = np.array([str2complex(s) for s in lines[0].split('\\t')])\n",
    "    for line in lines[1:]:\n",
    "        line_arr = line.split('\\t')\n",
    "        Field = np.c_[Field,np.array([str2complex(s) for s in line_arr])]\n",
    "\n",
    "print(\"# of lines:\",len(lines))\n",
    "print(\"# of columns:\",len(lines[0].split('\\t')))\n",
    "print(\"shape of Field matrix:\",np.shape(Field))"
   ]
  },
  {
   "cell_type": "code",
   "execution_count": 5,
   "metadata": {},
   "outputs": [
    {
     "data": {
      "image/png": "[encoded data removed]",
      "text/plain": [
       "<Figure size 640x480 with 1 Axes>"
      ]
     },
     "metadata": {},
     "output_type": "display_data"
    }
   ],
   "source": [
    "plt.imshow(np.abs(Field))\n",
    "plt.show()"
   ]
  },
  {
   "cell_type": "code",
   "execution_count": 6,
   "metadata": {},
   "outputs": [],
   "source": [
    "'''\n",
    "Known Parameters:\n",
    "n1      :   refractive index of the waveguide\n",
    "n0      :   refractive index of the cladding\n",
    "a       :   width of the waveguide in the r direction\n",
    "b       :   height of the waveguide in the z direction\n",
    "lambda0 :   wavelength in vacuum\n",
    "\n",
    "Unknown Variables:\n",
    "kx, kr, kz2, kr2\n",
    "\n",
    "kz^2 + kr^2     = k0^2 * (nz(z)^2+nr(r)^2-n1^2) = k0^2 * n1^2       region  1\n",
    "kz^2 - kr2^2    = k0^2 * n0^2                                       region  2\n",
    "-kz2^2 + kr^2   = k0^2 * n0^2                                       region  3\n",
    "kz2 = kz * tan(kz * b - m * pi / 2)                                 boundary condition\n",
    "'''\n",
    "n1      =   1\n",
    "n0      =   0\n",
    "b       =   1\n",
    "lambda0 =   1\n",
    "#k0      =   2*np.pi/lambda0\n",
    "k0      =   4\n",
    "\n",
    "#m = 2*n\n",
    "def func_0(kz):\n",
    "    len = np.shape(kz)[0]\n",
    "    assert n1 > n0\n",
    "    assert np.all(np.ones(len) * k0**2*(n1**2-n0**2) > kz**2)\n",
    "    return kz * np.tan(kz * b) - np.sqrt(k0**2*(n1**2-n0**2) - kz**2)\n",
    "\n",
    "#m = 2*n+1\n",
    "def func_1(kz):\n",
    "    len = np.shape(kz)[0]\n",
    "    assert n1 > n0\n",
    "    assert np.all(np.ones(len) * k0**2*(n1**2-n0**2) > kz**2)\n",
    "    return kz * np.tan(kz * b - np.pi/2) - np.sqrt(k0**2*(n1**2-n0**2) - kz**2)\n",
    "\n",
    "def find_zero(X,func,Threshold = 10):\n",
    "    Y = func(X)\n",
    "    res = np.array([])\n",
    "    found = False\n",
    "    for i in range(len(Y)-1):\n",
    "        if found:\n",
    "            found = False\n",
    "            continue\n",
    "        if Y[i] * Y[i+1] <= 0 and Y[i]-Y[i+1] < Threshold:\n",
    "            found = True\n",
    "            if Y[i] * Y[i+1] < 0:\n",
    "                res = np.append(res,(X[i]+X[i+1])/2)\n",
    "            elif Y[i] == 0:\n",
    "                res = np.append(res,X[i])\n",
    "            else:\n",
    "                res = np.append(res,X[i+1])\n",
    "    return res\n"
   ]
  },
  {
   "cell_type": "code",
   "execution_count": 8,
   "metadata": {},
   "outputs": [],
   "source": [
    "'''\n",
    "Known Parameters:\n",
    "n1      :   refractive index of the waveguide\n",
    "n0      :   refractive index of the cladding\n",
    "a       :   width of the waveguide in the x direction\n",
    "b       :   height of the waveguide in the y direction\n",
    "lambda0 :   wavelength in vacuum\n",
    "\n",
    "Unknown Variables:\n",
    "kx, ky, kx2, ky2, beta\n",
    "\n",
    "kx^2 + ky^2 + beta^2      = k0^2 * (nz(z)^2+nr(r)^2-n1^2) = k0^2 * n1^2       region  1\n",
    "-kx^2 + ky2^2 + beta^2    = k0^2 * n0^2                                       region  2\n",
    "kx^2 - ky2^2 + beta^2     = k0^2 * n0^2                                       region  3\n",
    "kx2 * n1^2 / (kx * n0^2)  = tan(kx * a - m * pi / 2)                boundary condition x\n",
    "ky2 / ky                  = tan(ky * b - n * pi / 2)                boundary condition y\n",
    "'''\n",
    "n1      =   2\n",
    "n0      =   1\n",
    "a       =   1\n",
    "b       =   1\n",
    "lambda0 =   1\n",
    "#k0      =   2*np.pi/lambda0\n",
    "k0      =   2.3\n",
    "\n",
    "#m = 2*n\n",
    "def func_kx_0(kx):\n",
    "    len = np.shape(kx)[0]\n",
    "    assert n1 > n0\n",
    "    assert np.all(np.ones(len) * k0**2*(n1**2-n0**2) > kx**2)\n",
    "    return np.tan(kx * a) - np.sqrt(k0**2*(n1**2-n0**2) - kx**2) / kx * (n1/n0)**2\n",
    "\n",
    "def func_kx_1(kx):\n",
    "    len = np.shape(kx)[0]\n",
    "    assert n1 > n0\n",
    "    assert np.all(np.ones(len) * k0**2*(n1**2-n0**2) > kx**2)\n",
    "    return np.tan(kx * a - np.pi*0.5) - np.sqrt(k0**2*(n1**2-n0**2) - kx**2) / kx * (n1/n0)**2\n",
    "\n",
    "def func_ky_0(ky):\n",
    "    len = np.shape(ky)[0]\n",
    "    assert n1 > n0\n",
    "    assert np.all(np.ones(len) * k0**2*(n1**2-n0**2) > ky**2)\n",
    "    return np.tan(ky * b) - np.sqrt(k0**2*(n1**2-n0**2) - ky**2) / ky\n",
    "\n",
    "def func_ky_1(ky):\n",
    "    len = np.shape(ky)[0]\n",
    "    assert n1 > n0\n",
    "    assert np.all(np.ones(len) * k0**2*(n1**2-n0**2) > ky**2)\n",
    "    return np.tan(ky * b - np.pi*0.5) - np.sqrt(k0**2*(n1**2-n0**2) - ky**2) / ky\n",
    "\n",
    "def find_zero(X,func,Threshold = 10):\n",
    "    Y = func(X)\n",
    "    res = np.array([])\n",
    "    found = False\n",
    "    for i in range(len(Y)-1):\n",
    "        if found:\n",
    "            found = False\n",
    "            continue\n",
    "        if Y[i] * Y[i+1] <= 0 and Y[i]-Y[i+1] < Threshold:\n",
    "            found = True\n",
    "            if Y[i] * Y[i+1] < 0:\n",
    "                res = np.append(res,(X[i]+X[i+1])/2)\n",
    "            elif Y[i] == 0:\n",
    "                res = np.append(res,X[i])\n",
    "            else:\n",
    "                res = np.append(res,X[i+1])\n",
    "    return res\n"
   ]
  },
  {
   "cell_type": "code",
   "execution_count": 9,
   "metadata": {},
   "outputs": [
    {
     "data": {
      "text/plain": [
       "15.869999999999997"
      ]
     },
     "execution_count": 9,
     "metadata": {},
     "output_type": "execute_result"
    }
   ],
   "source": [
    "k0**2*(n1**2-n0**2)*a**2"
   ]
  },
  {
   "cell_type": "code",
   "execution_count": 10,
   "metadata": {},
   "outputs": [
    {
     "name": "stderr",
     "output_type": "stream",
     "text": [
      "/var/folders/ch/7r5m10cd1x18pgpw08_ksg300000gn/T/ipykernel_40007/3527670256.py:31: RuntimeWarning: divide by zero encountered in divide\n",
      "  return np.tan(kx * a) - np.sqrt(k0**2*(n1**2-n0**2) - kx**2) / kx * (n1/n0)**2\n",
      "/var/folders/ch/7r5m10cd1x18pgpw08_ksg300000gn/T/ipykernel_40007/3527670256.py:37: RuntimeWarning: divide by zero encountered in divide\n",
      "  return np.tan(kx * a - np.pi*0.5) - np.sqrt(k0**2*(n1**2-n0**2) - kx**2) / kx * (n1/n0)**2\n"
     ]
    },
    {
     "data": {
      "text/plain": [
       "[<matplotlib.lines.Line2D at 0x119f95bd0>]"
      ]
     },
     "execution_count": 10,
     "metadata": {},
     "output_type": "execute_result"
    },
    {
     "data": {
      "image/png": "[encoded data removed]",
      "text/plain": [
       "<Figure size 300x200 with 1 Axes>"
      ]
     },
     "metadata": {},
     "output_type": "display_data"
    }
   ],
   "source": [
    "kx_max = np.sqrt(k0**2*(n1**2-n0**2))*0.999\n",
    "Threshold   =   1e-2\n",
    "\n",
    "X   = np.linspace(0,kx_max,1000)\n",
    "Discontinuity_Idx_0 = np.where((X - np.pi*0.5) % np.pi < Threshold)\n",
    "Y_0 = func_kx_0(X)\n",
    "Y_0[Discontinuity_Idx_0] = np.nan\n",
    "\n",
    "Discontinuity_Idx_1 = np.where(X % np.pi < Threshold)\n",
    "Y_1 = func_kx_1(X)\n",
    "Y_1[Discontinuity_Idx_1] = np.nan\n",
    "\n",
    "plt.figure(figsize=(3,2),dpi=100)\n",
    "plt.plot(X,Y_0)\n",
    "plt.plot(X,Y_1)\n",
    "plt.ylim((-100, 100))\n",
    "plt.plot(X,np.zeros(1000))"
   ]
  },
  {
   "cell_type": "code",
   "execution_count": 11,
   "metadata": {},
   "outputs": [
    {
     "name": "stderr",
     "output_type": "stream",
     "text": [
      "/var/folders/ch/7r5m10cd1x18pgpw08_ksg300000gn/T/ipykernel_40007/3527670256.py:31: RuntimeWarning: divide by zero encountered in divide\n",
      "  return np.tan(kx * a) - np.sqrt(k0**2*(n1**2-n0**2) - kx**2) / kx * (n1/n0)**2\n",
      "/var/folders/ch/7r5m10cd1x18pgpw08_ksg300000gn/T/ipykernel_40007/3527670256.py:37: RuntimeWarning: divide by zero encountered in divide\n",
      "  return np.tan(kx * a - np.pi*0.5) - np.sqrt(k0**2*(n1**2-n0**2) - kx**2) / kx * (n1/n0)**2\n"
     ]
    },
    {
     "data": {
      "text/plain": [
       "array([1.47198338, 3.88213208, 2.88620286])"
      ]
     },
     "execution_count": 11,
     "metadata": {},
     "output_type": "execute_result"
    }
   ],
   "source": [
    "X  = np.linspace(0,kx_max,1000)\n",
    "kx_roots = find_zero(X,func_kx_0)\n",
    "kx_roots = np.append(kx_roots,find_zero(X,func_kx_1))\n",
    "kx_roots"
   ]
  },
  {
   "cell_type": "code",
   "execution_count": 19,
   "metadata": {},
   "outputs": [],
   "source": [
    "from scipy.special import jv, yv, hankel2"
   ]
  },
  {
   "cell_type": "code",
   "execution_count": 36,
   "metadata": {},
   "outputs": [
    {
     "data": {
      "text/plain": [
       "(0.9182730233911596-0.15084922586068486j)"
      ]
     },
     "execution_count": 36,
     "metadata": {},
     "output_type": "execute_result"
    }
   ],
   "source": [
    "import scipy.integrate as integrate\n",
    "# Gamma function with complex argument v\n",
    "def gamma(v):\n",
    "    vr = np.real(v)\n",
    "    vi = np.imag(v)\n",
    "\n",
    "    res_re = integrate.quad(lambda x: np.exp(-x)* x**(vr-1) * np.cos(vi * np.log(x)),\n",
    "                            0, np.inf)\n",
    "    res_im = integrate.quad(lambda x: np.exp(-x)* x**(vr-1) * np.sin(vi * np.log(x)),\n",
    "                            0, np.inf)\n",
    "    return complex(res_re[0],res_im[0])\n",
    "gamma(complex(1,0.3))"
   ]
  },
  {
   "cell_type": "code",
   "execution_count": 54,
   "metadata": {},
   "outputs": [],
   "source": [
    "# Bessel function of the first kind with complex order v\n",
    "from math import factorial\n",
    "def BesselJ(v,x,kMax = 100,tol = 1e-3,Force_Expansion = True):\n",
    "    res = np.zeros(len(x))\n",
    "    res_last = res\n",
    "    Rerr = np.zeros(len(x))\n",
    "    Ierr = np.zeros(len(x))\n",
    "    if not Force_Expansion:\n",
    "        if np.isreal(v):\n",
    "            res = jv(np.real(v), x)\n",
    "            return res\n",
    "\n",
    "    for k in range (kMax):\n",
    "        res_last = res\n",
    "        res = res + (-0.25 * x * x)**k/(factorial(k) * gamma(v+k+1))\n",
    "\n",
    "        if not np.any(np.real(res) == 0):\n",
    "            Rerr = abs((np.real(res) - np.real(res_last))/np.real(res))\n",
    "        else:\n",
    "            filter = np.ones(len(res)).astype(\"bool\")\n",
    "            filter[np.where(np.real(res) == 0)] = False\n",
    "            Rerr[filter] = abs((np.real(res[filter]) - np.real(res_last[filter]))/np.real(res[filter]))\n",
    "            Reff[~filter] = abs(np.real(res[~filter]) - np.real(res_last[~filter]))\n",
    "\n",
    "        if not np.any(np.imag(res) == 0):\n",
    "            Ierr = abs((np.imag(res) - np.imag(res_last))/np.imag(res))\n",
    "        else:\n",
    "            filter = np.ones(len(res)).astype(\"bool\")\n",
    "            filter[np.where(np.imag(res) == 0)] = False\n",
    "            Ierr[filter] = abs((np.imag(res[filter]) - np.imag(res_last[filter]))/np.imag(res[filter]))\n",
    "            Ierr[~filter] = abs(np.imag(res[~filter]) - np.imag(res_last[~filter]))\n",
    "\n",
    "        if np.max(Rerr) <= tol and np.max(Ierr) <= tol: break\n",
    "\n",
    "    res = res * (0.5*x) ** v\n",
    "    return res\n",
    "\n",
    "# Bessel function of the second kind with complex order v\n",
    "\n",
    "def BesselY(v,x):\n",
    "    if np.isreal(v):\n",
    "        res = bessely(v,x)\n",
    "    else:\n",
    "        res = (BesselJ(v,x)*np.cos(v*np.pi)-BesselJ(-v, x))/np.sin(v*np.pi)\n",
    "    return res\n",
    "\n",
    "def Hankel_second(v,x):\n",
    "    return BesselJ(v,x) - complex(0,1)*BesselY(v,x)\n"
   ]
  },
  {
   "cell_type": "code",
   "execution_count": 66,
   "metadata": {},
   "outputs": [
    {
     "data": {
      "text/plain": [
       "<matplotlib.legend.Legend at 0x1681ea850>"
      ]
     },
     "execution_count": 66,
     "metadata": {},
     "output_type": "execute_result"
    },
    {
     "data": {
      "image/png": "[encoded data removed]",
      "text/plain": [
       "<Figure size 500x400 with 1 Axes>"
      ]
     },
     "metadata": {},
     "output_type": "display_data"
    }
   ],
   "source": [
    "X = np.linspace(0,10,100)\n",
    "plt.figure(figsize=(5,4))\n",
    "#plt.plot(X,np.real(BesselJ(1,X)),label = \"v=1,Series expansion\",lw=4)\n",
    "plt.plot(X,jv(1, X),label = \"v=1\",lw=2)\n",
    "plt.plot(X,np.real(BesselJ(complex(1,1e-8),X)),label = \"v=1+0.3i\")\n",
    "plt.legend()\n"
   ]
  },
  {
   "cell_type": "code",
   "execution_count": 53,
   "metadata": {},
   "outputs": [
    {
     "name": "stderr",
     "output_type": "stream",
     "text": [
      "/var/folders/ch/7r5m10cd1x18pgpw08_ksg300000gn/T/ipykernel_99603/3845080076.py:7: IntegrationWarning: The integral is probably divergent, or slowly convergent.\n",
      "  res_re = integrate.quad(lambda x: np.exp(-x)* x**(vr-1) * np.cos(vi * np.log(x)),\n",
      "/var/folders/ch/7r5m10cd1x18pgpw08_ksg300000gn/T/ipykernel_99603/3845080076.py:9: IntegrationWarning: The integral is probably divergent, or slowly convergent.\n",
      "  res_im = integrate.quad(lambda x: np.exp(-x)* x**(vr-1) * np.sin(vi * np.log(x)),\n",
      "/var/folders/ch/7r5m10cd1x18pgpw08_ksg300000gn/T/ipykernel_99603/1435170928.py:35: RuntimeWarning: invalid value encountered in power\n",
      "  res = res * (0.5*x) ** v\n"
     ]
    },
    {
     "data": {
      "text/plain": [
       "<matplotlib.legend.Legend at 0x1679f74d0>"
      ]
     },
     "execution_count": 53,
     "metadata": {},
     "output_type": "execute_result"
    },
    {
     "data": {
      "image/png": "[encoded data removed]",
      "text/plain": [
       "<Figure size 300x200 with 1 Axes>"
      ]
     },
     "metadata": {},
     "output_type": "display_data"
    }
   ],
   "source": [
    "X = np.linspace(0,10,100)\n",
    "plt.figure(figsize=(3,2))\n",
    "plt.plot(X,yv(1, X),label = \"v=1\")\n",
    "plt.plot(X,np.real(BesselY(complex(1,0.3),X)),label = \"v=1+0.3i\")\n",
    "plt.legend()\n"
   ]
  },
  {
   "cell_type": "code",
   "execution_count": 49,
   "metadata": {},
   "outputs": [
    {
     "name": "stderr",
     "output_type": "stream",
     "text": [
      "/Users/harryxwh2003/opt/anaconda3/envs/Standard/lib/python3.13/site-packages/matplotlib/cbook.py:1709: ComplexWarning: Casting complex values to real discards the imaginary part\n",
      "  return math.isfinite(val)\n",
      "/Users/harryxwh2003/opt/anaconda3/envs/Standard/lib/python3.13/site-packages/matplotlib/cbook.py:1345: ComplexWarning: Casting complex values to real discards the imaginary part\n",
      "  return np.asarray(x, float)\n",
      "/var/folders/ch/7r5m10cd1x18pgpw08_ksg300000gn/T/ipykernel_99603/3845080076.py:7: IntegrationWarning: The integral is probably divergent, or slowly convergent.\n",
      "  res_re = integrate.quad(lambda x: np.exp(-x)* x**(vr-1) * np.cos(vi * np.log(x)),\n",
      "/var/folders/ch/7r5m10cd1x18pgpw08_ksg300000gn/T/ipykernel_99603/3845080076.py:9: IntegrationWarning: The integral is probably divergent, or slowly convergent.\n",
      "  res_im = integrate.quad(lambda x: np.exp(-x)* x**(vr-1) * np.sin(vi * np.log(x)),\n",
      "/var/folders/ch/7r5m10cd1x18pgpw08_ksg300000gn/T/ipykernel_99603/3833782160.py:33: RuntimeWarning: invalid value encountered in power\n",
      "  res = res * (0.5*x) ** v\n"
     ]
    },
    {
     "data": {
      "text/plain": [
       "<matplotlib.legend.Legend at 0x1679b9bd0>"
      ]
     },
     "execution_count": 49,
     "metadata": {},
     "output_type": "execute_result"
    },
    {
     "data": {
      "image/png": "[encoded data removed]",
      "text/plain": [
       "<Figure size 300x200 with 1 Axes>"
      ]
     },
     "metadata": {},
     "output_type": "display_data"
    }
   ],
   "source": [
    "X = np.linspace(0,10,100)\n",
    "plt.figure(figsize=(3,2))\n",
    "plt.plot(X,hankel2(1, X),label = \"v=1\")\n",
    "plt.plot(X,np.real(Hankel_second(complex(1,0.3),X)),label = \"v=1+0.3i\")\n",
    "plt.legend()\n"
   ]
  },
  {
   "cell_type": "code",
   "execution_count": 25,
   "metadata": {},
   "outputs": [
    {
     "data": {
      "text/plain": [
       "array([ True, False, False,  True, False, False, False, False, False,\n",
       "       False])"
      ]
     },
     "execution_count": 25,
     "metadata": {},
     "output_type": "execute_result"
    }
   ],
   "source": [
    "X = np.array([0,1,1,complex(0,1)])\n",
    "filter = np.zeros(10).astype(\"bool\")\n",
    "filter[np.where(np.real(X) == 0)] = True\n",
    "filter"
   ]
  },
  {
   "cell_type": "code",
   "execution_count": 33,
   "metadata": {},
   "outputs": [
    {
     "data": {
      "text/plain": [
       "array([0.        +0.j        , 1.        +0.j        ,\n",
       "       1.        +0.j        , 0.27395725+0.58370076j])"
      ]
     },
     "execution_count": 33,
     "metadata": {},
     "output_type": "execute_result"
    }
   ],
   "source": [
    "X = np.array([0,1,1,complex(1,1)])\n",
    "X**(complex(1,1))"
   ]
  },
  {
   "cell_type": "code",
   "execution_count": null,
   "metadata": {},
   "outputs": [],
   "source": [
    "X = np.array([2,2,3,-1,-2])\n",
    "F = np.array([1,1,1,0,0]).astype(\"bool\")\n",
    "Y = np.ones(5)"
   ]
  },
  {
   "cell_type": "code",
   "execution_count": null,
   "metadata": {},
   "outputs": [],
   "source": []
  }
 ],
 "metadata": {
  "kernelspec": {
   "display_name": "Standard",
   "language": "python",
   "name": "python3"
  },
  "language_info": {
   "codemirror_mode": {
    "name": "ipython",
    "version": 3
   },
   "file_extension": ".py",
   "mimetype": "text/x-python",
   "name": "python",
   "nbconvert_exporter": "python",
   "pygments_lexer": "ipython3",
   "version": "3.13.2"
  }
 },
 "nbformat": 4,
 "nbformat_minor": 2
}
