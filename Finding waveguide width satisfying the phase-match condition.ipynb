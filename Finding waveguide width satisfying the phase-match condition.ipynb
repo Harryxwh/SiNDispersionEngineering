{
 "cells": [
  {
   "cell_type": "markdown",
   "metadata": {},
   "source": [
    "Find best outer ring width so that the propagation constant matches at 1550nm"
   ]
  },
  {
   "cell_type": "code",
   "execution_count": 2,
   "metadata": {},
   "outputs": [],
   "source": [
    "import numpy as np\n",
    "from scipy.linalg import lstsq\n",
    "import numbers\n",
    "from Functions import *"
   ]
  },
  {
   "cell_type": "code",
   "execution_count": 3,
   "metadata": {},
   "outputs": [],
   "source": [
    "filename = '../data/Parameter Sweep data/' + 'Scanning_Lx_around2_4um_L_inner_8um_gap_5um.txt'"
   ]
  },
  {
   "cell_type": "code",
   "execution_count": 4,
   "metadata": {},
   "outputs": [],
   "source": [
    "Beta_Inner_ring_width_8um = 6031.53863184           # L_inner = 8 um"
   ]
  },
  {
   "cell_type": "code",
   "execution_count": 5,
   "metadata": {},
   "outputs": [],
   "source": [
    "def text_on_plot(residual,coefficients,Best_Lx):\n",
    "    if isinstance(residual, numbers.Number):\n",
    "        text = \"RSS = \" + f\"{residuals:.6f}\" + \"\\n\"\n",
    "    else:\n",
    "        text = \"\"\n",
    "    text = text + \\\n",
    "    \"Curve fitted: y= \" + \"{:.2f}\".format(coefficients[2]) + r\"$x^2$\"\n",
    "    if coefficients[1] > 0:\n",
    "        text = text + \"+\"+\"{:.2f}\".format(coefficients[1]) + r\"$x$\"\n",
    "    else:\n",
    "        text = text + \"-\"+\"{:.2f}\".format(-coefficients[1]) + r\"$x$\"\n",
    "    if coefficients[0] > 0:\n",
    "        text = text + \"+\"+\"{:.2f}\".format(coefficients[0])\n",
    "    else:\n",
    "        text = text + \"-\"+\"{:.2f}\".format(-coefficients[0])\n",
    "    if not Best_Lx[0] == 0:\n",
    "        text = text + \"\\n\"+ \"Optimized outer ring width = \" + \"{:.0f}\".format(Best_Lx[0]*1e3) +\" nm\"\n",
    "    return text"
   ]
  },
  {
   "cell_type": "code",
   "execution_count": 6,
   "metadata": {},
   "outputs": [],
   "source": [
    "gap_arr     = [2.5,3.0,3.5,4.0,4.5,5.0]\n",
    "width_arr = [2856,2762,2673,2589,2511,2436]\n",
    "#gap: 2.6 um, L_outer: 2837 nm"
   ]
  },
  {
   "cell_type": "code",
   "execution_count": 7,
   "metadata": {},
   "outputs": [
    {
     "name": "stdout",
     "output_type": "stream",
     "text": [
      "[2436.32142857 2589.25714286 2673.17142857 2762.05       2855.89285714\n",
      " 2954.7        3167.20714286]\n"
     ]
    }
   ],
   "source": [
    "coefficients = np.polyfit(gap_arr, width_arr, 2)\n",
    "polynomial = np.poly1d(coefficients)\n",
    "gap_fit = np.linspace(1, 6, 100)\n",
    "width_fit = polynomial(gap_fit)\n",
    "\n",
    "text = text_on_plot(\"\",coefficients,[0])\n",
    "\n",
    "data_arr = (np.c_[gap_fit,width_fit],np.c_[gap_arr,width_arr],\n",
    "            np.c_[gap_fit[gap_fit<2.5], np.ones(np.shape(gap_fit[gap_fit<2.5]))*polynomial(2.5)],\n",
    "            np.c_[gap_fit[gap_fit<3.5], np.ones(np.shape(gap_fit[gap_fit<3.5]))*polynomial(3.5)])\n",
    "color_list      = ['lightgreen','green','deepskyblue','lightskyblue']*2\n",
    "yticks = np.sort(np.r_[np.array([polynomial(x) for x in np.arange(1,6,1)]),[polynomial(2.5),polynomial(3.5)]])\n",
    "print(yticks)\n",
    "param_dict   = {\"Y_legends\"     : [\"Data points calcuted with FDE\",\"Curve fit\",\"\",\"\"],\n",
    "                \"X_label\"       : r\"gap ($\\mu m$)\",\n",
    "                \"Y_label\"       : r\"Width of outer ring ($\\mu m$)\",\n",
    "                \"title\"         : r\"Width of outer ring satisfying phase-matching at different gaps when $L_{inner}$ = 8 $\\mu m$\",\n",
    "                \"figsize\"       : (8,6),\n",
    "                \"marker_list\"   : [\"\",\"o\",\"\",\"\"]*2,\n",
    "                \"linestyle_list\": [\"-\",\"\",\"--\",\"--\"]*2,\n",
    "                \"colors_list\"   : color_list,\n",
    "                \"xlim\"          : (1,6),\n",
    "                \"ylim\"          : (polynomial(6),polynomial(1)),\n",
    "                \"yticks\"        : yticks,\n",
    "                # \"ytickslabel\"   : yticks,\n",
    "                \"text\"          : text,\n",
    "                \"loc_text\"      : (0.6,0.6),\n",
    "                \"AD_region_color\"    : False,\n",
    "                # \"bbox_legend\"   :(0.4,0.2)\n",
    "}\n",
    "\n",
    "Plot_curve(data_arr, **param_dict)"
   ]
  },
  {
   "cell_type": "code",
   "execution_count": 8,
   "metadata": {},
   "outputs": [
    {
     "name": "stdout",
     "output_type": "stream",
     "text": [
      "2798.991428571428\n"
     ]
    }
   ],
   "source": [
    "print(polynomial(2.8))"
   ]
  },
  {
   "cell_type": "markdown",
   "metadata": {},
   "source": [
    "Using Least square method to find best L_outer"
   ]
  },
  {
   "cell_type": "code",
   "execution_count": 9,
   "metadata": {},
   "outputs": [],
   "source": [
    "def func(x,coeff):\n",
    "    return coeff[2]*x**2 + coeff[1]*x + coeff[0]"
   ]
  },
  {
   "cell_type": "code",
   "execution_count": 10,
   "metadata": {},
   "outputs": [],
   "source": [
    "data = np.loadtxt(filename,delimiter=',',dtype=float,skiprows=1)\n",
    "Lx = data[:,0]"
   ]
  },
  {
   "cell_type": "code",
   "execution_count": 11,
   "metadata": {},
   "outputs": [
    {
     "name": "stdout",
     "output_type": "stream",
     "text": [
      "coefficients: [ -14.36799943  111.22616359 5845.85730405]\n"
     ]
    }
   ],
   "source": [
    "beta = data[:,1]\n",
    "\n",
    "# 使用polyfit进行线性拟合，deg=1表示线性拟合\n",
    "coefficients = np.polyfit(Lx, beta, 2)\n",
    "\n",
    "# 使用poly1d生成多项式对象\n",
    "polynomial = np.poly1d(coefficients)\n",
    "\n",
    "# 打印拟合得到的系数\n",
    "print(\"coefficients:\", coefficients)\n",
    "\n",
    "# 使用拟合得到的模型进行预测\n",
    "width_fit = np.linspace(Lx[0], Lx[-1], 100000)\n",
    "beta_fit = polynomial(width_fit)"
   ]
  },
  {
   "cell_type": "code",
   "execution_count": 12,
   "metadata": {},
   "outputs": [],
   "source": [
    "# 绘制原始数据和拟合曲线\n",
    "color_list      = ['lightgreen','green','deepskyblue','lightskyblue']*2\n",
    "\n",
    "data_arr = (np.c_[width_fit,beta_fit],np.c_[Lx,beta])\n",
    "param_dict   = {\"Y_legends\"     : [\"Data points calcuted with FDE\",\"Curve fit\"],\n",
    "                \"X_label\"       : r\"Waveguide width of outer ring ($\\mu m$)\",\n",
    "                \"Y_label\"       : r\"Angular propagation constant $\\tilde{\\beta}(rad/rad)$\",\n",
    "                \"title\"         : \"Finding width of outer ring satisfying phase-matching (polyfit)\",\n",
    "                \"figsize\"       : (8,6),\n",
    "                \"marker_list\"   : [\"\",\"o\"]*2,\n",
    "                \"linestyle_list\": [\"-\",\"\"]*2,\n",
    "                \"colors_list\"   : color_list,\n",
    "                # \"xlim\"          : (1.45,1.65),\n",
    "                \"autoset_yticks\": 0,\n",
    "                # \"ylim\"          : (np.min(beta_fit)*0.8,np.max(beta_fit)*1.2),\n",
    "                \"AD_region_color\"    : False,\n",
    "                \"bbox_legend\"   :(0.4,0.2)}\n",
    "\n",
    "Plot_curve(data_arr, **param_dict)\n"
   ]
  },
  {
   "cell_type": "code",
   "execution_count": 13,
   "metadata": {},
   "outputs": [
    {
     "name": "stdout",
     "output_type": "stream",
     "text": [
      "最小二乘解 x: [5845.85730405  111.22616359  -14.36799943]\n",
      "残差平方和: 0.006322233390657798\n",
      "矩阵 A 的秩: 3\n",
      "奇异值: [1.62616089e+01 4.91442920e-01 7.83441260e-03]\n"
     ]
    }
   ],
   "source": [
    "# Least Squared\n",
    "Lx_expanded = np.c_[np.ones((np.shape(Lx)[0],1)),Lx,np.square(Lx)]\n",
    "coefficients, residuals, rank, s = lstsq(Lx_expanded, beta)\n",
    "print(\"最小二乘解 x:\", coefficients)\n",
    "print(\"残差平方和:\", residuals)\n",
    "print(\"矩阵 A 的秩:\", rank)\n",
    "print(\"奇异值:\", s)"
   ]
  },
  {
   "cell_type": "code",
   "execution_count": 14,
   "metadata": {},
   "outputs": [],
   "source": [
    "def func(x,coefficients):\n",
    "    a,b,c = coefficients\n",
    "    return c*x**2+b*x+a"
   ]
  },
  {
   "cell_type": "code",
   "execution_count": 15,
   "metadata": {},
   "outputs": [],
   "source": [
    "def find_best_value(x_fit,y_fit,goal):\n",
    "    y_fit = y_fit - goal\n",
    "    res = np.array([])\n",
    "    found = False\n",
    "    idx = -1\n",
    "    for i in range(len(y_fit)-1):\n",
    "        if found:\n",
    "            idx = i\n",
    "            found = False\n",
    "            continue\n",
    "        if y_fit[i] * y_fit[i+1] <= 0:\n",
    "            found = True\n",
    "            if y_fit[i] * y_fit[i+1] < 0:\n",
    "                res = np.append(res,(x_fit[i]+x_fit[i+1])/2)\n",
    "            elif y_fit[i] == 0:\n",
    "                res = np.append(res,x_fit[i])\n",
    "            else:\n",
    "                res = np.append(res,x_fit[i+1])\n",
    "    return res,idx\n"
   ]
  },
  {
   "cell_type": "code",
   "execution_count": 16,
   "metadata": {},
   "outputs": [
    {
     "data": {
      "text/plain": [
       "np.float64(6031.538712896678)"
      ]
     },
     "execution_count": 16,
     "metadata": {},
     "output_type": "execute_result"
    }
   ],
   "source": [
    "Best_Lx,idx = find_best_value(width_fit, beta_fit,Beta_Inner_ring_width_8um)\n",
    "beta_fit[idx]"
   ]
  },
  {
   "cell_type": "code",
   "execution_count": 17,
   "metadata": {},
   "outputs": [
    {
     "data": {
      "text/plain": [
       "array([2.43588986])"
      ]
     },
     "execution_count": 17,
     "metadata": {},
     "output_type": "execute_result"
    }
   ],
   "source": [
    "Best_Lx"
   ]
  },
  {
   "cell_type": "code",
   "execution_count": 18,
   "metadata": {},
   "outputs": [
    {
     "name": "stdout",
     "output_type": "stream",
     "text": [
      "[5845.85730405  111.22616359  -14.36799943]\n"
     ]
    }
   ],
   "source": [
    "# Fit curve using Least Square method\n",
    "r_fit = np.linspace(Lx[0], Lx[-1], 100000)\n",
    "n_fit = func(r_fit,coefficients)\n",
    "\n",
    "text = text_on_plot(residuals,coefficients,Best_Lx)\n",
    "\n",
    "color_list      = ['lightgreen','green','deepskyblue','lightskyblue']*2\n",
    "\n",
    "data_arr     = (np.c_[width_fit,beta_fit],np.c_[Lx,beta],\n",
    "                np.c_[width_fit,np.ones(np.shape(r_fit))*Beta_Inner_ring_width_8um])\n",
    "param_dict   = {\"Y_legends\"     : [\"Data points calcuted with FDE\", \"Curve fit\", r\"$\\tilde{\\beta}$ of inner ring at $\\lambda$ = 1550nm\"],\n",
    "                \"X_label\"       : r\"Waveguide width of outer ring ($\\mu m$)\",\n",
    "                \"Y_label\"       : r\"Angular propagation constant $\\tilde{\\beta}(rad/rad)$\",\n",
    "                \"title\"         : r\"Finding width of outer ring satisfying phase-matching when $L_{inner}$ = 8 $\\mu m$\",\n",
    "                \"figsize\"       : (8,6),\n",
    "                \"marker_list\"   : [\"\",\"o\",\"\"]*2,\n",
    "                \"linestyle_list\": [\"-\",\"\",\"--\"]*2,\n",
    "                \"colors_list\"   : color_list,\n",
    "                \"autoset_yticks\": 0,\n",
    "                # \"xlim\"          : (1.45,1.65),\n",
    "                # \"ylim\"          : (-10000,9000),\n",
    "                \"AD_region_color\"    : False,\n",
    "                \"text\"          : text,\n",
    "                \"loc_text\"      : (0.5,0.3),\n",
    "}\n",
    "\n",
    "Plot_curve(data_arr, **param_dict)\n",
    "print(coefficients)\n"
   ]
  }
 ],
 "metadata": {
  "kernelspec": {
   "display_name": "Standard",
   "language": "python",
   "name": "python3"
  },
  "language_info": {
   "codemirror_mode": {
    "name": "ipython",
    "version": 3
   },
   "file_extension": ".py",
   "mimetype": "text/x-python",
   "name": "python",
   "nbconvert_exporter": "python",
   "pygments_lexer": "ipython3",
   "version": "3.13.2"
  }
 },
 "nbformat": 4,
 "nbformat_minor": 2
}
