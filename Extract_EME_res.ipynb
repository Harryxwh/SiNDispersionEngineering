{
 "cells": [
  {
   "cell_type": "code",
   "execution_count": 1,
   "metadata": {},
   "outputs": [],
   "source": [
    "import pandas as pd\n",
    "import glob\n",
    "import re"
   ]
  },
  {
   "cell_type": "code",
   "execution_count": null,
   "metadata": {},
   "outputs": [],
   "source": [
    "# 获取所有匹配的文件\n",
    "file_list = glob.glob('len_taper_*.txt')\n",
    "\n",
    "# 创建一个空的DataFrame用于存储所有数据\n",
    "df_data = pd.DataFrame()\n",
    "\n",
    "# 遍历每个文件\n",
    "for file in file_list:\n",
    "    # 使用正则表达式提取xxx数字部分\n",
    "    match = re.search(r'len_taper_(\\d+)\\.txt', file)\n",
    "    if match:\n",
    "        # 提取的数字作为列名\n",
    "        col_name = match.group(1)\n",
    "\n",
    "        # 读取文件内容，假设每行一个数据点\n",
    "        data = pd.read_csv(file, header=None, names=[col_name])\n",
    "\n",
    "        # 将数据合并到主DataFrame中\n",
    "        if df_data.empty:\n",
    "            df_data = data\n",
    "        else:\n",
    "            df_data = pd.concat([df_data, data], axis=1)\n",
    "\n",
    "# 显示结果\n",
    "print(df_data)"
   ]
  }
 ],
 "metadata": {
  "kernelspec": {
   "display_name": "Standard",
   "language": "python",
   "name": "python3"
  },
  "language_info": {
   "codemirror_mode": {
    "name": "ipython",
    "version": 3
   },
   "file_extension": ".py",
   "mimetype": "text/x-python",
   "name": "python",
   "nbconvert_exporter": "python",
   "pygments_lexer": "ipython3",
   "version": "3.13.2"
  }
 },
 "nbformat": 4,
 "nbformat_minor": 2
}
