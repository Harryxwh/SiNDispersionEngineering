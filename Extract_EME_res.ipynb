{
 "cells": [
  {
   "cell_type": "code",
   "execution_count": 45,
   "metadata": {},
   "outputs": [],
   "source": [
    "import pandas as pd\n",
    "import numpy as np\n",
    "import glob\n",
    "import re\n",
    "from Functions import *"
   ]
  },
  {
   "cell_type": "code",
   "execution_count": 51,
   "metadata": {},
   "outputs": [
    {
     "data": {
      "text/plain": [
       "['../data/Vertical_EME - no RDL/len_taper_RDL-200.txt',\n",
       " '../data/Vertical_EME - no RDL/len_taper_RDL-600.txt',\n",
       " '../data/Vertical_EME - no RDL/len_taper_RDL-400.txt',\n",
       " '../data/Vertical_EME - no RDL/len_taper_RDL-300.txt',\n",
       " '../data/Vertical_EME - no RDL/len_taper_RDL-100.txt',\n",
       " '../data/Vertical_EME - no RDL/len_taper_RDL-500.txt',\n",
       " '../data/Vertical_EME - no RDL/len_taper_RDL-700.txt']"
      ]
     },
     "execution_count": 51,
     "metadata": {},
     "output_type": "execute_result"
    }
   ],
   "source": [
    "foldername = \"../data/Vertical_EME - no RDL/\"\n",
    "# 获取所有匹配的文件\n",
    "filename_list = glob.glob(foldername + 'len_taper_RDL-*.txt')\n",
    "filename_list"
   ]
  },
  {
   "cell_type": "code",
   "execution_count": 56,
   "metadata": {},
   "outputs": [],
   "source": [
    "len_prop_arr = np.linspace(200,1500,651)\n",
    "\n",
    "len_prop_arr = np.linspace(100,3500,681)\n",
    "\n",
    "len_prop_arr = np.linspace(100,10000,991)"
   ]
  },
  {
   "cell_type": "code",
   "execution_count": null,
   "metadata": {},
   "outputs": [],
   "source": [
    "# 创建一个空的DataFrame用于存储所有数据\n",
    "df_data = pd.DataFrame()\n",
    "file_list = []\n",
    "# 遍历每个文件\n",
    "for filename in filename_list:\n",
    "    # 使用正则表达式提取xxx数字部分\n",
    "    match = re.search(r'len_taper_RDL-(\\d+)\\.txt', filename)\n",
    "    len_taper = int(match.group(1))\n",
    "    file_list.append((len_taper,filename))\n",
    "\n",
    "file_list.sort(key=lambda file: file[0])\n",
    "\n",
    "df_data['len_prop'] = len_prop_arr\n",
    "for len_taper, file in file_list:\n",
    "\n",
    "    # 读取文件内容，假设每行一个数据点\n",
    "    data = pd.read_csv(file, header=None, names=[len_taper])\n",
    "\n",
    "    # 将数据合并到主DataFrame中\n",
    "    if df_data.empty:\n",
    "        df_data = data\n",
    "    else:\n",
    "        df_data = pd.concat([df_data, data], axis=1)\n",
    "\n",
    "# 显示结果\n",
    "print(df_data)\n",
    "df_data.to_csv(\"./results/EME_res_wo_RDL.csv\")"
   ]
  }
 ],
 "metadata": {
  "kernelspec": {
   "display_name": "Standard",
   "language": "python",
   "name": "python3"
  },
  "language_info": {
   "codemirror_mode": {
    "name": "ipython",
    "version": 3
   },
   "file_extension": ".py",
   "mimetype": "text/x-python",
   "name": "python",
   "nbconvert_exporter": "python",
   "pygments_lexer": "ipython3",
   "version": "3.13.2"
  }
 },
 "nbformat": 4,
 "nbformat_minor": 2
}
