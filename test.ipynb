{
 "cells": [
  {
   "cell_type": "code",
   "execution_count": null,
   "metadata": {},
   "outputs": [],
   "source": [
    "import pandas as pd\n",
    "\n",
    "# 1. 读取 CSV 文件\n",
    "df = pd.read_csv(\"input.csv\")\n",
    "\n",
    "# 2. 添加新列（示例：静态值或动态计算）\n",
    "# --------------------------------\n",
    "# 示例 1：添加静态值（所有行的新列值为固定值）\n",
    "df[\"新列名称\"] = \"固定值\"\n",
    "\n",
    "# 示例 2：基于现有列计算新列（例如两列相加）\n",
    "df[\"总和\"] = df[\"列A\"] + df[\"列B\"]\n",
    "\n",
    "# 示例 3：按条件生成新列（例如分类标签）\n",
    "df[\"分类\"] = df[\"分数\"].apply(lambda x: \"及格\" if x >= 60 else \"不及格\")\n",
    "\n",
    "# 3. 保存到新文件（或覆盖原文件）\n",
    "df.to_csv(\"output.csv\", index=False, encoding=\"utf-8\")"
   ]
  }
 ],
 "metadata": {
  "language_info": {
   "name": "python"
  }
 },
 "nbformat": 4,
 "nbformat_minor": 2
}
