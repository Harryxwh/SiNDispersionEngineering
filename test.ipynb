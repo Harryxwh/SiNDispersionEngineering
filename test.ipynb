{
 "cells": [
  {
   "cell_type": "code",
   "execution_count": 2,
   "metadata": {},
   "outputs": [],
   "source": [
    "import re\n",
    "import numpy as np"
   ]
  },
  {
   "cell_type": "code",
   "execution_count": 7,
   "metadata": {},
   "outputs": [
    {
     "data": {
      "text/plain": [
       "4"
      ]
     },
     "execution_count": 7,
     "metadata": {},
     "output_type": "execute_result"
    }
   ],
   "source": [
    "a = [[1,5],[2,3]]\n",
    "np.size(a)"
   ]
  },
  {
   "cell_type": "code",
   "execution_count": 8,
   "metadata": {},
   "outputs": [
    {
     "data": {
      "text/plain": [
       "[('1.4', ''),\n",
       " ('71.97820422200603', ''),\n",
       " ('-71.97820422200601', ''),\n",
       " ('', '0.968603747872373+0j'),\n",
       " ('', '-0.24860969330979957-6.757115257174406e-15j'),\n",
       " ('', '0.24294965064438834-4.121356615000312e-15j'),\n",
       " ('', '0.9700388998652423+0j')]"
      ]
     },
     "execution_count": 8,
     "metadata": {},
     "output_type": "execute_result"
    }
   ],
   "source": [
    "# match_RE = r\"([+-]?(?:\\(?\\d+\\.?\\d*\\)?)(?:[eE][+-]?\\d+)?)|\\(([^)]+)\\)\"\n",
    "pattern = r'([+-]?(?:\\d+\\.?\\d*|\\.\\d+)(?:[eE][+-]?\\d+)?)|\\(([^)]+)\\)'\n",
    "text = \"1.4,71.97820422200603,-71.97820422200601,(0.968603747872373+0j),(-0.24860969330979957-6.757115257174406e-15j),(0.24294965064438834-4.121356615000312e-15j),(0.9700388998652423+0j)\"\n",
    "re.findall(pattern, text)"
   ]
  },
  {
   "cell_type": "code",
   "execution_count": 5,
   "metadata": {},
   "outputs": [
    {
     "data": {
      "text/plain": [
       "['1540,1,1.470896388852969+2.253110692262893e-15i,1.589330270267854-2.795949688778033e-13i,7.984651821069383e-08,0.9997626464955753,6021.647459995122']"
      ]
     },
     "execution_count": 5,
     "metadata": {},
     "output_type": "execute_result"
    }
   ],
   "source": [
    "import re\n",
    "\n",
    "# 输入的字符串\n",
    "s = \"1540,1,1.470896388852969+2.253110692262893e-15i,1.589330270267854-2.795949688778033e-13i,7.984651821069383e-08,0.9997626464955753,6021.647459995122\"\n",
    "\n",
    "int_re      = r'\\d+'\n",
    "complex_re  = r'[-+]?(?:\\d+\\.?\\d*|\\.\\d+)(?:[eE][-+]?\\d+)?[+-](?:\\d+\\.?\\d*|\\.\\d+)(?:[eE][-+]?\\d+)?i'\n",
    "float_re    = r'[-+]?(?:\\d+\\.?\\d*|\\.\\d+)(?:[eE][-+]?\\d+)?'\n",
    "pattern     = rf'^{int_re},{int_re},{complex_re},{complex_re},{float_re},{float_re},{float_re}$'\n",
    "\n",
    "# pattern = r'|([+-]?(?:\\d+\\.?\\d*)(?:[eE][+-]?\\d+)?)|\\(([^)]+)\\)|([+-]?\\d+)'\n",
    "matches = re.findall(pattern, s)\n",
    "matches\n",
    "# values = []\n",
    "# for integer, real, complex_num in matches:\n",
    "#     if integer:\n",
    "#         values.append(int(integer))\n",
    "#     elif real:\n",
    "#         values.append(float(real))\n",
    "#     else:\n",
    "#         values.append(complex(complex_num))"
   ]
  }
 ],
 "metadata": {
  "kernelspec": {
   "display_name": "Standard",
   "language": "python",
   "name": "python3"
  },
  "language_info": {
   "codemirror_mode": {
    "name": "ipython",
    "version": 3
   },
   "file_extension": ".py",
   "mimetype": "text/x-python",
   "name": "python",
   "nbconvert_exporter": "python",
   "pygments_lexer": "ipython3",
   "version": "3.13.2"
  }
 },
 "nbformat": 4,
 "nbformat_minor": 2
}
