{
 "cells": [
  {
   "cell_type": "code",
   "execution_count": 2,
   "metadata": {},
   "outputs": [
    {
     "data": {
      "text/plain": [
       "array([2.85, 2.95, 3.05, 3.15, 3.25, 3.35, 3.45])"
      ]
     },
     "execution_count": 2,
     "metadata": {},
     "output_type": "execute_result"
    }
   ],
   "source": [
    "import numpy as np\n",
    "np.linspace(2.85,3.45,7)"
   ]
  },
  {
   "cell_type": "code",
   "execution_count": null,
   "metadata": {},
   "outputs": [],
   "source": [
    "import pandas as pd\n",
    "\n",
    "# 1. 读取 CSV 文件\n",
    "df = pd.read_csv(\"input.csv\")\n",
    "\n",
    "# 2. 添加新列（示例：静态值或动态计算）\n",
    "# --------------------------------\n",
    "# 示例 1：添加静态值（所有行的新列值为固定值）\n",
    "df[\"新列名称\"] = \"固定值\"\n",
    "\n",
    "# 示例 2：基于现有列计算新列（例如两列相加）\n",
    "df[\"总和\"] = df[\"列A\"] + df[\"列B\"]\n",
    "\n",
    "# 示例 3：按条件生成新列（例如分类标签）\n",
    "df[\"分类\"] = df[\"分数\"].apply(lambda x: \"及格\" if x >= 60 else \"不及格\")\n",
    "\n",
    "# 3. 保存到新文件（或覆盖原文件）\n",
    "df.to_csv(\"output.csv\", index=False, encoding=\"utf-8\")"
   ]
  }
 ],
 "metadata": {
  "kernelspec": {
   "display_name": "Standard",
   "language": "python",
   "name": "python3"
  },
  "language_info": {
   "codemirror_mode": {
    "name": "ipython",
    "version": 3
   },
   "file_extension": ".py",
   "mimetype": "text/x-python",
   "name": "python",
   "nbconvert_exporter": "python",
   "pygments_lexer": "ipython3",
   "version": "3.13.2"
  }
 },
 "nbformat": 4,
 "nbformat_minor": 2
}
