{
 "cells": [
  {
   "cell_type": "markdown",
   "metadata": {},
   "source": [
    "# Analysis of 2D parallel racetrack resonators structure\n",
    "\n",
    "The resonant frequency and second-order dispersion $D_2$ of the supermodes are analyzed\n",
    "\n",
    "Author: Weihao Xu\n",
    "\n",
    "Date: May. 9th, 2025"
   ]
  },
  {
   "cell_type": "markdown",
   "metadata": {},
   "source": [
    "Reference: 1. Ji QX, Liu P, Jin W, et al. Multimodality integrated microresonators using the Moiré speedup effect. Science. 2024;383(6687):1080-1083. doi:10.1126/science.adk9429"
   ]
  },
  {
   "cell_type": "code",
   "execution_count": 306,
   "metadata": {},
   "outputs": [],
   "source": [
    "import numpy as np\n",
    "import matplotlib.pyplot as plt\n",
    "from Functions import *\n",
    "from collections import namedtuple\n",
    "from scipy.interpolate import CubicSpline"
   ]
  },
  {
   "cell_type": "code",
   "execution_count": 307,
   "metadata": {},
   "outputs": [],
   "source": [
    "# folder to store results\n",
    "foldername  = \"./results/2D parallel racetracks/\""
   ]
  },
  {
   "cell_type": "code",
   "execution_count": 308,
   "metadata": {},
   "outputs": [],
   "source": [
    "freq_1550   = c/(1550*1e-9)"
   ]
  },
  {
   "cell_type": "markdown",
   "metadata": {},
   "source": [
    "## How the effective and group refractive index change at different wavlengths"
   ]
  },
  {
   "cell_type": "code",
   "execution_count": 309,
   "metadata": {},
   "outputs": [],
   "source": [
    "# Fit polynomials for the refractive index of Si3N4 and SiO2\n",
    "# from https://refractiveindex.info/?shelf=main&book=SiO2&page=Malitson\n",
    "# Silicon nitride (Luke el.al. 2015.)\n",
    "def n_Si3N4(wavl_um):\n",
    "    return (1+3.0249/(1-(0.1353406/wavl_um)**2)+\n",
    "            40314/(1-(1239.842/wavl_um)**2))**0.5\n",
    "# Silicon oxide (Malitson 1965)\n",
    "def n_SiO2(wavl_um):\n",
    "    return (1+0.6961663/(1-(0.0684043/wavl_um)**2)+\n",
    "            0.4079426/(1-(0.1162414/wavl_um)**2)+\n",
    "            0.8974794/(1-(9.896161/wavl_um)**2))**0.5"
   ]
  },
  {
   "cell_type": "code",
   "execution_count": 310,
   "metadata": {},
   "outputs": [],
   "source": [
    "# Load index data from a txt file\n",
    "def Load_n(filename):\n",
    "    n_list = []\n",
    "    with open(filename,'r') as f:\n",
    "        data_read = f.readlines()\n",
    "        for line in data_read[1:]:\n",
    "            wavl = float(line.split(',')[0].replace(\" \",\"\").replace(\"\\n\",\"\"))\n",
    "            n = float(line.split(',')[1].replace(\" \",\"\").replace(\"\\n\",\"\"))\n",
    "            n_list.append([wavl,n])\n",
    "    n_list = np.array(n_list)\n",
    "    return n_list"
   ]
  },
  {
   "cell_type": "code",
   "execution_count": 311,
   "metadata": {},
   "outputs": [],
   "source": [
    "num_of_pts  = 1000"
   ]
  },
  {
   "cell_type": "code",
   "execution_count": 312,
   "metadata": {},
   "outputs": [],
   "source": [
    "filename_neff   = foldername + \"neff_L_inner_2_8_1500_1600.txt\"\n",
    "neff_arr        = Load_n(filename_neff)\n",
    "filename_ng     = foldername + \"ng_L_inner_2_8_1500_1600.txt\"\n",
    "ng_arr          = Load_n(filename_ng)\n",
    "\n",
    "wavl_arr    = neff_arr[:,0]                   #unit: um\n",
    "wavl_arr_intp = np.linspace(np.min(wavl_arr),np.max(wavl_arr),num_of_pts)\n",
    "\n",
    "# effective index\n",
    "neff_intp   = Interpolation(wavl_arr, neff_arr[:,1], wavl_arr_intp)\n",
    "neff_1550   = neff_intp[np.argmin(np.abs(wavl_arr_intp-1.55))]\n",
    "\n",
    "# group index\n",
    "ng_intp     = Interpolation(wavl_arr, ng_arr[:,1], wavl_arr_intp)\n",
    "# ng_1550     = ng_intp[np.argmin(np.abs(wavl_arr_intp-1.55))]\n",
    "\n",
    "ng_1550     = 1.575"
   ]
  },
  {
   "cell_type": "code",
   "execution_count": 313,
   "metadata": {},
   "outputs": [],
   "source": [
    "data_arr =  (   np.c_[wavl_arr, neff_arr[:,1], ng_arr[:,1]],\n",
    "                np.c_[wavl_arr_intp, neff_intp, ng_intp],)\n",
    "param_dict = {  \"figsize\"         : (10,6),\n",
    "                \"title\"           : r\"Effective and group index of SiN waveguides with width of 2.8 $\\mu m$\",\n",
    "                \"Y_legends\"       : [\"neff\",\"ng\",\"neff intp\",\"ng intp\"],\n",
    "                \"X_label\"         : r'wavelength($\\mu m$)',\n",
    "                \"Y_label\"         : r\"Refractve index\",\n",
    "                \"marker_list\"     : [\".\",\".\",\"\",\"\"]*10,\n",
    "                \"linestyle_list\"  : [\"\",\"\",\"-\",\"-\"]*10,\n",
    "                \"colors_list\"     : ['lightcoral','dodgerblue']*3,\n",
    "                \"autoset_yticks\"  : 0,\n",
    "                # \"ylim\"            : (1,2),\n",
    "                \"foldername\"      : foldername\n",
    "                }\n",
    "Plot_curve(data_arr, **param_dict)\n"
   ]
  },
  {
   "cell_type": "markdown",
   "metadata": {},
   "source": [
    "## Defining parameters of the vernier resonators    \n",
    "| Parameter  <img width=100/>|<img width=300/>  Meaning                      \n",
    "| ----             | ----                         \n",
    "| L1               | cavity length of the shorter resonator (resonator 1)\n",
    "| L2               | cavity length of the longer resonator (resonator 2)\n",
    "| D1               | FSR of resonator 1\n",
    "| D2               | FSR of resonator 2\n",
    "| D_ave            | FSR of a resonator whose length equals the average of L1 and L2\n",
    "| $\\epsilon$       | relative length difference of the two resonators defined as $\\epsilon = \\frac{L_2-L_1}{L_1+L_2}$\n",
    "\n"
   ]
  },
  {
   "cell_type": "code",
   "execution_count": 314,
   "metadata": {},
   "outputs": [],
   "source": [
    "L1      = 9.5 * mm\n",
    "# L1      = c/(ng_1550 * 20*1e9)\n",
    "L2      = L1 * 1.005\n",
    "D1      = c/(ng_1550 * L1) *2* np.pi\n",
    "D2      = c/(ng_1550 * L2) *2* np.pi\n",
    "D_ave   = c/(ng_1550 * (L1+L2)/2) *2 *np.pi\n",
    "# D_ave   = 19.9766 * 2 *np.pi * 1e9\n",
    "epsilon = (L2-L1)/(L1+L2)\n",
    "M       = 1/(2*epsilon)"
   ]
  },
  {
   "cell_type": "code",
   "execution_count": 315,
   "metadata": {},
   "outputs": [],
   "source": [
    "Max_M_idx   = 3\n",
    "num_of_pts  = 1000\n",
    "m_arr_intp  = np.linspace(-Max_M_idx*M, Max_M_idx*M, num_of_pts)"
   ]
  },
  {
   "cell_type": "markdown",
   "metadata": {},
   "source": [
    "## Find coupling strength $g_{co}$ at different wavls"
   ]
  },
  {
   "cell_type": "code",
   "execution_count": 316,
   "metadata": {},
   "outputs": [],
   "source": [
    "# Load kappa under different wavls of two coupled WGs width 2.8um\n",
    "def Load_kappa_data(filename_kappa = \"./results/2D parallel racetracks/straight_WG_Kappa.txt\"):\n",
    "    Kappa_arr = []\n",
    "    with open (filename_kappa,'r') as f:\n",
    "        read_data = f.readlines()\n",
    "        for line in read_data[1:]:\n",
    "            line_strip = line.strip()\n",
    "            wavl = float(line_strip.split(\",\")[0])\n",
    "            freq = c/wavl * 1e9\n",
    "            K_12 = str2complex(line_strip.split(\",\")[1])\n",
    "            K_21 = str2complex(line_strip.split(\",\")[2])\n",
    "            Kappa = (K_12+K_21)/2\n",
    "            Kappa = np.real(Kappa)\n",
    "            Kappa_arr.append([freq,Kappa])\n",
    "        Kappa_arr = np.array(Kappa_arr)\n",
    "    return Kappa_arr"
   ]
  },
  {
   "cell_type": "code",
   "execution_count": 317,
   "metadata": {},
   "outputs": [],
   "source": [
    "g_arr       = Load_kappa_data()\n",
    "g_arr       = np.flip(g_arr,axis=0)\n",
    "freq_arr        = g_arr[:,0]\n",
    "freq_arr_intp   = freq_1550 + m_arr_intp * D_ave/(2*np.pi)\n",
    "g_arr_intp      = Interpolation(freq_arr,g_arr[:,1],freq_arr_intp)"
   ]
  },
  {
   "cell_type": "code",
   "execution_count": 318,
   "metadata": {},
   "outputs": [],
   "source": [
    "# m is proportional to frequency, which is inversely proportional to wavelength\n",
    "m_arr_intp_flipped = np.flip(m_arr_intp)\n",
    "\n",
    "# mark the point where g0 is\n",
    "g0              = g_arr_intp[np.argmin(np.abs(0 - m_arr_intp))]\n",
    "idx             = np.argmin(np.abs(m_arr_intp_flipped))\n",
    "horizontal_y    = np.ones(np.shape(m_arr_intp_flipped))[idx:] * g0\n",
    "horizontal_x    = m_arr_intp_flipped[idx:]\n",
    "vertical_y      = np.linspace(np.min(g_arr_intp),g0,1000)\n",
    "vertical_x      = np.ones(np.shape(vertical_y))* 0\n",
    "\n",
    "# exponential fit according to the reference [1]\n",
    "m_g             = 1196\n",
    "g0_exp          = 954\n",
    "g_arr_exp       = g0_exp * np.exp(-m_arr_intp / m_g)\n",
    "\n",
    "data_arr        = (np.c_[m_arr_intp_flipped, g_arr_intp],\n",
    "                   np.c_[vertical_x,vertical_y],\n",
    "                   np.c_[horizontal_x,horizontal_y],\n",
    "                   np.c_[m_arr_intp_flipped, g_arr_exp]\n",
    "                   )\n",
    "data_label_arr  = [r\"Coupling strength $g_{co}$ (CMT)\",\"\",\"\",\n",
    "                   r\"Coupling strength $g_{co}$ (ref [1])\"]*3\n",
    "\n",
    "linestyle_list  = [\"-\",\"--\",\"--\"]*3\n",
    "xticks          = np.arange(-Max_M_idx,Max_M_idx+1)*M\n",
    "xtickslabels    = np.array([\"{:.2f}\".format(c / (freq_1550 + D_ave/(2*np.pi) * xtick) * 1e9) for xtick in xticks])\n",
    "colors_list     = ['tab:orange']+['tab:blue']*2+['tab:green']*2+['black']*10\n",
    "text            = r\"$g_{co}$\" + r\" = {:.2f} \".format(g0)+r\"$m^{-1}$ when $\\lambda$ = 1550 nm\"\n",
    "param_dict      = {\"Y_legends\": data_label_arr,\n",
    "                    \"X_label\"     : r'Wavelength (nm)',\n",
    "                    \"Y_label\"     : r\"Coupling strength $g_{co}$ ($m^{-1}$)\",\n",
    "                    \"title\"       : r\"Coupling strength $g_{co}$ at different frequencies\",\n",
    "                    \"figsize\"     : (8,6),\n",
    "                    \"marker_list\" : [\"\"]*15,\n",
    "                    \"linestyle_list\": linestyle_list,\n",
    "                    \"colors_list\" : colors_list,\n",
    "                    \"xticks\"      : xticks,\n",
    "                    \"xtickslabel\" : np.flip(xtickslabels),\n",
    "                    \"xlim\"        : (np.min(xticks),np.max(xticks)),\n",
    "                    \"ylim\"        : (400,1100),\n",
    "                    \"autoset_yticks\"   : 0,\n",
    "                    \"text\"        : text,\n",
    "                    \"loc_text\"    : (0.6,0.3),\n",
    "                    \"AD_region_color\"  : False,\n",
    "                    \"foldername\"   : foldername\n",
    "                    }\n",
    "\n",
    "Plot_curve(data_arr,**param_dict)"
   ]
  },
  {
   "cell_type": "markdown",
   "metadata": {},
   "source": [
    "## Analyze the resonant frequency and dispersion of 2D parallel racetracks"
   ]
  },
  {
   "cell_type": "code",
   "execution_count": 319,
   "metadata": {},
   "outputs": [],
   "source": [
    "'''\n",
    "Plot the resonant frequency with and without coupling\n",
    "\n",
    "Parameters:\n",
    "vernier_param_arr       : the parameters of the vernier structure. format:(D1,D2,D_ave,M,Max_M_idx)\n",
    "coupled_data_arr        : the data of the coupled curves\n",
    "coupled_data_label_arr  : the label of the coupled curves\n",
    "param_dict_             : the parameters of the plot that are different from the default\n",
    "num_of_pts              : the number of points on X axis\n",
    "'''\n",
    "def Resonant_freq_plot(vernier_param_arr, coupled_data_arr=[], coupled_data_label_arr=[], param_dict_={}, num_of_pts=100):\n",
    "\n",
    "    m_arr = np.linspace(-Max_M_idx*M, Max_M_idx*M, num_of_pts).reshape(-1,1)\n",
    "    M0 = 0\n",
    "    Y_legends = []\n",
    "\n",
    "    # Resonant frequency of resonator 1\n",
    "    Y_data = np.array(D1 * (m_arr - M0))\n",
    "    Y_legends.append(r\"ResonatorA $\\omega = \\omega_0$+$(D_{1,A}-D_{1,\\mathrm{ave}})$(m-$M_0$)\")\n",
    "    for m in range(1,Max_M_idx):\n",
    "        Y = D1 * (m_arr - M0) + m*D_ave\n",
    "        Y_data = np.c_[Y_data,Y]\n",
    "        Y_legends.append(r\"ResonatorA $\\omega$ = $\\omega_0$+$(D_{1,A}-D_{1,\\mathrm{ave}})$(m-$M_0$)$\\pm$\"+str(m)+r\"$D_{1,\\mathrm{ave}}$\")\n",
    "        Y = D1 * (m_arr - M0) - m*D_ave\n",
    "        Y_data = np.c_[Y_data,Y]\n",
    "        Y_legends.append(\"\")\n",
    "\n",
    "    # Resonant frequency of resonator B\n",
    "    Y = D2 * (m_arr - M0)\n",
    "    Y_data = np.c_[Y_data,Y]\n",
    "    Y_legends.append(r\"ResonatorB $\\omega = \\omega_0$+$(D_{1,B}-D_{1,\\mathrm{ave}})$(m-$M_0$)\")\n",
    "    for m in range(1,Max_M_idx):\n",
    "        Y = D2 * (m_arr - M0) +  m*D_ave\n",
    "        Y_data = np.c_[Y_data,Y]\n",
    "        Y_legends.append(r\"ResonatorB $\\omega$ = $\\omega_0$+$(D_{1,B}-D_{1,\\mathrm{ave}})$(m-$M_0$)$\\pm$\"+str(m)+r\"$D_{1,\\mathrm{ave}}$\")\n",
    "        Y = D2 * (m_arr - M0) -  m*D_ave\n",
    "        Y_data = np.c_[Y_data,Y]\n",
    "        Y_legends.append(\"\")\n",
    "\n",
    "    # The contribution of average FSR is deducted to make the differences more obvious\n",
    "    Y_data = Y_data - D_ave * (m_arr - M0)\n",
    "\n",
    "    # Resonant frequencies with coupling\n",
    "    if np.size(coupled_data_arr) != 0:\n",
    "        Y_data = np.c_[Y_data,coupled_data_arr]\n",
    "        Y_legends = Y_legends + coupled_data_label_arr\n",
    "\n",
    "    # Default plot settings, can be changed with param_dict\n",
    "    linestyle_name_list = [\"dashed\",\"dotted\"]*3\n",
    "    linestyle_list      = [\"-\"]\n",
    "    for i in range(Max_M_idx-1):\n",
    "        for j in range(2):\n",
    "            linestyle_list.append(linestyle_name_list[i])\n",
    "    linestyle_list = linestyle_list + linestyle_list\n",
    "    linestyle_list = linestyle_list + [\"-\"]*30\n",
    "    colors_list = ['lightskyblue']*(Max_M_idx*2-1)+ ['lightcoral']*(Max_M_idx*2-1)\\\n",
    "                    +['orange']*2+['dodgerblue']*2+['black']*30\n",
    "    xticks       = np.arange(-Max_M_idx,Max_M_idx+1)\n",
    "    xtickslabels = [(\"$M_0$+\" if xtick>0 else \"$M_0$\") + str(xtick) + \"M\"  for xtick in xticks]\n",
    "    xtickslabels[int(len(xtickslabels)/2)] = \"$M_0$\"\n",
    "    xticks       = np.arange(-Max_M_idx,Max_M_idx+1)*M\n",
    "    param_dict = {  \"Y_legends\"       : Y_legends,\n",
    "                    \"X_label\"         : 'mode number m',\n",
    "                    \"Y_label\"         : r\"Frequency $\\omega$/(2$\\pi$) (GHz)\",\n",
    "                    \"xticks\"          : xticks,\n",
    "                    \"xtickslabel\"     : xtickslabels,\n",
    "                    \"title\"           : \"Mode number non-conservation coupling\",\n",
    "                    \"marker_list\"     : [\"\"]*30,\n",
    "                    \"linestyle_list\"  : linestyle_list,\n",
    "                    \"linespacing\"     : 2,\n",
    "                    \"colors_list\"     : colors_list,\n",
    "                    \"xlim\"            : (-Max_M_idx*M,Max_M_idx*M),\n",
    "                    \"bbox_legend\"     : (1.05,0.8)}\n",
    "    if len(param_dict_)>0:\n",
    "        for key,value in param_dict_.items():\n",
    "            param_dict[key] = value\n",
    "\n",
    "    data_arr = (np.c_[m_arr,Y_data/1e9/(2*np.pi)],)\n",
    "\n",
    "    Plot_curve(data_arr,**param_dict)"
   ]
  },
  {
   "cell_type": "code",
   "execution_count": 320,
   "metadata": {},
   "outputs": [],
   "source": [
    "# g : Array of coupling strength at different wavelengths\n",
    "def Reson_freq(m,D1,g,L,epsilon):\n",
    "    return D1/(2*np.pi)*np.arccos(np.cos(g*L)*np.cos(2*np.pi * epsilon *m))\n",
    "\n",
    "# Analytical dispersion formula given by CMT.\n",
    "# Refrence: Ji QX, Liu P, Jin W, et al. Multimodality integrated microresonators using the Moiré speedup effect. Science. 2024;383(6687):1080-1083. doi:10.1126/science.adk9429\n",
    "def FSR_func(m,D_ave,g,L,epsilon):\n",
    "    return epsilon * D_ave/(2*np.pi)* np.cos(g*L)*np.sin(2*np.pi * epsilon *m) /(1-np.cos(g*L)**2 * np.cos(2*np.pi * epsilon *m)**2)**0.5\n",
    "\n",
    "# Analytical dispersion formula given by CMT.\n",
    "# Refrence: Yuan Z, Gao M, Yu Y, et al. Soliton pulse pairs at multiple colours in normal dispersion microresonators. Nat Photon. 2023;17(11):977-983. doi:10.1038/s41566-023-01257-2\n",
    "def Dispersion_ana(m,D_ave,g,L,epsilon):\n",
    "    return D_ave *(2*np.pi)* epsilon**2 *np.cos(g*L) *np.sin(g*L)**2 * np.cos(2*np.pi*epsilon*m) /(1-np.cos(g*L)**2 * np.cos(2*np.pi * epsilon *m)**2)**1.5\n",
    "\n",
    "# Numerical dispersion curve calculated using propagation constant data\n",
    "def Dispersion_num(m,reson_freq):\n",
    "    FSR = First_derivative_central_diff(reson_freq,m)\n",
    "    return First_derivative_central_diff(FSR,m[1:-1])"
   ]
  },
  {
   "cell_type": "code",
   "execution_count": 321,
   "metadata": {},
   "outputs": [],
   "source": [
    "# Calculate the anomalous dispersion range around 1550nm of 2D parallel coupled rings (unit: nm)\n",
    "def AD_range_func(m_arr,D_arr,M,FSR):\n",
    "    zero_list,zero_idx_list = find_zero(m_arr, D_arr)\n",
    "    zero_list               = np.array(zero_list)\n",
    "    zero_list_m_0           = zero_list[np.where(np.abs(zero_list) < M)]      # zeros around mode numer m = 0\n",
    "    zero_list_m_0_p         = zero_list_m_0[zero_list_m_0>0]\n",
    "    zero_list_m_0_m         = zero_list_m_0[zero_list_m_0<0]\n",
    "    if len(zero_list_m_0_p) > 0 and  len(zero_list_m_0_m) > 0 and D_arr[np.argmin(np.abs(m_arr))] > 0:\n",
    "        return (np.min(zero_list_m_0_p) - np.max(zero_list_m_0_m))*FSR * 1e-9 /100 * 0.8\n",
    "    else:\n",
    "        return 0"
   ]
  },
  {
   "cell_type": "code",
   "execution_count": 322,
   "metadata": {},
   "outputs": [],
   "source": [
    "def epsilon_func(L1,L2):\n",
    "    return (L2-L1)/(L1+L2)"
   ]
  },
  {
   "cell_type": "code",
   "execution_count": 323,
   "metadata": {},
   "outputs": [],
   "source": [
    "vernier_param_arr = (D1, D2, D_ave, M, Max_M_idx)\n",
    "param_dict  = {\n",
    "    \"title\"         : \"Resonant frequency of 2D parallel racetracks without coupling\",\n",
    "    \"ylim\"          : (-20,20),\n",
    "    \"foldername\"    : \"./results/2D parallel racetracks/\"\n",
    "}\n",
    "Resonant_freq_plot(vernier_param_arr,\n",
    "                    param_dict_ = param_dict,\n",
    "                    num_of_pts= num_of_pts)"
   ]
  },
  {
   "cell_type": "code",
   "execution_count": 324,
   "metadata": {},
   "outputs": [],
   "source": [
    "L_small_coupling    = 0.3 / g0\n",
    "Y_p_Small           = Reson_freq(m_arr_intp,D_ave,g_arr_intp,L_small_coupling,epsilon)\n",
    "Y_m_Small           = -Reson_freq(m_arr_intp,D_ave,g_arr_intp,L_small_coupling,epsilon)\n",
    "L_large_coupling    = 0.8 /g0\n",
    "Y_p_Large           = Reson_freq(m_arr_intp,D_ave,g_arr_intp,L_large_coupling,epsilon)\n",
    "Y_m_Large           = -Reson_freq(m_arr_intp,D_ave,g_arr_intp,L_large_coupling,epsilon)\n",
    "data_arr            = np.c_[Y_p_Small,Y_m_Small,Y_p_Large,Y_m_Large]\n",
    "data_label_arr      = [\"\",\"Supermodes when gL = \"+\"{:.1f}\".format(g0*L_small_coupling)\n",
    "                        ,\"\",\"Supermodes when gL = \"+\"{:.1f}\".format(g0*L_large_coupling)]\n",
    "param_dict  = {\n",
    "    \"alpha_list\"     : [1]*14+[0.6,0.6]+[1]*4,\n",
    "    \"ylim\"          : (-20,20),\n",
    "    \"title\"         : \"Resonant frequency of 2D parallel racetracks if coupled\",\n",
    "    \"foldername\"    : \"./results/2D parallel racetracks/\"\n",
    "}\n",
    "Resonant_freq_plot(vernier_param_arr,\n",
    "                    coupled_data_arr=data_arr,\n",
    "                    coupled_data_label_arr=data_label_arr,\n",
    "                    param_dict_ = param_dict,\n",
    "                    num_of_pts=num_of_pts)\n"
   ]
  },
  {
   "cell_type": "code",
   "execution_count": 325,
   "metadata": {},
   "outputs": [],
   "source": [
    "# Dispersion of isolated resonator\n",
    "\n",
    "# D_iso   = -668                                # unit: ps/nm/km\n",
    "# n_g     = 1.59367\n",
    "# beta_2  = -1550**2/(2*np.pi*c) * D_iso *1e-9  # unit: ps^2/nm\n",
    "# D_2     = -c* (D_ave*1e-12)**2* beta_2 / n_g  # unit: 2pi * GHz\n",
    "# D_2o    = D_2*1e9                             # unit: Hz\n",
    "\n",
    "D_2o    = -283 *1e3 * 2*np.pi                   # unit: Hz\n",
    "\n",
    "D_iso   = D_2o * np.ones(np.shape(m_arr_intp[2:-2]))"
   ]
  },
  {
   "cell_type": "code",
   "execution_count": 326,
   "metadata": {},
   "outputs": [
    {
     "data": {
      "text/plain": [
       "np.float64(16.613866557595887)"
      ]
     },
     "execution_count": 326,
     "metadata": {},
     "output_type": "execute_result"
    }
   ],
   "source": [
    "D_small_couple      = Dispersion_num(m_arr_intp,Y_p_Small)\n",
    "D_large_couple      = Dispersion_num(m_arr_intp,Y_p_Large)\n",
    "\n",
    "AD_range = AD_range_func(m_arr_intp[2:-2],D_large_couple+D_iso,\n",
    "         M = M, FSR = D_ave/(2*np.pi))\n",
    "AD_range"
   ]
  },
  {
   "cell_type": "code",
   "execution_count": 327,
   "metadata": {},
   "outputs": [],
   "source": [
    "data_arr        = np.c_[D_small_couple+D_iso,D_large_couple+D_iso]\n",
    "data_arr        = (np.c_[m_arr_intp[2:-2],data_arr/1e3/(2*np.pi)],)\n",
    "data_label_arr  = [r\"$D_2$ when gL = \"+\"{:.1f}\".format(L_small_coupling*g0),\n",
    "                  r\"$D_2$ when gL = \"+\"{:.1f}\".format(L_large_coupling*g0),\n",
    "                  r\"$D_{2,o}$ (dispersion of uncoupled resonator)\"]\n",
    "\n",
    "color_list   = ['indianred']+['Orange']+['tab:blue']+['tab:green']*2+['black']*10\n",
    "# color_list   = ['navy']+['royalblue']+['tab:green']*2+['black']*10\n",
    "linestyle_list = [\"-\"]*10\n",
    "\n",
    "xticks       = np.arange(-Max_M_idx,Max_M_idx+1)\n",
    "xtickslabels = [(\"$M_0$+\" if xtick>0 else \"$M_0$\") + str(xtick) + \"M\"\n",
    "                for xtick in xticks]\n",
    "xtickslabels[int(len(xtickslabels)/2)] = \"$M_0$\"\n",
    "xticks       = np.arange(-Max_M_idx,Max_M_idx+1)*M\n",
    "yticks       = Auto_ticks(data_arr)\n",
    "param_dict   = {\"Y_legends\"     : data_label_arr,\n",
    "                \"X_label\"       :'mode number m',\n",
    "                \"Y_label\"       : r\"$D_2$/(2$\\pi$) (kHz)\",\n",
    "                \"title\"         : \"Dispersion of Mode number non-conserved coupling\",\n",
    "                \"figsize\"       : (8,6),\n",
    "                \"marker_list\"   : [\"\"]*15,\n",
    "                \"linestyle_list\": linestyle_list,\n",
    "                \"colors_list\"   : color_list,\n",
    "                \"xticks\"        : xticks,\n",
    "                \"xtickslabel\"   : xtickslabels,\n",
    "                \"yticks\"        : yticks,\n",
    "                \"xlim\"          : (-Max_M_idx*M,(Max_M_idx)*M),\n",
    "                # \"ylim\"          : (-2000,2000),\n",
    "                \"AD_region_color\"    : True,\n",
    "                \"bbox_legend\"   :(0.4,0.2),\n",
    "                \"foldername\"    : foldername\n",
    "                }\n",
    "Plot_curve(data_arr,**param_dict)\n",
    "\n"
   ]
  },
  {
   "cell_type": "code",
   "execution_count": 328,
   "metadata": {},
   "outputs": [],
   "source": [
    "gL_product_arr  = np.arange(0.1,1.6,0.01)\n",
    "Lco_arr         = gL_product_arr  / g0\n",
    "\n",
    "AD_range_arr = []\n",
    "for Lco in Lco_arr:\n",
    "    Reson_freq_arr =Reson_freq(m_arr_intp,D_ave,g_arr_intp,Lco,epsilon)\n",
    "    D_coupled_arr  = Dispersion_num(m_arr_intp,Reson_freq_arr)\n",
    "    AD_range_res   = AD_range_func(m_arr_intp[2:-2], D_coupled_arr + D_iso,\n",
    "                                    M = M, FSR = D_ave/(2*np.pi))\n",
    "    AD_range_arr.append(AD_range_res)\n",
    "\n",
    "AD_range_arr         = np.array(AD_range_arr)\n",
    "\n",
    "max_AD_range         = np.max(AD_range_arr)\n",
    "max_idx              = np.argmax(AD_range_arr)\n",
    "max_AD_range_arr_y   = np.ones(np.shape(gL_product_arr))[:max_idx] * max_AD_range\n",
    "max_AD_range_arr_x   = gL_product_arr[:max_idx]\n",
    "max_idx_range_arr_y  = np.linspace(0,max_AD_range,1000)\n",
    "max_idx_range_arr_x  = np.ones(np.shape(max_idx_range_arr_y))*gL_product_arr[max_idx]\n"
   ]
  },
  {
   "cell_type": "markdown",
   "metadata": {},
   "source": [
    "## Find the maximum anomalous dispersion range of 2D parallel racetracks"
   ]
  },
  {
   "cell_type": "code",
   "execution_count": 329,
   "metadata": {},
   "outputs": [],
   "source": [
    "data_arr        = (np.c_[gL_product_arr, AD_range_arr],\n",
    "                   np.c_[max_AD_range_arr_x,max_AD_range_arr_y],\n",
    "                   np.c_[max_idx_range_arr_x,max_idx_range_arr_y],)\n",
    "data_label_arr  = [r\"Anomalous range\",\"\",\"\"]*3\n",
    "linestyle_list  = [\"-\",\"--\",\"--\"]*3\n",
    "text            = \"Max AD range = {:.2f} nm\\n\".format(max_AD_range) +\\\n",
    "                r'$g_{co}$ $L_{co}$' +'= {:.4f}'.format(gL_product_arr[max_idx])\n",
    "param_dict = {\"Y_legends\" : data_label_arr,\n",
    "            \"X_label\"     : r'$g_{co} L_{co}$ (a.u.)',\n",
    "            \"Y_label\"     : r\"Anomalous Dispersion range (nm)\",\n",
    "            \"title\"       : \"Anomalous Dispersion range of Mode number non-conservation coupling\",\n",
    "            \"figsize\"     : (8,6),\n",
    "            \"marker_list\" : [\"\"]*15,\n",
    "            \"linestyle_list\":linestyle_list,\n",
    "            \"colors_list\" : ['tab:orange']+['tab:blue']*2+['tab:green']*2+['black']*10,\n",
    "            \"xlim\"        : (0.1,1.6),\n",
    "            # \"ylim\"        : (0,21),\n",
    "            \"AD_region_color\"  : False,\n",
    "            \"text\"        : text,\n",
    "            \"loc_text\"    : (0.7,0.8),\n",
    "            \"foldername\"  : foldername\n",
    "            }\n",
    "Plot_curve(data_arr,**param_dict)\n"
   ]
  },
  {
   "cell_type": "code",
   "execution_count": 330,
   "metadata": {},
   "outputs": [],
   "source": [
    "gL_product_arr  = np.arange(0.1,1.6,0.01)\n",
    "L2_ratio_arr    = np.arange(1.001,1.011,0.0001)\n",
    "# L2_ratio_arr    = np.linspace(L2/L1, L2/L1 ,1)\n",
    "epsilon_arr     = epsilon_func(L1, L1*L2_ratio_arr)\n",
    "Lco_arr         = gL_product_arr  / g0_exp\n",
    "AD_range_arr    = []\n",
    "for L2_ratio in L2_ratio_arr:\n",
    "    L2      = L1 * L2_ratio\n",
    "    D1      = c/(ng_1550 * L1) *2* np.pi\n",
    "    D2      = c/(ng_1550 * L2) *2* np.pi\n",
    "    D_ave   = c/(ng_1550 * (L1+L2)/2) *2 *np.pi\n",
    "    # D_ave = D1 * 0.99\n",
    "    epsilon = (L2-L1)/(L1+L2)\n",
    "    FSR = (D1-D2)/(2*epsilon)\n",
    "    M = 1/(2*epsilon)\n",
    "\n",
    "    AD_range_arr_given_L2 = []\n",
    "    for Lco in Lco_arr:\n",
    "        Reson_freq_arr = Reson_freq(m_arr_intp,D_ave,g_arr_exp,Lco,epsilon)\n",
    "        D_coupled_arr  = Dispersion_ana(m_arr_intp,D_ave,g_arr_exp,Lco,epsilon)\n",
    "        D_iso   = D_2o * np.ones(np.shape(m_arr_intp))\n",
    "        AD_range_res = AD_range_func(m_arr_intp, D_coupled_arr + D_iso,\n",
    "                                        M = M, FSR = D_ave/(2*np.pi))\n",
    "        AD_range_arr_given_L2.append(AD_range_res)\n",
    "\n",
    "    AD_range_arr.append(AD_range_arr_given_L2)\n",
    "\n",
    "AD_range_arr    = np.array(AD_range_arr)\n"
   ]
  },
  {
   "cell_type": "code",
   "execution_count": 331,
   "metadata": {},
   "outputs": [
    {
     "data": {
      "text/plain": [
       "array([47, 75])"
      ]
     },
     "execution_count": 331,
     "metadata": {},
     "output_type": "execute_result"
    }
   ],
   "source": [
    "flat_index = np.argmax(AD_range_arr)\n",
    "max_index = np.unravel_index(flat_index, np.shape(AD_range_arr))\n",
    "np.array(max_index)"
   ]
  },
  {
   "cell_type": "code",
   "execution_count": 332,
   "metadata": {},
   "outputs": [],
   "source": [
    "xticks = np.arange(0,len(gL_product_arr),10)\n",
    "yticks = np.arange(0,len(epsilon_arr),10)\n",
    "param_dict = {\n",
    "        \"point_color\"   : 'yellow',\n",
    "        \"aspect\"        : 1,\n",
    "        \"xlabel\"        : r\"$g_{co}L_{co}$\",\n",
    "        \"ylabel\"        : r\"$\\epsilon = (L_2-L_1)/(L_1+L_2)$\",\n",
    "        \"cbar_label\"    : \"Anomalous Dispersioin range (nm)\",\n",
    "        \"cbar_small_ticks\" : True,\n",
    "        \"figsize\"       : (8,6),\n",
    "        \"title\"         : \"Optimizing Anomalous Dispersioin range for 2D parallel rings\",\n",
    "        \"xticks\"        : xticks,\n",
    "        \"yticks\"        : yticks,\n",
    "        \"xtickslabel\"   : [\"{:.1f}\".format(gL) for gL in gL_product_arr[xticks]],\n",
    "        \"ytickslabel\"   : [\"{:.4f}\".format(ep) for ep in epsilon_arr[yticks]],\n",
    "        \"fontsize\"      : 8,\n",
    "        \"foldername\"    : foldername\n",
    "}\n",
    "Plot_im(AD_range_arr,\n",
    "        point_arr = np.flip(np.array(max_index).reshape(1,2)),\n",
    "        **param_dict)"
   ]
  },
  {
   "cell_type": "markdown",
   "metadata": {},
   "source": [
    "#### largest Anomalous Dispersion (AD) range"
   ]
  },
  {
   "cell_type": "code",
   "execution_count": 333,
   "metadata": {},
   "outputs": [
    {
     "data": {
      "text/plain": [
       "np.float64(16.856805640174795)"
      ]
     },
     "execution_count": 333,
     "metadata": {},
     "output_type": "execute_result"
    }
   ],
   "source": [
    "AD_range_arr[max_index]"
   ]
  },
  {
   "cell_type": "markdown",
   "metadata": {},
   "source": [
    "#### parameters when AD range is maximized"
   ]
  },
  {
   "cell_type": "code",
   "execution_count": 334,
   "metadata": {},
   "outputs": [
    {
     "data": {
      "text/plain": [
       "np.float64(0.8499999999999996)"
      ]
     },
     "execution_count": 334,
     "metadata": {},
     "output_type": "execute_result"
    }
   ],
   "source": [
    "# best g_co * L_co\n",
    "best_gL = gL_product_arr[max_index[1]]\n",
    "best_gL"
   ]
  },
  {
   "cell_type": "code",
   "execution_count": 335,
   "metadata": {},
   "outputs": [],
   "source": [
    "best_epsilon = epsilon_arr[max_index[0]]"
   ]
  },
  {
   "cell_type": "code",
   "execution_count": 336,
   "metadata": {},
   "outputs": [
    {
     "data": {
      "text/plain": [
       "np.float64(1.0056999999999994)"
      ]
     },
     "execution_count": 336,
     "metadata": {},
     "output_type": "execute_result"
    }
   ],
   "source": [
    "# best ratio L2/L1\n",
    "best_L2 = (1+best_epsilon) / ( 1-best_epsilon) * L1\n",
    "(1+best_epsilon) / ( 1-best_epsilon)"
   ]
  },
  {
   "cell_type": "code",
   "execution_count": 337,
   "metadata": {},
   "outputs": [
    {
     "data": {
      "text/plain": [
       "np.float64(0.11186238440885544)"
      ]
     },
     "execution_count": 337,
     "metadata": {},
     "output_type": "execute_result"
    }
   ],
   "source": [
    "# Difference of the FSR of the two rings\n",
    "(3*1e8/(1.6*L1) - 3*1e8/(1.6*best_L2))/1e9      #unit: GHz"
   ]
  },
  {
   "cell_type": "code",
   "execution_count": 338,
   "metadata": {},
   "outputs": [
    {
     "data": {
      "text/plain": [
       "np.float64(1.2597083390271788)"
      ]
     },
     "execution_count": 338,
     "metadata": {},
     "output_type": "execute_result"
    }
   ],
   "source": [
    "# Best coupling length Lco\n",
    "best_gL/g0 * 1e3     #unit: mm"
   ]
  },
  {
   "cell_type": "markdown",
   "metadata": {},
   "source": [
    "## Draw the optimized dispersion curve when AD range is maximum"
   ]
  },
  {
   "cell_type": "code",
   "execution_count": 339,
   "metadata": {},
   "outputs": [],
   "source": [
    "# Optimized parameters\n",
    "L2                  = L1 * (1+best_epsilon) / ( 1-best_epsilon)\n",
    "D2                  = c/(ng_1550 * L2) *2* np.pi\n",
    "D_ave               = c/(ng_1550 * (L1+L2)/2) *2 *np.pi\n",
    "L_best_coupling     = best_gL/g0\n",
    "epsilon             = (L2-L1)/(L1+L2)\n",
    "M                   = 1/(2*epsilon)"
   ]
  },
  {
   "cell_type": "code",
   "execution_count": 340,
   "metadata": {},
   "outputs": [],
   "source": [
    "# Plot settings\n",
    "Max_M_idx   = 2\n",
    "m_arr_intp  = np.linspace(-Max_M_idx*M, Max_M_idx*M, num_of_pts)"
   ]
  },
  {
   "cell_type": "code",
   "execution_count": 341,
   "metadata": {},
   "outputs": [],
   "source": [
    "D_best_couple       = Dispersion_ana(m_arr_intp,D_ave,g_arr_intp,L_best_coupling,best_epsilon)\n",
    "D_iso               = D_2o * np.ones(np.shape(m_arr_intp))"
   ]
  },
  {
   "cell_type": "code",
   "execution_count": 342,
   "metadata": {},
   "outputs": [],
   "source": [
    "text           = \"Optimized Parameters: \\n\"+ \\\n",
    "                r\"$L_2/L_1$ = {:.4f}\".format((1+best_epsilon) / ( 1-best_epsilon)) +\"\\n\" +\\\n",
    "                r\"$g_{co}L_{co}$ = \"+\"{:.2f}\".format(best_gL) + \"\\n\"+\\\n",
    "                \"Anomalous Dispersion range: {:.2f} nm\".format(AD_range_arr[max_index])\n",
    "\n",
    "data_arr       = np.flip(np.c_[D_best_couple +D_iso],axis=0)\n",
    "data_label_arr = [r\"$D_2$\"]\n",
    "linestyle_list = [\"-\"]*10\n",
    "\n",
    "data_arr     = (np.c_[m_arr_intp, data_arr/1e3/(2*np.pi)],)\n",
    "xticks       = np.arange(-Max_M_idx,Max_M_idx+0.1, 0.1)*M\n",
    "xtickslabels = np.array([\"{:.0f}\".format(3*1e8 / (freq_1550 + D_ave/(2*np.pi) * xtick) * 1e9) for xtick in xticks])\n",
    "yticks       = Auto_ticks(data_arr)\n",
    "param_dict = {\n",
    "    \"Y_legends\"     : data_label_arr,\n",
    "    \"X_label\"       : 'wavelength (nm)',\n",
    "    \"Y_label\"       : r\"$D_2$/(2$\\pi$) (kHz)\",\n",
    "    \"title\"         : \"Dispersion with optimized design of 2D parallel coupled rings\",\n",
    "    \"figsize\"       : (10,6),\n",
    "    \"marker_list\"   : [\"\"]*15,\n",
    "    \"linestyle_list\": linestyle_list,\n",
    "    \"colors_list\"   : [\"DarkOrange\"]+['Orange'],\n",
    "    \"xticks\"        : xticks,\n",
    "    \"xtickslabel\"   : np.flip(xtickslabels),\n",
    "    \"yticks\"        : yticks,\n",
    "    \"xlim\"          : (-Max_M_idx*M/2,(Max_M_idx)*M/2+1),\n",
    "    # \"ylim\"          : (-2500,3000),\n",
    "    \"AD_region_color\"    : True,\n",
    "    \"bbox_legend\"   : (0.9,0.9),\n",
    "    \"text\"          : text,\n",
    "    \"linespacing\"   : 1.5,\n",
    "    \"loc_text\"      : (0.6,0.1),\n",
    "    \"foldername\"    : foldername\n",
    "}\n",
    "Plot_curve(data_arr,**param_dict)"
   ]
  }
 ],
 "metadata": {
  "kernelspec": {
   "display_name": "Standard",
   "language": "python",
   "name": "python3"
  },
  "language_info": {
   "codemirror_mode": {
    "name": "ipython",
    "version": 3
   },
   "file_extension": ".py",
   "mimetype": "text/x-python",
   "name": "python",
   "nbconvert_exporter": "python",
   "pygments_lexer": "ipython3",
   "version": "3.13.2"
  }
 },
 "nbformat": 4,
 "nbformat_minor": 2
}
