{
 "cells": [
  {
   "cell_type": "code",
   "execution_count": 1,
   "metadata": {},
   "outputs": [],
   "source": [
    "import numpy as np\n",
    "import pandas as pd\n",
    "from Functions import *"
   ]
  },
  {
   "cell_type": "code",
   "execution_count": null,
   "metadata": {},
   "outputs": [],
   "source": [
    "# Parameters\n",
    "bend_radius = 1000      # unit:um\n",
    "\n",
    "# Load the EME simulation results\n",
    "results = load('coupling_ratio_vs_length.mat')\n",
    "results = cell2mat(struct2cell(results))\n",
    "coupler_length = results[1, :] * 1e6 # Coupler length in um\n",
    "coupling_ratio = results(2, :)\n",
    "\n",
    "# Extract amplitude and period of the coupling ratio vs. coupler length\n",
    "amplitude = max(coupling_ratio)\n",
    "pos_peaks = islocalmax(coupling_ratio)\n",
    "period = min(coupler_length(pos_peaks)) * 2\n",
    "\n",
    "# Calculate the coupling rate and propagation constant mismatch\n",
    "B = pi / period\n",
    "C = sqrt(amplitude)\n",
    "coupling_rate = C * B\n",
    "beta_mismatch = sqrt(B ^ 2 - coupling_rate ^ 2) * 2\n",
    "fprintf('Coupling rate: #.2f cm^-1 (i.e., #.2f rad/rad)\\n', coupling_rate * 1e4, coupling_rate * bend_radius)\n",
    "fprintf('Propagation constant mismatch: #.2f cm^-1 (i.e., #.2f rad/rad)\\n', beta_mismatch * 1e4, beta_mismatch * bend_radius)\n",
    "\n",
    "# Plotting parameters\n",
    "linewidth = 1\n",
    "dpi = 300\n",
    "\n",
    "# Plot the coupling ratio vs. coupler length\n",
    "figure('visible', 'off')\n",
    "plot(coupler_length, coupling_ratio, \"LineWidth\", linewidth)\n",
    "xlabel('Coupler length (um)')\n",
    "ylabel('Coupling ratio')\n",
    "title('Coupling ratio vs. coupler length')\n",
    "grid on\n",
    "f = gcf\n",
    "exportgraphics(f, 'coupling_ratio.png', 'Resolution', dpi)"
   ]
  },
  {
   "cell_type": "code",
   "execution_count": null,
   "metadata": {},
   "outputs": [],
   "source": []
  }
 ],
 "metadata": {
  "kernelspec": {
   "display_name": "Standard",
   "language": "python",
   "name": "python3"
  },
  "language_info": {
   "codemirror_mode": {
    "name": "ipython",
    "version": 3
   },
   "file_extension": ".py",
   "mimetype": "text/x-python",
   "name": "python",
   "nbconvert_exporter": "python",
   "pygments_lexer": "ipython3",
   "version": "3.13.2"
  }
 },
 "nbformat": 4,
 "nbformat_minor": 2
}
